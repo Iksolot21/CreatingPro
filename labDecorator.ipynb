{
 "cells": [
  {
   "cell_type": "markdown",
   "metadata": {},
   "source": [
    "# Декоратор (Decorator)"
   ]
  },
  {
   "cell_type": "code",
   "execution_count": 3,
   "metadata": {},
   "outputs": [
    {
     "name": "stdout",
     "output_type": "stream",
     "text": [
      "Привет\n"
     ]
    }
   ],
   "source": [
    "def hello():\n",
    "    print('Привет')\n",
    "\n",
    "x=123\n",
    "hello ## - объект функции, функция не выполнилась\n",
    "x= hello\n",
    "x()"
   ]
  },
  {
   "cell_type": "code",
   "execution_count": 4,
   "metadata": {},
   "outputs": [
    {
     "data": {
      "text/plain": [
       "50"
      ]
     },
     "execution_count": 4,
     "metadata": {},
     "output_type": "execute_result"
    }
   ],
   "source": [
    "x=lambda i: i*10\n",
    "x(5)"
   ]
  },
  {
   "cell_type": "code",
   "execution_count": 5,
   "metadata": {},
   "outputs": [
    {
     "name": "stdout",
     "output_type": "stream",
     "text": [
      "**********\n",
      "hello\n",
      "**********\n"
     ]
    }
   ],
   "source": [
    "# Стандартный декоратор\n",
    "\n",
    "def star(func):\n",
    "    def wrapper():\n",
    "        print('*' * 10)\n",
    "        func()\n",
    "        print('*'* 10)\n",
    "    return wrapper\n",
    "\n",
    "def hello():\n",
    "    print('hello')\n",
    "\n",
    "hello = star(hello)\n",
    "hello()\n"
   ]
  },
  {
   "cell_type": "code",
   "execution_count": 6,
   "metadata": {},
   "outputs": [
    {
     "name": "stdout",
     "output_type": "stream",
     "text": [
      "**********\n",
      "Пока\n",
      "**********\n"
     ]
    }
   ],
   "source": [
    "@star\n",
    "def bye():\n",
    "    print('Пока')\n",
    "bye()"
   ]
  },
  {
   "cell_type": "code",
   "execution_count": 10,
   "metadata": {},
   "outputs": [
    {
     "name": "stdout",
     "output_type": "stream",
     "text": [
      "**********\n",
      "**********\n",
      "**********\n",
      "Имя = Маша\n",
      "**********\n",
      "**********\n",
      "**********\n"
     ]
    }
   ],
   "source": [
    "# Стандартный декоратор, но функция с агрументами\n",
    "\n",
    "def star(func):\n",
    "    def wrapper(*args, **kwards):\n",
    "        print('*' * 10)\n",
    "        func(*args, **kwards)\n",
    "        print('*'* 10)\n",
    "    return wrapper\n",
    "\n",
    "@star\n",
    "\n",
    "def print_person(name):\n",
    "    print(f'Имя = {name}')\n",
    "print_person('Маша')"
   ]
  },
  {
   "cell_type": "code",
   "execution_count": 12,
   "metadata": {},
   "outputs": [
    {
     "name": "stdout",
     "output_type": "stream",
     "text": [
      "..........\n",
      "----------\n",
      "==========\n",
      "Доброе утро\n",
      "==========\n",
      "----------\n",
      "..........\n"
     ]
    }
   ],
   "source": [
    "# Декоратор с агрументами\n",
    "\n",
    "def my_select(char: str):\n",
    "    def select(func):\n",
    "        def wrapper(*args, **kwards):\n",
    "            print(char * 10)\n",
    "            func(*args, **kwards)\n",
    "            print(char * 10)\n",
    "        return wrapper\n",
    "    return select\n",
    "\n",
    "\n",
    "@my_select('.')\n",
    "@my_select('-')\n",
    "@my_select('=')\n",
    "def good_morning():\n",
    "    print('Доброе утро')\n",
    "good_morning()"
   ]
  }
 ],
 "metadata": {
  "kernelspec": {
   "display_name": "Python 3",
   "language": "python",
   "name": "python3"
  },
  "language_info": {
   "codemirror_mode": {
    "name": "ipython",
    "version": 3
   },
   "file_extension": ".py",
   "mimetype": "text/x-python",
   "name": "python",
   "nbconvert_exporter": "python",
   "pygments_lexer": "ipython3",
   "version": "3.11.9"
  }
 },
 "nbformat": 4,
 "nbformat_minor": 2
}
