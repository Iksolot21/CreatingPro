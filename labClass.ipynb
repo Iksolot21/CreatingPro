{
 "cells": [
  {
   "cell_type": "markdown",
   "metadata": {},
   "source": [
    "# Классы и объекты в Python"
   ]
  },
  {
   "cell_type": "code",
   "execution_count": 2,
   "metadata": {},
   "outputs": [
    {
     "data": {
      "text/plain": [
       "__main__.Car"
      ]
     },
     "execution_count": 2,
     "metadata": {},
     "output_type": "execute_result"
    }
   ],
   "source": [
    "class Car:\n",
    "    pass\n",
    "car = Car()"
   ]
  },
  {
   "cell_type": "markdown",
   "metadata": {},
   "source": [
    "## Атрибуты класса\n",
    "`Атрибуты класса` - это `поля` и `методы` (класса или экземпляра класса)\n",
    "\n",
    "Виды атрибутов класса:\n",
    "- Встроенные (служебные) атрибуты\n",
    "- Пользовательские атрибуты"
   ]
  },
  {
   "cell_type": "code",
   "execution_count": 8,
   "metadata": {},
   "outputs": [
    {
     "data": {
      "text/plain": [
       "['__class__',\n",
       " '__delattr__',\n",
       " '__dict__',\n",
       " '__dir__',\n",
       " '__doc__',\n",
       " '__eq__',\n",
       " '__format__',\n",
       " '__ge__',\n",
       " '__getattribute__',\n",
       " '__getstate__',\n",
       " '__gt__',\n",
       " '__hash__',\n",
       " '__init__',\n",
       " '__init_subclass__',\n",
       " '__le__',\n",
       " '__lt__',\n",
       " '__module__',\n",
       " '__ne__',\n",
       " '__new__',\n",
       " '__reduce__',\n",
       " '__reduce_ex__',\n",
       " '__repr__',\n",
       " '__setattr__',\n",
       " '__sizeof__',\n",
       " '__str__',\n",
       " '__subclasshook__',\n",
       " '__weakref__',\n",
       " 'color',\n",
       " 'run']"
      ]
     },
     "execution_count": 8,
     "metadata": {},
     "output_type": "execute_result"
    }
   ],
   "source": [
    "class Car:\n",
    "    color = 'red'\n",
    "    \n",
    "    def run(self):\n",
    "        pass\n",
    "dir(Car)"
   ]
  },
  {
   "cell_type": "markdown",
   "metadata": {},
   "source": [
    "# Поля класса\n",
    "`Поля класса` - это переменные, которые объявлены внутри класса.\n",
    "\n",
    "Виды полей класса:\n",
    "- Статические поля - поля, которые принадлежат классу\n",
    "- Динамические поля - поля, которые принадлежат каждому отдельному экземпляру класса.\n"
   ]
  },
  {
   "cell_type": "code",
   "execution_count": 10,
   "metadata": {},
   "outputs": [
    {
     "name": "stdout",
     "output_type": "stream",
     "text": [
      "Red\n",
      "green\n"
     ]
    }
   ],
   "source": [
    "# Статические поля\n",
    "class Car:\n",
    "    default_color = 'Red'\n",
    "print(Car.default_color)\n",
    "Car.default_color = 'green'\n",
    "print(Car.default_color)"
   ]
  },
  {
   "cell_type": "code",
   "execution_count": 12,
   "metadata": {},
   "outputs": [
    {
     "name": "stdout",
     "output_type": "stream",
     "text": [
      "Red\n",
      "Red\n",
      "Green\n"
     ]
    }
   ],
   "source": [
    "# Динамические поля\n",
    "\n",
    "class Car:\n",
    "    default_color = 'Red'\n",
    "\n",
    "car= Car()\n",
    "\n",
    "print(car.default_color)\n",
    "car.default_color = 'Green'\n",
    "print(Car.default_color)\n",
    "print(car.default_color)"
   ]
  },
  {
   "cell_type": "code",
   "execution_count": 13,
   "metadata": {},
   "outputs": [
    {
     "name": "stdout",
     "output_type": "stream",
     "text": [
      "Green\n"
     ]
    }
   ],
   "source": [
    "class Car:\n",
    "    def __init__(self, color) -> None:\n",
    "        self.color = color\n",
    "car = Car('Green')\n",
    "print(car.color)"
   ]
  },
  {
   "cell_type": "markdown",
   "metadata": {},
   "source": [
    "## Методы класса\n",
    "\n",
    "Методы класса - это функция, которая объявляются внутри класса.\n",
    "\n",
    "Виды методов класса:\n",
    "- Методы экземпляра класса(обычные методы)\n",
    "- Статические методы \n",
    "- Методы класса"
   ]
  },
  {
   "cell_type": "code",
   "execution_count": 20,
   "metadata": {},
   "outputs": [
    {
     "name": "stdout",
     "output_type": "stream",
     "text": [
      "Метод класса\n",
      "Статический метод\n",
      "Обычный метод\n"
     ]
    }
   ],
   "source": [
    "class Car:\n",
    "    # Обычный метод\n",
    "    def run(self, value):\n",
    "        print('Обычный метод')\n",
    "    \n",
    "    # Cтатический метод\n",
    "    @staticmethod\n",
    "    def convert(value):\n",
    "        print('Статический метод')\n",
    "    \n",
    "    # Метод класса\n",
    "    @classmethod\n",
    "    def set_default_color(cls, value):\n",
    "        print('Метод класса')\n",
    "\n",
    "Car.set_default_color('red')\n",
    "Car.convert(123)\n",
    "Car().run(5)"
   ]
  },
  {
   "cell_type": "markdown",
   "metadata": {},
   "source": [
    "## Уровни доступа атрибутов\n",
    "\n",
    "Модификаторы доступа:\n",
    "- private\n",
    "- protected\n",
    "- public"
   ]
  },
  {
   "cell_type": "code",
   "execution_count": 31,
   "metadata": {},
   "outputs": [
    {
     "name": "stdout",
     "output_type": "stream",
     "text": [
      "Сбер\n",
      "1111 2222 3333 4444\n",
      "1234\n"
     ]
    }
   ],
   "source": [
    "class Card:\n",
    "    def __init__(self, name,number,pin) -> None:\n",
    "        # public\n",
    "        self.name= name\n",
    "        # protected\n",
    "        self._number = number\n",
    "        # private \n",
    "        self.__pin = pin\n",
    "\n",
    "    #protected\n",
    "    def _set_number(self,number):\n",
    "        self._number = number\n",
    "\n",
    "    #private\n",
    "    def __set_pin(self,pin):\n",
    "        self.__pin = pin\n",
    "\n",
    "card = Card('Сбер', '1111 2222 3333 4444', '1234')\n",
    "\n",
    "print(card.name)\n",
    "print(card._number)\n",
    "# print(card.__pin) # <-- нельзя, ошибка\n",
    "print(card._Card__pin)\n",
    "card._set_number('000')\n",
    "#card._set_pin('11')\n",
    "card._Card__set_pin('222')\n"
   ]
  },
  {
   "cell_type": "code",
   "execution_count": 1,
   "metadata": {},
   "outputs": [],
   "source": [
    "from accessify import protected,private"
   ]
  },
  {
   "cell_type": "code",
   "execution_count": 8,
   "metadata": {},
   "outputs": [
    {
     "name": "stdout",
     "output_type": "stream",
     "text": [
      "Сбер\n",
      "1111 2222 3333 4444\n",
      "1234\n"
     ]
    }
   ],
   "source": [
    "class Card:\n",
    "    def __init__(self, name,number,pin) -> None:\n",
    "        # public\n",
    "        self.name= name\n",
    "        # protected\n",
    "        self._number = number\n",
    "        # private \n",
    "        self.__pin = pin\n",
    "\n",
    "    @protected\n",
    "    def _set_number(self,number):\n",
    "        self._number = number\n",
    "\n",
    "    @private\n",
    "    def __set_pin(self,pin):\n",
    "        self.__pin = pin\n",
    "\n",
    "card = Card('Сбер', '1111 2222 3333 4444', '1234')\n",
    "\n",
    "print(card.name)\n",
    "print(card._number)\n",
    "# print(card.__pin) # <-- нельзя, ошибка\n",
    "print(card._Card__pin)\n",
    "##card._set_number('000')\n",
    "#card._set_pin('11')\n",
    "##card._Card__set_pin('222')"
   ]
  },
  {
   "cell_type": "markdown",
   "metadata": {},
   "source": [
    "## Свойства \n"
   ]
  },
  {
   "cell_type": "code",
   "execution_count": 11,
   "metadata": {},
   "outputs": [
    {
     "name": "stdout",
     "output_type": "stream",
     "text": [
      "19\n",
      "21\n"
     ]
    }
   ],
   "source": [
    "# Использование методов для имитации свойства\n",
    "\n",
    "class Person:\n",
    "    def __init__(self, age) -> None:\n",
    "        self.__age = age\n",
    "\n",
    "    def get_age(self):\n",
    "        return self.__age\n",
    "    \n",
    "    def set_age(self,age):\n",
    "        self.__age = age\n",
    "\n",
    "person = Person(age=19)\n",
    "print(person.get_age())\n",
    "person.set_age(21)\n",
    "print(person.get_age())\n",
    "\n",
    "    "
   ]
  },
  {
   "cell_type": "code",
   "execution_count": 14,
   "metadata": {},
   "outputs": [
    {
     "name": "stdout",
     "output_type": "stream",
     "text": [
      "19\n",
      "21\n"
     ]
    }
   ],
   "source": [
    "# Свойства \n",
    "class Person:\n",
    "    def __init__(self, age) -> None:\n",
    "        self.__age = age\n",
    "\n",
    "    def _get_age(self):\n",
    "        return self.__age\n",
    "    \n",
    "    def _set_age(self,age):\n",
    "        self.__age = age\n",
    "\n",
    "    age = property(\n",
    "        fset=_set_age,\n",
    "        fget=_get_age,\n",
    "        doc='Возвраст'\n",
    "    )\n",
    "person = Person(age=19)\n",
    "print(person.age)\n",
    "person.age =21\n",
    "print(person.age)"
   ]
  },
  {
   "cell_type": "markdown",
   "metadata": {},
   "source": [
    "#TODO"
   ]
  }
 ],
 "metadata": {
  "kernelspec": {
   "display_name": "Python 3",
   "language": "python",
   "name": "python3"
  },
  "language_info": {
   "codemirror_mode": {
    "name": "ipython",
    "version": 3
   },
   "file_extension": ".py",
   "mimetype": "text/x-python",
   "name": "python",
   "nbconvert_exporter": "python",
   "pygments_lexer": "ipython3",
   "version": "3.11.9"
  }
 },
 "nbformat": 4,
 "nbformat_minor": 2
}
