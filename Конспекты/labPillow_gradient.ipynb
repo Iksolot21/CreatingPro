{
 "cells": [
  {
   "cell_type": "markdown",
   "metadata": {},
   "source": [
    "# Градиент в Pillow"
   ]
  },
  {
   "cell_type": "code",
   "execution_count": 6,
   "metadata": {},
   "outputs": [],
   "source": [
    "from PIL import Image\n",
    "from PIL import ImageDraw"
   ]
  },
  {
   "cell_type": "code",
   "execution_count": 4,
   "metadata": {},
   "outputs": [
    {
     "data": {
      "image/jpeg": "[encoded data removed]",
      "image/png": "[encoded data removed]",
      "text/plain": [
       "<PIL.Image.Image image mode=L size=400x50>"
      ]
     },
     "metadata": {},
     "output_type": "display_data"
    },
    {
     "data": {
      "image/jpeg": "[encoded data removed]",
      "image/png": "[encoded data removed]",
      "text/plain": [
       "<PIL.Image.Image image mode=L size=400x50>"
      ]
     },
     "metadata": {},
     "output_type": "display_data"
    },
    {
     "data": {
      "image/jpeg": "[encoded data removed]",
      "image/png": "[encoded data removed]",
      "text/plain": [
       "<PIL.Image.Image image mode=L size=400x50>"
      ]
     },
     "metadata": {},
     "output_type": "display_data"
    }
   ],
   "source": [
    "display(Image.linear_gradient('L').resize((400,50)))\n",
    "display(Image.linear_gradient('L').rotate(90).resize((400,50)))\n",
    "display(Image.radial_gradient('L').rotate(90).resize((400,50)))"
   ]
  },
  {
   "cell_type": "code",
   "execution_count": 17,
   "metadata": {},
   "outputs": [
    {
     "name": "stdout",
     "output_type": "stream",
     "text": [
      "[-0.51, 0.51, 0.0]\n"
     ]
    },
    {
     "data": {
      "image/jpeg": "[encoded data removed]",
      "image/png": "[encoded data removed]",
      "text/plain": [
       "<PIL.Image.Image image mode=RGB size=500x100>"
      ]
     },
     "execution_count": 17,
     "metadata": {},
     "output_type": "execute_result"
    }
   ],
   "source": [
    "im = Image.new(mode='RGB', size=(500,100))\n",
    "draw = ImageDraw.Draw(im)\n",
    "\n",
    "color_1=(255,0,255)\n",
    "color_2=(0,255,255)\n",
    "\n",
    "# delta = (\n",
    "    #(color_2[0]- color_1[0])/im.width,\n",
    "    #(color_2[1] - color_1[1])/im.width,\n",
    "    #(color_2[1] - color_1[2])/im.width\n",
    "#)\n",
    "delta=[(color_2[i] - color_1[i])/ im.width for i in range(len(color_1))]\n",
    "print(delta)\n",
    "pixel = im.load()\n",
    "\n",
    "color_temp=list(color_1)\n",
    "for x in range(im.width):\n",
    "        for i in range(len(color_temp)):\n",
    "            color_temp[i] +=delta[i]\n",
    "        color_temp_int= tuple((int(i) for i in color_temp))\n",
    "        for y in range(im.height):\n",
    "            #(1)ХУЖЕ\n",
    "            #draw.point((x,y), fill=color_temp_int)\n",
    "            #(2) лучше\n",
    "            pixel[x,y] = color_temp_int            \n",
    "im"
   ]
  }
 ],
 "metadata": {
  "kernelspec": {
   "display_name": "Python 3",
   "language": "python",
   "name": "python3"
  },
  "language_info": {
   "codemirror_mode": {
    "name": "ipython",
    "version": 3
   },
   "file_extension": ".py",
   "mimetype": "text/x-python",
   "name": "python",
   "nbconvert_exporter": "python",
   "pygments_lexer": "ipython3",
   "version": "3.11.9"
  }
 },
 "nbformat": 4,
 "nbformat_minor": 2
}
