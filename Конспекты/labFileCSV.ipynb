{
 "cells": [
  {
   "cell_type": "markdown",
   "metadata": {},
   "source": [
    "# Работа с CVS-файлами\n",
    "\n",
    "Типы текстовых форматов CSV-файлов\n",
    "* CSV - разделитель запятая\n",
    "* TSV - разделитель табуляция\n",
    "* SCSV - разделитель точка с запятой\n",
    "* разделитель может быть любой символ"
   ]
  },
  {
   "cell_type": "code",
   "execution_count": 2,
   "metadata": {},
   "outputs": [],
   "source": [
    "import csv"
   ]
  },
  {
   "cell_type": "code",
   "execution_count": 3,
   "metadata": {},
   "outputs": [],
   "source": [
    "import os\n",
    "TEMP_DIR = 'temp'\n",
    "if not os.path.exists(TEMP_DIR):\n",
    "    os.mkdir(TEMP_DIR)"
   ]
  },
  {
   "cell_type": "code",
   "execution_count": 4,
   "metadata": {},
   "outputs": [],
   "source": [
    "my_data = [\n",
    "    ['Фамилия', 'Имя', 'Возраст'],\n",
    "    ['Петров', 'Петя', 22],\n",
    "    ['Сидоров', 'Ян', 18]\n",
    "]"
   ]
  },
  {
   "cell_type": "code",
   "execution_count": 5,
   "metadata": {},
   "outputs": [],
   "source": [
    "with open(os.path.join(TEMP_DIR, 'temp_CSV.csv'), mode='w') as f:\n",
    "    writer = csv.writer(f,lineterminator='\\n')\n",
    "    writer.writerow(my_data)"
   ]
  },
  {
   "cell_type": "code",
   "execution_count": 6,
   "metadata": {},
   "outputs": [],
   "source": [
    "with open(os.path.join(TEMP_DIR, 'temp_CSV_utf-8.csv'), mode='w', encoding='utf-8') as f:\n",
    "    writer = csv.writer(f, lineterminator='\\n')\n",
    "    writer.writerow(my_data)"
   ]
  },
  {
   "cell_type": "code",
   "execution_count": 7,
   "metadata": {},
   "outputs": [],
   "source": [
    "with open(os.path.join(TEMP_DIR, 'temp_CSV.csv'), mode='w') as f:\n",
    "    writer = csv.writer(f,lineterminator='\\n', delimiter=';')\n",
    "    writer.writerow(my_data)"
   ]
  },
  {
   "cell_type": "code",
   "execution_count": 8,
   "metadata": {},
   "outputs": [
    {
     "name": "stdout",
     "output_type": "stream",
     "text": [
      "[\"['Фамилия', 'Имя', 'Возраст']\", \"['Петров', 'Петя', 22]\", \"['Сидоров', 'Ян', 18]\"]\n"
     ]
    }
   ],
   "source": [
    "with open(os.path.join(TEMP_DIR, 'temp_CSV.csv')) as f:\n",
    "    reader = csv.reader(f, delimiter=';')\n",
    "    for line in reader:\n",
    "        print(line)"
   ]
  },
  {
   "cell_type": "code",
   "execution_count": 9,
   "metadata": {},
   "outputs": [],
   "source": [
    "with open(os.path.join(TEMP_DIR, 'temp_CSV.csv')) as f:\n",
    "    reader = csv.DictReader(f, delimiter=';')\n",
    "    for line in reader:\n",
    "        print(line)"
   ]
  }
 ],
 "metadata": {
  "kernelspec": {
   "display_name": "Python 3",
   "language": "python",
   "name": "python3"
  },
  "language_info": {
   "codemirror_mode": {
    "name": "ipython",
    "version": 3
   },
   "file_extension": ".py",
   "mimetype": "text/x-python",
   "name": "python",
   "nbconvert_exporter": "python",
   "pygments_lexer": "ipython3",
   "version": "3.11.9"
  }
 },
 "nbformat": 4,
 "nbformat_minor": 2
}
