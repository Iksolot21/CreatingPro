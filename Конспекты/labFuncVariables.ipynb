{
 "cells": [
  {
   "cell_type": "markdown",
   "metadata": {},
   "source": [
    "# Область видимости \n",
    "\n",
    "Правило LEGB:\n",
    "- локальные \n",
    "- вложенные\n",
    "- глобальный\n",
    "- встроенные"
   ]
  },
  {
   "cell_type": "code",
   "execution_count": 1,
   "metadata": {},
   "outputs": [
    {
     "name": "stdout",
     "output_type": "stream",
     "text": [
      "{'name': 'Ваня', 'age': 18}\n"
     ]
    }
   ],
   "source": [
    "def func():\n",
    "    name = 'Ваня'\n",
    "    age = 18\n",
    "    print(locals())\n",
    "\n",
    "func()"
   ]
  },
  {
   "cell_type": "code",
   "execution_count": 2,
   "metadata": {},
   "outputs": [
    {
     "data": {
      "text/plain": [
       "{'__name__': '__main__',\n",
       " '__doc__': 'Automatically created module for IPython interactive environment',\n",
       " '__package__': None,\n",
       " '__loader__': None,\n",
       " '__spec__': None,\n",
       " '__builtin__': <module 'builtins' (built-in)>,\n",
       " '__builtins__': <module 'builtins' (built-in)>,\n",
       " '_ih': ['',\n",
       "  \"def func():\\n    name = 'Ваня'\\n    age = 18\\n    print(locals())\\n\\nfunc()\",\n",
       "  'globals()'],\n",
       " '_oh': {},\n",
       " '_dh': [WindowsPath('c:/Users/артем/Desktop/док. учёба/CreatingPro'),\n",
       "  WindowsPath('c:/Users/артем/Desktop/док. учёба/CreatingPro')],\n",
       " 'In': ['',\n",
       "  \"def func():\\n    name = 'Ваня'\\n    age = 18\\n    print(locals())\\n\\nfunc()\",\n",
       "  'globals()'],\n",
       " 'Out': {},\n",
       " 'get_ipython': <bound method InteractiveShell.get_ipython of <ipykernel.zmqshell.ZMQInteractiveShell object at 0x0000027B38593950>>,\n",
       " 'exit': <IPython.core.autocall.ZMQExitAutocall at 0x27b385a3c90>,\n",
       " 'quit': <IPython.core.autocall.ZMQExitAutocall at 0x27b385a3c90>,\n",
       " 'open': <function io.open(file, mode='r', buffering=-1, encoding=None, errors=None, newline=None, closefd=True, opener=None)>,\n",
       " '_': '',\n",
       " '__': '',\n",
       " '___': '',\n",
       " '__vsc_ipynb_file__': 'c:\\\\Users\\\\артем\\\\Desktop\\\\док. учёба\\\\CreatingPro\\\\labFuncVariables.ipynb',\n",
       " '_i': \"def func():\\n    name = 'Ваня'\\n    age = 18\\n    print(locals())\\n\\nfunc()\",\n",
       " '_ii': '',\n",
       " '_iii': '',\n",
       " '_i1': \"def func():\\n    name = 'Ваня'\\n    age = 18\\n    print(locals())\\n\\nfunc()\",\n",
       " 'func': <function __main__.func()>,\n",
       " '_i2': 'globals()'}"
      ]
     },
     "execution_count": 2,
     "metadata": {},
     "output_type": "execute_result"
    }
   ],
   "source": [
    "globals()"
   ]
  },
  {
   "cell_type": "code",
   "execution_count": 5,
   "metadata": {},
   "outputs": [
    {
     "name": "stdout",
     "output_type": "stream",
     "text": [
      "90\n"
     ]
    }
   ],
   "source": [
    "x = 1\n",
    "for i in range(10):\n",
    "    x = i*10\n",
    "print(x)"
   ]
  },
  {
   "cell_type": "code",
   "execution_count": 6,
   "metadata": {},
   "outputs": [
    {
     "name": "stdout",
     "output_type": "stream",
     "text": [
      "1\n"
     ]
    }
   ],
   "source": [
    "x = 1\n",
    "\n",
    "def func():\n",
    "    x = 10\n",
    "\n",
    "func()\n",
    "print(x)"
   ]
  },
  {
   "cell_type": "code",
   "execution_count": 9,
   "metadata": {},
   "outputs": [
    {
     "name": "stdout",
     "output_type": "stream",
     "text": [
      "10\n",
      "20\n"
     ]
    }
   ],
   "source": [
    "x = 1\n",
    "\n",
    "def func():\n",
    "    global x\n",
    "    x = 10\n",
    "    global y\n",
    "    y=20\n",
    "\n",
    "func()\n",
    "print(x)\n",
    "print(y)"
   ]
  },
  {
   "cell_type": "code",
   "execution_count": 12,
   "metadata": {},
   "outputs": [
    {
     "name": "stdout",
     "output_type": "stream",
     "text": [
      "func_in: x=3, y=3, z=3\n",
      "func_out : x=1,y=1,z=1\n",
      "global : x=1,y=1,z=1\n"
     ]
    }
   ],
   "source": [
    "x = y = z = 1\n",
    "\n",
    "def func_out():\n",
    "    def func_in():\n",
    "        x = 3\n",
    "        y = 3\n",
    "        z = 3\n",
    "        print(f'func_in: {x=}, {y=}, {z=}')\n",
    "\n",
    "    func_in()\n",
    "    print(f'func_out : {x=},{y=},{z=}')\n",
    "\n",
    "func_out()\n",
    "print(f'global : {x=},{y=},{z=}')"
   ]
  },
  {
   "cell_type": "markdown",
   "metadata": {},
   "source": [
    "## Замыкание\n",
    "\n",
    "`Замыкание` - функция, которая находится внутри другой функции и ссылается на переменные в теле внешней функции"
   ]
  },
  {
   "cell_type": "code",
   "execution_count": 13,
   "metadata": {},
   "outputs": [],
   "source": [
    "def create_counter():\n",
    "    count = 0\n",
    "\n",
    "    def counter():\n",
    "        nonlocal count\n",
    "        count +=1\n",
    "        return count\n",
    "    return counter"
   ]
  },
  {
   "cell_type": "code",
   "execution_count": 14,
   "metadata": {},
   "outputs": [
    {
     "name": "stdout",
     "output_type": "stream",
     "text": [
      "1\n",
      "2\n",
      "3\n",
      "1\n",
      "2\n"
     ]
    }
   ],
   "source": [
    "counter_1= create_counter()\n",
    "print(counter_1())\n",
    "print(counter_1())\n",
    "print(counter_1())\n",
    "counter_2 = create_counter()\n",
    "print(counter_2())\n",
    "print(counter_2())"
   ]
  }
 ],
 "metadata": {
  "kernelspec": {
   "display_name": "Python 3",
   "language": "python",
   "name": "python3"
  },
  "language_info": {
   "codemirror_mode": {
    "name": "ipython",
    "version": 3
   },
   "file_extension": ".py",
   "mimetype": "text/x-python",
   "name": "python",
   "nbconvert_exporter": "python",
   "pygments_lexer": "ipython3",
   "version": "3.11.9"
  }
 },
 "nbformat": 4,
 "nbformat_minor": 2
}
