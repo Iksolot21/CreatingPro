{
 "cells": [
  {
   "cell_type": "markdown",
   "metadata": {},
   "source": [
    "# Модуль humanize - улуччшайзер простых данных"
   ]
  },
  {
   "cell_type": "code",
   "execution_count": 1,
   "metadata": {},
   "outputs": [],
   "source": [
    "import humanize\n",
    "import datetime as dt"
   ]
  },
  {
   "cell_type": "code",
   "execution_count": 5,
   "metadata": {},
   "outputs": [
    {
     "name": "stdout",
     "output_type": "stream",
     "text": [
      "12,345\n",
      "12.3 thousand\n",
      "four\n"
     ]
    }
   ],
   "source": [
    "print(humanize.intcomma(12345))\n",
    "print(humanize.intword(12345))\n",
    "print(humanize.apnumber(4))"
   ]
  },
  {
   "cell_type": "code",
   "execution_count": 8,
   "metadata": {},
   "outputs": [
    {
     "name": "stdout",
     "output_type": "stream",
     "text": [
      "1.0 GB\n",
      "953.7 MiB\n"
     ]
    }
   ],
   "source": [
    "print(humanize.naturalsize(1_000_000_000))\n",
    "print(humanize.naturalsize(1_000_000_000, binary=True))"
   ]
  },
  {
   "cell_type": "code",
   "execution_count": 14,
   "metadata": {},
   "outputs": [
    {
     "name": "stdout",
     "output_type": "stream",
     "text": [
      "12,345\n",
      "12.3 тысяч\n",
      "четыре\n",
      "1.0 GB\n",
      "953.7 MiB\n",
      "Dec 04 2010\n",
      "2 days, 0:00:03\n",
      "3 seconds ago\n"
     ]
    }
   ],
   "source": [
    "humanize.i18n.activate('ru_RU')\n",
    "print(humanize.intcomma(12345))\n",
    "print(humanize.intword(12345))\n",
    "print(humanize.apnumber(4))\n",
    "print(humanize.naturalsize(1_000_000_000))\n",
    "print(humanize.naturalsize(1_000_000_000, binary=True))\n",
    "print(humanize.naturaldate(dt.date(2010,12,4)))\n",
    "print(humanize.naturaldate(dt.timedelta(days=2, seconds=3)))\n",
    "\n",
    "humanize.i18n.deactivate()\n",
    "print(humanize.naturaltime(dt.timedelta(seconds=3)))"
   ]
  }
 ],
 "metadata": {
  "kernelspec": {
   "display_name": "Python 3",
   "language": "python",
   "name": "python3"
  },
  "language_info": {
   "codemirror_mode": {
    "name": "ipython",
    "version": 3
   },
   "file_extension": ".py",
   "mimetype": "text/x-python",
   "name": "python",
   "nbconvert_exporter": "python",
   "pygments_lexer": "ipython3",
   "version": "3.11.9"
  }
 },
 "nbformat": 4,
 "nbformat_minor": 2
}
