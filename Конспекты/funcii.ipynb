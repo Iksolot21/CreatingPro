{
 "cells": [
  {
   "cell_type": "markdown",
   "metadata": {},
   "source": [
    "Именная функция, инструкция def"
   ]
  },
  {
   "cell_type": "code",
   "execution_count": null,
   "metadata": {},
   "outputs": [],
   "source": [
    "def show_name():\n",
    "    print('Маша')\n",
    "show_name()\n",
    "show_name()"
   ]
  },
  {
   "cell_type": "code",
   "execution_count": 2,
   "metadata": {},
   "outputs": [
    {
     "name": "stdout",
     "output_type": "stream",
     "text": [
      "Юра\n",
      "Юра\n"
     ]
    }
   ],
   "source": [
    "def get_name():\n",
    "    return \"Юра\"\n",
    "print(get_name())\n",
    "r= get_name()\n",
    "print(r)"
   ]
  },
  {
   "cell_type": "code",
   "execution_count": null,
   "metadata": {},
   "outputs": [],
   "source": [
    "def do_nothing():\n",
    "    pass"
   ]
  },
  {
   "cell_type": "code",
   "execution_count": 4,
   "metadata": {},
   "outputs": [
    {
     "name": "stdout",
     "output_type": "stream",
     "text": [
      "23\n",
      "221\n"
     ]
    }
   ],
   "source": [
    "def sum1(a,b):\n",
    "    return a+b\n",
    "#позиционные аргументы\n",
    "print(sum1(2,21))\n",
    "print(sum1('2','21'))"
   ]
  },
  {
   "cell_type": "code",
   "execution_count": 5,
   "metadata": {},
   "outputs": [
    {
     "name": "stdout",
     "output_type": "stream",
     "text": [
      "15\n"
     ]
    }
   ],
   "source": [
    "#именованные аргументы\n",
    "print(sum1(a=10,b=5))"
   ]
  },
  {
   "cell_type": "code",
   "execution_count": 6,
   "metadata": {},
   "outputs": [
    {
     "name": "stdout",
     "output_type": "stream",
     "text": [
      "8\n",
      "6\n"
     ]
    }
   ],
   "source": [
    "def sum2(a,b, c=5):\n",
    "    return a+b+c\n",
    "print(sum2(1,2))\n",
    "print(sum2(1,2,3))"
   ]
  },
  {
   "cell_type": "code",
   "execution_count": 7,
   "metadata": {},
   "outputs": [
    {
     "name": "stdout",
     "output_type": "stream",
     "text": [
      "(1, 4, 'ew', 3.14)\n",
      "4\n"
     ]
    }
   ],
   "source": [
    "def shoow_params1(*args):\n",
    "    print(args)\n",
    "    print(args[1])\n",
    "    pass\n",
    "shoow_params1(1,4,'ew',3.14)"
   ]
  },
  {
   "cell_type": "code",
   "execution_count": 9,
   "metadata": {},
   "outputs": [
    {
     "name": "stdout",
     "output_type": "stream",
     "text": [
      "{'a': 1, 'b': 2, 'c': 'Привет'}\n",
      "Привет\n"
     ]
    }
   ],
   "source": [
    "def show_params2(**kwargs):\n",
    "    print(kwargs)\n",
    "    print(kwargs['c'])\n",
    "show_params2(a=1,b=2,c='Привет')"
   ]
  },
  {
   "cell_type": "code",
   "execution_count": null,
   "metadata": {},
   "outputs": [],
   "source": [
    "#Аннотация типов (подсказка для программистов, способ комментирования)\n",
    "def sum3(a: int,b: int) ->int:\n",
    "    return a+b\n",
    "print(sum3(10,20))"
   ]
  },
  {
   "cell_type": "markdown",
   "metadata": {},
   "source": []
  }
 ],
 "metadata": {
  "kernelspec": {
   "display_name": "Python 3",
   "language": "python",
   "name": "python3"
  },
  "language_info": {
   "codemirror_mode": {
    "name": "ipython",
    "version": 3
   },
   "file_extension": ".py",
   "mimetype": "text/x-python",
   "name": "python",
   "nbconvert_exporter": "python",
   "pygments_lexer": "ipython3",
   "version": "3.11.5"
  }
 },
 "nbformat": 4,
 "nbformat_minor": 2
}
