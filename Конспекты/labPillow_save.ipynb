{
 "cells": [
  {
   "cell_type": "markdown",
   "metadata": {},
   "source": [
    "# Сохранить изображение"
   ]
  },
  {
   "cell_type": "code",
   "execution_count": 1,
   "metadata": {},
   "outputs": [],
   "source": [
    "from PIL import Image"
   ]
  },
  {
   "cell_type": "code",
   "execution_count": 2,
   "metadata": {},
   "outputs": [],
   "source": [
    "im= Image.open('image.jpg')"
   ]
  },
  {
   "cell_type": "code",
   "execution_count": 4,
   "metadata": {},
   "outputs": [],
   "source": [
    "im.save('temp/image_png.png')\n",
    "im.save('temp/image_bmp.bmp')\n",
    "im.save('temp/image_jpeg.jpeg', fortmat='jpeg')\n",
    "im.save('temp/image_webp.webp', fortmat='webp')"
   ]
  },
  {
   "cell_type": "markdown",
   "metadata": {},
   "source": [
    "# Узнать размер изображения из ОЗУ"
   ]
  },
  {
   "cell_type": "code",
   "execution_count": 5,
   "metadata": {},
   "outputs": [],
   "source": [
    "from io import BytesIO"
   ]
  },
  {
   "cell_type": "code",
   "execution_count": 10,
   "metadata": {},
   "outputs": [
    {
     "name": "stdout",
     "output_type": "stream",
     "text": [
      "Размер BMP = 2277054 bytes\n",
      "Размер PNG = 1005202 bytes\n",
      "Размер JPEG = 120059 bytes\n",
      "Размер WEBP = 90500 bytes\n"
     ]
    }
   ],
   "source": [
    "f_bmp = BytesIO()\n",
    "f_png = BytesIO()\n",
    "f_jpeg = BytesIO()\n",
    "f_webp = BytesIO()\n",
    "\n",
    "im.save(f_bmp, format='bmp')\n",
    "im.save(f_png, format='png')\n",
    "im.save(f_jpeg, format='jpeg')\n",
    "im.save(f_webp, format='webp')\n",
    "\n",
    "print(f'Размер BMP = {f_bmp.tell()} bytes')\n",
    "print(f'Размер PNG = {f_png.tell()} bytes')\n",
    "print(f'Размер JPEG = {f_jpeg.tell()} bytes')\n",
    "print(f'Размер WEBP = {f_webp.tell()} bytes')"
   ]
  },
  {
   "cell_type": "code",
   "execution_count": 20,
   "metadata": {},
   "outputs": [],
   "source": [
    "def get_image_file_size(im: Image, format,quality):\n",
    "    f = BytesIO()\n",
    "    im.save(f, format=format, quality=quality)\n",
    "    return f.tell()"
   ]
  },
  {
   "cell_type": "code",
   "execution_count": 31,
   "metadata": {},
   "outputs": [
    {
     "ename": "SyntaxError",
     "evalue": "f-string: unmatched '(' (2056384036.py, line 2)",
     "output_type": "error",
     "traceback": [
      "\u001b[1;36m  Cell \u001b[1;32mIn[31], line 2\u001b[1;36m\u001b[0m\n\u001b[1;33m    print(f'Размер JPEG {i:>3} % - {get_image_file_size(im, 'jpeg',i)}:>9_bytes')\u001b[0m\n\u001b[1;37m                                                             ^\u001b[0m\n\u001b[1;31mSyntaxError\u001b[0m\u001b[1;31m:\u001b[0m f-string: unmatched '('\n"
     ]
    }
   ],
   "source": [
    "for i in range(0, 101, 5):\n",
    "    print(f'Размер JPEG {i:>3} % - {get_image_file_size(im, 'jpeg',i)}:>9_bytes')"
   ]
  },
  {
   "cell_type": "code",
   "execution_count": 27,
   "metadata": {},
   "outputs": [
    {
     "name": "stdout",
     "output_type": "stream",
     "text": [
      "Степень сжатия      JPEG    Webp\n",
      "----------------  ------  ------\n",
      "0 %                16186   11802\n",
      "5 %                20868   21092\n",
      "10 %               30412   25334\n",
      "15 %               38505   29258\n",
      "20 %               45509   32902\n",
      "25 %               51662   36336\n",
      "30 %               58107   40202\n",
      "35 %               65804   43912\n",
      "40 %               68397   47974\n",
      "45 %               71054   52388\n",
      "50 %               73691   55258\n",
      "55 %               76811   59190\n",
      "60 %               97211   62976\n",
      "65 %              108700   66066\n",
      "70 %              113286   70270\n",
      "75 %              120059   74870\n",
      "80 %              128444   90500\n",
      "85 %              141432  114128\n",
      "90 %              178275  141974\n",
      "95 %              233813  200410\n",
      "100 %             412670  265006\n"
     ]
    }
   ],
   "source": [
    "from tabulate import tabulate\n",
    "\n",
    "ta_headers = ['Степень сжатия', 'JPEG', 'Webp']\n",
    "ta_data=[]\n",
    "\n",
    "for i in range(0,101,5):\n",
    "    ta_data.append((\n",
    "        f'{i} %', \n",
    "        get_image_file_size(im,'jpeg',i),\n",
    "        get_image_file_size(im,'webp',i)\n",
    "    ))\n",
    "ta = tabulate(ta_data,headers=ta_headers)\n",
    "print(ta)"
   ]
  }
 ],
 "metadata": {
  "kernelspec": {
   "display_name": "Python 3",
   "language": "python",
   "name": "python3"
  },
  "language_info": {
   "codemirror_mode": {
    "name": "ipython",
    "version": 3
   },
   "file_extension": ".py",
   "mimetype": "text/x-python",
   "name": "python",
   "nbconvert_exporter": "python",
   "pygments_lexer": "ipython3",
   "version": "3.11.9"
  }
 },
 "nbformat": 4,
 "nbformat_minor": 2
}
