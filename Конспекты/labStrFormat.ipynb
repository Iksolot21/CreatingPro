{
 "cells": [
  {
   "cell_type": "markdown",
   "metadata": {},
   "source": [
    "# ФОРМАТИРОВАНИЕ СТРОК\n"
   ]
  },
  {
   "cell_type": "markdown",
   "metadata": {},
   "source": [
    "## Конкатенация строк"
   ]
  },
  {
   "cell_type": "code",
   "execution_count": 2,
   "metadata": {},
   "outputs": [
    {
     "name": "stdout",
     "output_type": "stream",
     "text": [
      "ПриветМаша19\n"
     ]
    }
   ],
   "source": [
    "print(\"Привет\" + \"Маша\" + str(19))\n"
   ]
  },
  {
   "cell_type": "markdown",
   "metadata": {},
   "source": [
    "## Строковый метод format"
   ]
  },
  {
   "cell_type": "code",
   "execution_count": 3,
   "metadata": {},
   "outputs": [
    {
     "name": "stdout",
     "output_type": "stream",
     "text": [
      "Привет, {}.\n",
      "Привет, Катя.\n",
      "Привет, Катя, тебе уже 19 лет\n",
      "Привет, Катя, Катя тебе уже Катя лет\n",
      "pi=3.14\n",
      "Буквы: e,w,q\n"
     ]
    }
   ],
   "source": [
    "print(\"Привет, {}.\")\n",
    "print(\"Привет, {}.\".format(\"Катя\"))\n",
    "print(\"Привет, {}, тебе уже {} лет\".format(\"Катя\",19))\n",
    "print(\"Привет, {0}, {0} тебе уже {0} лет\".format(\"Катя\",19))\n",
    "#позиционные параметры\n",
    "print(\"{var}={value}\".format(var='pi',value=3.14))\n",
    "print(\"Буквы: {2},{1},{0}\".format(*\"qwerty\"))"
   ]
  },
  {
   "cell_type": "markdown",
   "metadata": {},
   "source": [
    "## %-форматирование"
   ]
  },
  {
   "cell_type": "code",
   "execution_count": 12,
   "metadata": {},
   "outputs": [
    {
     "name": "stdout",
     "output_type": "stream",
     "text": [
      "col_12345\n",
      "Автобус № 35\n",
      "25   \n",
      "pi = 3.141500\n",
      "pi = 3.1415\n",
      "pi = 3.142\n"
     ]
    }
   ],
   "source": [
    "print(\"col_%d\" % 12345)\n",
    "print(\"%s № %d\" % (\"Автобус\",35))\n",
    "print(\"%-5d\"%25)\n",
    "print(\"pi = %f\"% 3.1415)\n",
    "print(\"pi = %.4f\"% 3.1415)\n",
    "print(\"pi = %.3f\"% 3.1415)\n"
   ]
  },
  {
   "cell_type": "markdown",
   "metadata": {},
   "source": [
    "## Template-строки"
   ]
  },
  {
   "cell_type": "code",
   "execution_count": 13,
   "metadata": {},
   "outputs": [
    {
     "name": "stdout",
     "output_type": "stream",
     "text": [
      "Меня зовут Маша. Мне 19 лет.\n"
     ]
    }
   ],
   "source": [
    "from string import Template\n",
    "name = \"Маша\"\n",
    "age = 19\n",
    "v= Template (\"Меня зовут $name. Мне $age лет.\")\n",
    "print(v.substitute(name=name,age=age))\n",
    "\n"
   ]
  },
  {
   "cell_type": "markdown",
   "metadata": {},
   "source": [
    "## f-строки (интерполированные строки)"
   ]
  },
  {
   "cell_type": "code",
   "execution_count": 17,
   "metadata": {},
   "outputs": [
    {
     "name": "stdout",
     "output_type": "stream",
     "text": [
      "Вася\n",
      "a + b =5\n",
      "3\n"
     ]
    }
   ],
   "source": [
    "name = \"Вася\"\n",
    "print(f\"{name}\")\n",
    "a=2\n",
    "b=3\n",
    "print(f\"a + b ={a+b}\")\n",
    "print(f\"{a if a>b else b}\")"
   ]
  },
  {
   "cell_type": "code",
   "execution_count": 19,
   "metadata": {},
   "outputs": [
    {
     "name": "stdout",
     "output_type": "stream",
     "text": [
      "       Привет       \n",
      "              Привет\n",
      "Привет              \n",
      "_______Привет_______\n",
      "______________Привет\n",
      "Привет______________\n"
     ]
    }
   ],
   "source": [
    "# mini - language\n",
    "print(f\"{'Привет':^20}\")\n",
    "print(f\"{'Привет':>20}\")\n",
    "print(f\"{'Привет':<20}\")\n",
    "print(f\"{'Привет':_^20}\")\n",
    "print(f\"{'Привет':_>20}\")\n",
    "print(f\"{'Привет':_<20}\")"
   ]
  },
  {
   "cell_type": "code",
   "execution_count": 22,
   "metadata": {},
   "outputs": [
    {
     "name": "stdout",
     "output_type": "stream",
     "text": [
      "11111111\n",
      "0b11111111\n",
      "ff\n",
      "0xff\n",
      "377\n",
      "0o377\n"
     ]
    }
   ],
   "source": [
    "print(f\"{255:b}\")\n",
    "print(f\"{255:#b}\")\n",
    "print(f\"{255:x}\")\n",
    "print(f\"{255:#x}\")\n",
    "print(f\"{255:o}\")\n",
    "print(f\"{255:#o}\")"
   ]
  },
  {
   "cell_type": "code",
   "execution_count": 26,
   "metadata": {},
   "outputs": [
    {
     "name": "stdout",
     "output_type": "stream",
     "text": [
      "0.3333333333333333\n",
      "0.333333\n",
      "0.33\n",
      "—\n",
      "Ӓ\n"
     ]
    }
   ],
   "source": [
    "value = 1/3\n",
    "print(value)\n",
    "print(f\"{value:f}\")\n",
    "print(f\"{value:.2f}\")\n",
    "print(f\"{8212:c}\")\n",
    "\n",
    "print(f\"{1234:c}\")"
   ]
  },
  {
   "cell_type": "code",
   "execution_count": 31,
   "metadata": {},
   "outputs": [
    {
     "name": "stdout",
     "output_type": "stream",
     "text": [
      "   15\n",
      "00015\n",
      "___15\n",
      "1_234_567_890\n",
      "1 234 567 890\n"
     ]
    }
   ],
   "source": [
    "print(f\"{15:5}\")\n",
    "print(f\"{15:05}\")\n",
    "print(f\"{15:_=5}\")\n",
    "print(f\"{1234567890:_}\")\n",
    "print(f\"{1234567890:_}\".replace('_',' '))"
   ]
  }
 ],
 "metadata": {
  "kernelspec": {
   "display_name": "Python 3",
   "language": "python",
   "name": "python3"
  },
  "language_info": {
   "codemirror_mode": {
    "name": "ipython",
    "version": 3
   },
   "file_extension": ".py",
   "mimetype": "text/x-python",
   "name": "python",
   "nbconvert_exporter": "python",
   "pygments_lexer": "ipython3",
   "version": "3.11.8"
  }
 },
 "nbformat": 4,
 "nbformat_minor": 2
}
