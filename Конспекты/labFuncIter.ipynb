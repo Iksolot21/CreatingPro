{
 "cells": [
  {
   "cell_type": "markdown",
   "metadata": {},
   "source": [
    "# Функция итератор"
   ]
  },
  {
   "cell_type": "code",
   "execution_count": 5,
   "metadata": {},
   "outputs": [
    {
     "name": "stdout",
     "output_type": "stream",
     "text": [
      "['Гомель', 'Брест', 'Орша']\n",
      "<class 'list_iterator'>\n",
      "Гомель\n",
      "Брест\n",
      "Орша\n"
     ]
    }
   ],
   "source": [
    "cities = 'Гомель, Брест, Орша'.split(', ')\n",
    "print(cities)\n",
    "it = iter(cities)\n",
    "print(type(it))\n",
    "print(next(it))\n",
    "print(next(it))\n",
    "print(next(it))\n",
    "#print(next(it)) #<-- ошибка StopIterator\n"
   ]
  },
  {
   "cell_type": "code",
   "execution_count": 6,
   "metadata": {},
   "outputs": [
    {
     "name": "stdout",
     "output_type": "stream",
     "text": [
      "Гомель\n",
      "Брест\n"
     ]
    }
   ],
   "source": [
    "it= iter(cities)\n",
    "print(it.__next__())\n",
    "print(it.__next__())\n",
    "print(it.__iter__())\n"
   ]
  },
  {
   "cell_type": "code",
   "execution_count": 7,
   "metadata": {},
   "outputs": [
    {
     "name": "stdout",
     "output_type": "stream",
     "text": [
      "Гомель\n",
      "Брест\n",
      "Орша\n"
     ]
    }
   ],
   "source": [
    "for city in iter(cities):\n",
    "    print(city)"
   ]
  },
  {
   "cell_type": "code",
   "execution_count": 8,
   "metadata": {},
   "outputs": [
    {
     "name": "stdout",
     "output_type": "stream",
     "text": [
      "h\n",
      "e l l o\n"
     ]
    }
   ],
   "source": [
    "it = iter(\"hello\")\n",
    "print(next(it))\n",
    "print(*it)"
   ]
  }
 ],
 "metadata": {
  "kernelspec": {
   "display_name": "Python 3",
   "language": "python",
   "name": "python3"
  },
  "language_info": {
   "codemirror_mode": {
    "name": "ipython",
    "version": 3
   },
   "file_extension": ".py",
   "mimetype": "text/x-python",
   "name": "python",
   "nbconvert_exporter": "python",
   "pygments_lexer": "ipython3",
   "version": "3.11.8"
  }
 },
 "nbformat": 4,
 "nbformat_minor": 2
}
