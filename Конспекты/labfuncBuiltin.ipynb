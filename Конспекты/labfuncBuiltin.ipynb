{
 "cells": [
  {
   "cell_type": "markdown",
   "metadata": {},
   "source": [
    "# Встроенные функции (Built- in functions)"
   ]
  },
  {
   "cell_type": "code",
   "execution_count": 3,
   "metadata": {},
   "outputs": [
    {
     "name": "stdout",
     "output_type": "stream",
     "text": [
      "[1, 2, 3, 4, 5]\n"
     ]
    }
   ],
   "source": [
    "v = \"1 2 3 4 5\"\n",
    "print(list(map(int, v.split())))\n",
    "print(list(map(float, v.split())))"
   ]
  },
  {
   "cell_type": "code",
   "execution_count": 7,
   "metadata": {},
   "outputs": [
    {
     "name": "stdout",
     "output_type": "stream",
     "text": [
      "['1', '2', '4', '5']\n",
      "[10, 20, 40, 50]\n",
      "\n",
      "['1', '2', '4', '5']\n",
      "[10, 20, 40, 50]\n"
     ]
    }
   ],
   "source": [
    "v = [1,2,4,5]\n",
    "print(list(map(str,v)))\n",
    "print(list(map(lambda i: i*10,v)))\n",
    "#или\n",
    "print()\n",
    "print([str(i) for i in v])\n",
    "print([i *10 for i in v])"
   ]
  },
  {
   "cell_type": "code",
   "execution_count": 11,
   "metadata": {},
   "outputs": [
    {
     "name": "stdout",
     "output_type": "stream",
     "text": [
      "[0, 1, 2, 3, 4, 5, 6, 7, 8, 9]\n",
      "[1, 3, 5, 7, 9]\n",
      "[4, 5, 6, 7, 8, 9]\n",
      "\n",
      "[1, 3, 5, 7, 9]\n",
      "[4, 5, 6, 7, 8, 9]\n"
     ]
    }
   ],
   "source": [
    "v = list(range(10))\n",
    "print(v)\n",
    "print(list(filter(lambda i: i%2,v)))\n",
    "print(list(filter(lambda i: i>3,v)))\n",
    "#или\n",
    "print()\n",
    "print([i for i in v if i%2])\n",
    "print([i for i in v if i>3])"
   ]
  },
  {
   "cell_type": "code",
   "execution_count": 14,
   "metadata": {},
   "outputs": [
    {
     "name": "stdout",
     "output_type": "stream",
     "text": [
      "['8', '7', '3', '1']\n"
     ]
    }
   ],
   "source": [
    "print(sorted(\"8371\", reverse=True))\n",
    "print(list(reversed(\"8371\")))"
   ]
  },
  {
   "cell_type": "code",
   "execution_count": 15,
   "metadata": {},
   "outputs": [
    {
     "name": "stdout",
     "output_type": "stream",
     "text": [
      "['Ялта,', 'Москва,', 'Воронеж']\n",
      "['Воронеж', 'Москва,', 'Ялта,']\n",
      "['Воронеж', 'Москва,', 'Ялта,']\n"
     ]
    }
   ],
   "source": [
    "v = \"Ялта, Москва, Воронеж\".split()\n",
    "print(v)\n",
    "print(sorted(v)) #создаёт новый объект\n",
    "v.sort() # на сам объект\n",
    "print(v)"
   ]
  },
  {
   "cell_type": "code",
   "execution_count": 17,
   "metadata": {},
   "outputs": [
    {
     "name": "stdout",
     "output_type": "stream",
     "text": [
      "[-6, -3, 1, 2, 4, 8]\n",
      "[1, 2, -3, 4, -6, 8]\n"
     ]
    }
   ],
   "source": [
    "v= [8,-3 ,2,-6 , 1, 4]\n",
    "print(sorted(v))\n",
    "print(sorted(v,key=abs))"
   ]
  },
  {
   "cell_type": "code",
   "execution_count": 20,
   "metadata": {},
   "outputs": [
    {
     "name": "stdout",
     "output_type": "stream",
     "text": [
      "[(0, 2), (1, 2), (2, 3), (4, 2)]\n",
      "[(1, 2), (4, 2), (0, 2), (2, 3)]\n",
      "[(0, 2), (1, 2), (4, 2), (2, 3)]\n"
     ]
    }
   ],
   "source": [
    "v= [(1,2), (2,3), (4,2),(0,2)]\n",
    "print(sorted(v))\n",
    "print(sorted(v, key =lambda i: i[1]))\n",
    "print(sorted(v, key =lambda i: (i[1], i[0])))"
   ]
  },
  {
   "cell_type": "markdown",
   "metadata": {},
   "source": [
    "# todo"
   ]
  },
  {
   "cell_type": "code",
   "execution_count": 1,
   "metadata": {},
   "outputs": [],
   "source": [
    "v= '''Карл у клары украл кораллы, \n",
    "клара у карла украла кларнет.'''"
   ]
  },
  {
   "cell_type": "code",
   "execution_count": 7,
   "metadata": {},
   "outputs": [
    {
     "name": "stdout",
     "output_type": "stream",
     "text": [
      "Карл у клары украл кораллы, \n",
      "клара у карла украла кларнет.\n",
      "'Карл у клары украл кораллы, \\nклара у карла украла кларнет.'\n",
      "['Карл', 'у', 'клары', 'украл', 'кораллы,', 'клара', 'у', 'карла', 'украла', 'кларнет.']\n",
      "['Карл у клары украл кораллы, ', 'клара у карла украла кларнет.']\n",
      "['К', 'а', 'р', 'л', ' ', 'у', ' ', 'к', 'л', 'а', 'р', 'ы', ' ', 'у', 'к', 'р', 'а', 'л', ' ', 'к', 'о', 'р', 'а', 'л', 'л', 'ы', ',', ' ', '\\n', 'к', 'л', 'а', 'р', 'а', ' ', 'у', ' ', 'к', 'а', 'р', 'л', 'а', ' ', 'у', 'к', 'р', 'а', 'л', 'а', ' ', 'к', 'л', 'а', 'р', 'н', 'е', 'т', '.']\n",
      "['\\n', 'е', 'а', 'ы', ',', 'л', 'у', 'о', 'к', 'т', '.', 'р', 'К', ' ', 'н']\n"
     ]
    }
   ],
   "source": [
    "print(v)\n",
    "print(repr(v))\n",
    "print(v.split())\n",
    "print(v.splitlines())\n",
    "print(list(v))\n",
    "print(list(set(v)))"
   ]
  },
  {
   "cell_type": "code",
   "execution_count": 12,
   "metadata": {},
   "outputs": [
    {
     "name": "stdout",
     "output_type": "stream",
     "text": [
      "['Карл', 'у', 'клары', 'украл']\n",
      "['Карл', 'карла', 'клара', 'кларнет.']\n",
      "['карла', 'клара', 'кларнет.', 'кораллы,', 'у', 'украла']\n"
     ]
    }
   ],
   "source": [
    "print(v.split()[:4])\n",
    "print(sorted(v.split())[:4])  \n",
    "print(sorted(v.split()[4:])) "
   ]
  },
  {
   "cell_type": "code",
   "execution_count": 17,
   "metadata": {},
   "outputs": [
    {
     "name": "stdout",
     "output_type": "stream",
     "text": [
      "['карл', 'карла', 'клара', 'кларнет.', 'клары', 'кораллы,', 'у', 'у', 'украл', 'украла']\n",
      "['Карл', 'карла', 'клара', 'кларнет.', 'клары', 'кораллы,', 'у', 'у', 'украл', 'украла']\n",
      "['Карл', 'карла', 'клара', 'кларнет.', 'клары', 'кораллы,', 'у', 'у', 'украл', 'украла']\n",
      "['у', 'у', 'Карл', 'клары', 'украл', 'клара', 'карла', 'украла', 'кораллы,', 'кларнет.']\n"
     ]
    }
   ],
   "source": [
    "print(sorted(v.lower().split()))\n",
    "print(sorted(v.split(), key=lambda i: str(i).lower()))\n",
    "print(sorted(v.split(), key=str.lower))\n",
    "print(sorted(v.split(), key=len))"
   ]
  },
  {
   "cell_type": "code",
   "execution_count": 19,
   "metadata": {},
   "outputs": [
    {
     "name": "stdout",
     "output_type": "stream",
     "text": [
      "['Карл', 'у', 'клары', 'украл', 'кораллы,', 'клара', 'у', 'карла', 'украла', 'кларнет.']\n",
      "['кларнет.', 'украла', 'карла', 'у', 'клара', 'кораллы,', 'украл', 'клары', 'у', 'Карл']\n",
      "<list_reverseiterator object at 0x000001B4C29110F0>\n",
      "['кларнет.', 'украла', 'карла', 'у', 'клара', 'кораллы,', 'украл', 'клары', 'у', 'Карл']\n"
     ]
    }
   ],
   "source": [
    "print(v.split())\n",
    "print(v.split()[::-1])\n",
    "print(reversed(v.split()))\n",
    "print(list(reversed(v.split())))"
   ]
  },
  {
   "cell_type": "code",
   "execution_count": 22,
   "metadata": {},
   "outputs": [
    {
     "name": "stdout",
     "output_type": "stream",
     "text": [
      "['Ка__', 'у', 'кл___', 'ук___', 'ко______', 'кл___', 'у', 'ка___', 'ук____', 'кл______']\n"
     ]
    }
   ],
   "source": [
    "print([i[:2] + '_'*len(i[2:]) for i in v.split()])"
   ]
  },
  {
   "cell_type": "code",
   "execution_count": 23,
   "metadata": {},
   "outputs": [
    {
     "name": "stdout",
     "output_type": "stream",
     "text": [
      "he___\n",
      "['Ка__', 'у', 'кл___', 'ук___', 'ко______', 'кл___', 'у', 'ка___', 'ук____', 'кл______']\n"
     ]
    }
   ],
   "source": [
    "f = lambda i: i[:2] + '_' *len(i[2:])\n",
    "print(f('hello'))\n",
    "print([f(i) for i in v.split()])"
   ]
  },
  {
   "cell_type": "code",
   "execution_count": 30,
   "metadata": {},
   "outputs": [
    {
     "name": "stdout",
     "output_type": "stream",
     "text": [
      "he___\n",
      "['Карл', 'у', 'клар_', 'укра_', 'кора____', 'клар_', 'у', 'карл_', 'укра__', 'клар____']\n",
      "Карл у клар_ укра_ кора____ клар_ у карл_ укра__ клар____\n",
      "Карл у клар_ укра_ кора____ клар_ у карл_ укра__ клар____\n",
      "Карл у клар_ укра_ кора____ клар_ у карл_ укра__ клар____\n",
      "Ка__ у кл___ ук___ ко______ кл___ у ка___ ук____ кл______\n"
     ]
    }
   ],
   "source": [
    "f = lambda i, n=2: i[:n] + '_' *len(i[n:])\n",
    "print(f('hello'))\n",
    "print([f(i, 4) for i in v.split()])\n",
    "print(*[f(i, 4) for i in v.split()])\n",
    "print(' '.join([f(i, 4) for i in v.split()]))\n",
    "print(z :=' '.join([f(i, 4) for i in v.split()]))\n",
    "print(' '.join(f(i) for i in v.split()))\n"
   ]
  },
  {
   "cell_type": "code",
   "execution_count": 31,
   "metadata": {},
   "outputs": [
    {
     "name": "stdout",
     "output_type": "stream",
     "text": [
      "['Карл у клары украл кораллы, ', 'клара у карла украла кларнет.']\n"
     ]
    }
   ],
   "source": [
    "print([i for i in v.splitlines()])"
   ]
  },
  {
   "cell_type": "code",
   "execution_count": 33,
   "metadata": {},
   "outputs": [
    {
     "name": "stdout",
     "output_type": "stream",
     "text": [
      "[['Ка__', 'у', 'кл___', 'ук___', 'ко______'], ['кл___', 'у', 'ка___', 'ук____', 'кл______']]\n",
      "['Ка__ у кл___ ук___ ко______', 'кл___ у ка___ ук____ кл______']\n",
      "Ка__ у кл___ ук___ ко______\n",
      "кл___ у ка___ ук____ кл______\n"
     ]
    }
   ],
   "source": [
    "f_word = lambda i, n=2: i[:n]+'_'*len(i[n:])\n",
    "f_line = lambda i: [f_word(i) for i in i.split()]\n",
    "print([f_line(i) for i in v.splitlines()])\n",
    "print([' '.join(f_line(i)) for i in v.splitlines()])\n",
    "print('\\n'.join([' '.join(f_line(i)) for i in v.splitlines()]))"
   ]
  },
  {
   "cell_type": "code",
   "execution_count": 37,
   "metadata": {},
   "outputs": [
    {
     "name": "stdout",
     "output_type": "stream",
     "text": [
      "Карл у клары украл кораллы клара у карла украла кларнет\n",
      "[(0, 'Карл'), (1, 'у'), (2, 'клары'), (3, 'украл'), (4, 'кораллы'), (5, 'клара'), (6, 'у'), (7, 'карла'), (8, 'украла'), (9, 'кларнет')]\n",
      "{0: 'Карл', 1: 'у', 2: 'клары', 3: 'украл', 4: 'кораллы', 5: 'клара', 6: 'у', 7: 'карла', 8: 'украла', 9: 'кларнет'}\n",
      "{0: ['К', 'а', 'р', 'л'], 1: ['у'], 2: ['к', 'л', 'а', 'р', 'ы'], 3: ['у', 'к', 'р', 'а', 'л'], 4: ['к', 'о', 'р', 'а', 'л', 'л', 'ы'], 5: ['к', 'л', 'а', 'р', 'а'], 6: ['у'], 7: ['к', 'а', 'р', 'л', 'а'], 8: ['у', 'к', 'р', 'а', 'л', 'а'], 9: ['к', 'л', 'а', 'р', 'н', 'е', 'т']}\n",
      "{0: {'л', 'р', 'К', 'а'}, 1: {'у'}, 2: {'а', 'ы', 'л', 'к', 'р'}, 3: {'а', 'л', 'у', 'к', 'р'}, 4: {'а', 'ы', 'л', 'о', 'к', 'р'}, 5: {'л', 'р', 'к', 'а'}, 6: {'у'}, 7: {'л', 'р', 'к', 'а'}, 8: {'а', 'л', 'у', 'к', 'р'}, 9: {'е', 'а', 'т', 'л', 'к', 'р', 'н'}}\n",
      "{0: ['а', 'к', 'л', 'р'], 1: ['у'], 2: ['а', 'к', 'л', 'р', 'ы'], 3: ['а', 'к', 'л', 'р', 'у'], 4: ['а', 'к', 'л', 'о', 'р', 'ы'], 5: ['а', 'к', 'л', 'р'], 6: ['у'], 7: ['а', 'к', 'л', 'р'], 8: ['а', 'к', 'л', 'р', 'у'], 9: ['а', 'е', 'к', 'л', 'н', 'р', 'т']}\n"
     ]
    }
   ],
   "source": [
    "vv=v.replace('\\n','').replace(',','').replace('.','')\n",
    "print(vv)\n",
    "print(list(enumerate(vv.split())))\n",
    "print({n: i for n, i in enumerate(vv.split())})\n",
    "print({n: list(i) for n, i in enumerate(vv.split())})\n",
    "print({n: set(i) for n, i in enumerate(vv.split())})\n",
    "print({n: sorted(set(i.lower())) for n, i in enumerate(vv.split())})"
   ]
  },
  {
   "cell_type": "code",
   "execution_count": 39,
   "metadata": {},
   "outputs": [
    {
     "name": "stdout",
     "output_type": "stream",
     "text": [
      "Карл у клары украл кораллы \n",
      "клара у карла украла кларнет\n"
     ]
    }
   ],
   "source": [
    "print(''.join(i for i in v if i not in [',','.']))"
   ]
  }
 ],
 "metadata": {
  "kernelspec": {
   "display_name": "Python 3",
   "language": "python",
   "name": "python3"
  },
  "language_info": {
   "codemirror_mode": {
    "name": "ipython",
    "version": 3
   },
   "file_extension": ".py",
   "mimetype": "text/x-python",
   "name": "python",
   "nbconvert_exporter": "python",
   "pygments_lexer": "ipython3",
   "version": "3.11.8"
  }
 },
 "nbformat": 4,
 "nbformat_minor": 2
}
