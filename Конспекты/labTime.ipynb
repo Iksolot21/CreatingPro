{
 "cells": [
  {
   "cell_type": "markdown",
   "metadata": {},
   "source": [
    "# Модуль time\n"
   ]
  },
  {
   "cell_type": "code",
   "execution_count": 1,
   "metadata": {},
   "outputs": [],
   "source": [
    "import time"
   ]
  },
  {
   "cell_type": "code",
   "execution_count": 3,
   "metadata": {},
   "outputs": [],
   "source": [
    "N_COUNT = 10_000_000"
   ]
  },
  {
   "cell_type": "code",
   "execution_count": 8,
   "metadata": {},
   "outputs": [
    {
     "name": "stdout",
     "output_type": "stream",
     "text": [
      "49999995000000\n",
      "3.3359525203704834 s\n",
      "3335.953 ms\n"
     ]
    }
   ],
   "source": [
    "tm_start= time.time()\n",
    "n_sum =0\n",
    "for i in range(N_COUNT):\n",
    "    n_sum +=i\n",
    "print(n_sum)\n",
    "tm_s = time.time()- tm_start\n",
    "print(f\"{tm_s} s\")\n",
    "print(f\"{tm_s* 1000:.03f} ms\")"
   ]
  },
  {
   "cell_type": "code",
   "execution_count": null,
   "metadata": {},
   "outputs": [
    {
     "name": "stdout",
     "output_type": "stream",
     "text": [
      "49999995000000\n",
      "3.3359525203704834 s\n",
      "3335.953 ms\n"
     ]
    }
   ],
   "source": [
    "tm_start= time.time()\n",
    "n_sum =sum (i in range(N_COUNT))\n",
    "print(n_sum)\n",
    "tm_s = time.time()- tm_start\n",
    "print(f\"{tm_s} s\")\n",
    "print(f\"{tm_s* 1000:.03f} ms\")"
   ]
  },
  {
   "cell_type": "code",
   "execution_count": 9,
   "metadata": {},
   "outputs": [
    {
     "name": "stdout",
     "output_type": "stream",
     "text": [
      "49999995000000\n",
      "1.2929904460906982 s\n",
      "1292.990 ms\n"
     ]
    }
   ],
   "source": [
    "tm_start= time.time()\n",
    "n_sum =sum(range(N_COUNT))\n",
    "print(n_sum)\n",
    "tm_s = time.time()- tm_start\n",
    "print(f\"{tm_s} s\")\n",
    "print(f\"{tm_s* 1000:.03f} ms\")"
   ]
  },
  {
   "cell_type": "code",
   "execution_count": 10,
   "metadata": {},
   "outputs": [
    {
     "name": "stdout",
     "output_type": "stream",
     "text": [
      "49999995000000\n",
      "CPU times: total: 1.34 s\n",
      "Wall time: 3.21 s\n"
     ]
    }
   ],
   "source": [
    "%%time\n",
    "n_sum =0\n",
    "for i in range(N_COUNT):\n",
    "    n_sum +=i\n",
    "print(n_sum)\n"
   ]
  },
  {
   "cell_type": "code",
   "execution_count": 13,
   "metadata": {},
   "outputs": [
    {
     "name": "stdout",
     "output_type": "stream",
     "text": [
      "1.43 s ± 84.3 ms per loop (mean ± std. dev. of 7 runs, 1 loop each)\n"
     ]
    }
   ],
   "source": [
    "def f(n_count):\n",
    "    n_sum =0\n",
    "    for i in range(n_count):\n",
    "        n_sum +=i\n",
    "    return n_sum\n",
    "%timeit f(N_COUNT)"
   ]
  },
  {
   "cell_type": "code",
   "execution_count": 14,
   "metadata": {},
   "outputs": [
    {
     "name": "stdout",
     "output_type": "stream",
     "text": [
      "1.14 ms ± 41.8 µs per loop (mean ± std. dev. of 7 runs, 1,000 loops each)\n"
     ]
    }
   ],
   "source": [
    "%timeit f(10_000)"
   ]
  }
 ],
 "metadata": {
  "kernelspec": {
   "display_name": "Python 3",
   "language": "python",
   "name": "python3"
  },
  "language_info": {
   "codemirror_mode": {
    "name": "ipython",
    "version": 3
   },
   "file_extension": ".py",
   "mimetype": "text/x-python",
   "name": "python",
   "nbconvert_exporter": "python",
   "pygments_lexer": "ipython3",
   "version": "3.11.9"
  }
 },
 "nbformat": 4,
 "nbformat_minor": 2
}
