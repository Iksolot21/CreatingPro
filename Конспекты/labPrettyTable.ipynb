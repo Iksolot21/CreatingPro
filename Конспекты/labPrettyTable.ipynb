{
 "cells": [
  {
   "cell_type": "markdown",
   "metadata": {},
   "source": [
    "# Работа с БД SQLite"
   ]
  },
  {
   "cell_type": "code",
   "execution_count": 96,
   "metadata": {},
   "outputs": [],
   "source": [
    "import sqlite3\n",
    "from prettytable import from_db_cursor"
   ]
  },
  {
   "cell_type": "code",
   "execution_count": 97,
   "metadata": {},
   "outputs": [],
   "source": [
    "import os\n",
    "TEMP_DIR ='temp'\n",
    "if not os.path.exists(TEMP_DIR):\n",
    "    os.mkdir(TEMP_DIR)"
   ]
  },
  {
   "cell_type": "code",
   "execution_count": 98,
   "metadata": {},
   "outputs": [
    {
     "name": "stdout",
     "output_type": "stream",
     "text": [
      ":memory:\n"
     ]
    }
   ],
   "source": [
    "# db_name = os.path.join(TEMP_DIR, 'temp_SQLite.db')\n",
    "db_name = ':memory:'\n",
    "print(db_name)\n",
    "\n",
    "db= sqlite3.connect(db_name)\n",
    "cur = db.cursor()"
   ]
  },
  {
   "cell_type": "code",
   "execution_count": 99,
   "metadata": {},
   "outputs": [],
   "source": [
    "cur.execute('CREATE TABLE cities (id integer PRIMARY KEY AUTOINCREMENT NOT NULL, name varchar(100) UNIQUE)')\n",
    "db.commit()"
   ]
  },
  {
   "cell_type": "code",
   "execution_count": 100,
   "metadata": {},
   "outputs": [
    {
     "data": {
      "text/html": [
       "<table>\n",
       "    <thead>\n",
       "        <tr>\n",
       "            <th>cid</th>\n",
       "            <th>name</th>\n",
       "            <th>type</th>\n",
       "            <th>notnull</th>\n",
       "            <th>dflt_value</th>\n",
       "            <th>pk</th>\n",
       "        </tr>\n",
       "    </thead>\n",
       "    <tbody>\n",
       "        <tr>\n",
       "            <td>0</td>\n",
       "            <td>id</td>\n",
       "            <td>INTEGER</td>\n",
       "            <td>1</td>\n",
       "            <td>None</td>\n",
       "            <td>1</td>\n",
       "        </tr>\n",
       "        <tr>\n",
       "            <td>1</td>\n",
       "            <td>name</td>\n",
       "            <td>varchar(100)</td>\n",
       "            <td>0</td>\n",
       "            <td>None</td>\n",
       "            <td>0</td>\n",
       "        </tr>\n",
       "    </tbody>\n",
       "</table>"
      ],
      "text/plain": [
       "+-----+------+--------------+---------+------------+----+\n",
       "| cid | name |     type     | notnull | dflt_value | pk |\n",
       "+-----+------+--------------+---------+------------+----+\n",
       "|  0  |  id  |   INTEGER    |    1    |    None    | 1  |\n",
       "|  1  | name | varchar(100) |    0    |    None    | 0  |\n",
       "+-----+------+--------------+---------+------------+----+"
      ]
     },
     "execution_count": 100,
     "metadata": {},
     "output_type": "execute_result"
    }
   ],
   "source": [
    "cur.execute(\"PRAGMA table_info('cities')\")\n",
    "from_db_cursor(cur)"
   ]
  },
  {
   "cell_type": "code",
   "execution_count": 101,
   "metadata": {},
   "outputs": [
    {
     "data": {
      "text/html": [
       "<table>\n",
       "    <thead>\n",
       "        <tr>\n",
       "            <th>id</th>\n",
       "            <th>name</th>\n",
       "        </tr>\n",
       "    </thead>\n",
       "    <tbody>\n",
       "        <tr>\n",
       "            <td>1</td>\n",
       "            <td>Севастополь</td>\n",
       "        </tr>\n",
       "    </tbody>\n",
       "</table>"
      ],
      "text/plain": [
       "+----+-------------+\n",
       "| id |     name    |\n",
       "+----+-------------+\n",
       "| 1  | Севастополь |\n",
       "+----+-------------+"
      ]
     },
     "execution_count": 101,
     "metadata": {},
     "output_type": "execute_result"
    }
   ],
   "source": [
    "cur.execute(\"INSERT INTO cities(name) VALUES ('Севастополь')\")\n",
    "from_db_cursor(cur.execute(\"SELECT * FROM cities\"))"
   ]
  },
  {
   "cell_type": "code",
   "execution_count": 102,
   "metadata": {},
   "outputs": [
    {
     "data": {
      "text/plain": [
       "['Москва', 'Воронеж', 'Калуга']"
      ]
     },
     "execution_count": 102,
     "metadata": {},
     "output_type": "execute_result"
    }
   ],
   "source": [
    "cities = \"Москва, Воронеж, Калуга\".split(', ')\n",
    "cities"
   ]
  },
  {
   "cell_type": "code",
   "execution_count": 103,
   "metadata": {},
   "outputs": [
    {
     "data": {
      "text/plain": [
       "[('Москва',), ('Воронеж',), ('Калуга',)]"
      ]
     },
     "execution_count": 103,
     "metadata": {},
     "output_type": "execute_result"
    }
   ],
   "source": [
    "[(city,) for city in cities]"
   ]
  },
  {
   "cell_type": "code",
   "execution_count": 104,
   "metadata": {},
   "outputs": [
    {
     "data": {
      "text/plain": [
       "<sqlite3.Cursor at 0x243bde61740>"
      ]
     },
     "execution_count": 104,
     "metadata": {},
     "output_type": "execute_result"
    }
   ],
   "source": [
    "cur.executemany(\"INSERT INTO cities(name) VALUES (?)\",[(city,) for city in cities])"
   ]
  },
  {
   "cell_type": "code",
   "execution_count": 105,
   "metadata": {},
   "outputs": [
    {
     "data": {
      "text/html": [
       "<table>\n",
       "    <thead>\n",
       "        <tr>\n",
       "            <th>id</th>\n",
       "            <th>name</th>\n",
       "        </tr>\n",
       "    </thead>\n",
       "    <tbody>\n",
       "        <tr>\n",
       "            <td>1</td>\n",
       "            <td>Севастополь</td>\n",
       "        </tr>\n",
       "        <tr>\n",
       "            <td>2</td>\n",
       "            <td>Москва</td>\n",
       "        </tr>\n",
       "        <tr>\n",
       "            <td>3</td>\n",
       "            <td>Воронеж</td>\n",
       "        </tr>\n",
       "        <tr>\n",
       "            <td>4</td>\n",
       "            <td>Калуга</td>\n",
       "        </tr>\n",
       "    </tbody>\n",
       "</table>"
      ],
      "text/plain": [
       "+----+-------------+\n",
       "| id |     name    |\n",
       "+----+-------------+\n",
       "| 1  | Севастополь |\n",
       "| 2  |    Москва   |\n",
       "| 3  |   Воронеж   |\n",
       "| 4  |    Калуга   |\n",
       "+----+-------------+"
      ]
     },
     "execution_count": 105,
     "metadata": {},
     "output_type": "execute_result"
    }
   ],
   "source": [
    "from_db_cursor(cur.execute(\"SELECT * FROM cities\"))"
   ]
  },
  {
   "cell_type": "code",
   "execution_count": 106,
   "metadata": {},
   "outputs": [
    {
     "data": {
      "text/html": [
       "<table>\n",
       "    <thead>\n",
       "        <tr>\n",
       "            <th>id</th>\n",
       "            <th>name</th>\n",
       "        </tr>\n",
       "    </thead>\n",
       "    <tbody>\n",
       "        <tr>\n",
       "            <td>1</td>\n",
       "            <td>Севастополь</td>\n",
       "        </tr>\n",
       "        <tr>\n",
       "            <td>2</td>\n",
       "            <td>Москва</td>\n",
       "        </tr>\n",
       "        <tr>\n",
       "            <td>3</td>\n",
       "            <td>Воронеж</td>\n",
       "        </tr>\n",
       "        <tr>\n",
       "            <td>4</td>\n",
       "            <td>Калуга</td>\n",
       "        </tr>\n",
       "        <tr>\n",
       "            <td>5</td>\n",
       "            <td>Тула</td>\n",
       "        </tr>\n",
       "        <tr>\n",
       "            <td>6</td>\n",
       "            <td>Ялта</td>\n",
       "        </tr>\n",
       "    </tbody>\n",
       "</table>"
      ],
      "text/plain": [
       "+----+-------------+\n",
       "| id |     name    |\n",
       "+----+-------------+\n",
       "| 1  | Севастополь |\n",
       "| 2  |    Москва   |\n",
       "| 3  |   Воронеж   |\n",
       "| 4  |    Калуга   |\n",
       "| 5  |     Тула    |\n",
       "| 6  |     Ялта    |\n",
       "+----+-------------+"
      ]
     },
     "execution_count": 106,
     "metadata": {},
     "output_type": "execute_result"
    }
   ],
   "source": [
    "sql = \"INSERT INTO cities(name) VALUES (?)\"\n",
    "cur.execute(sql, ('Тула',))\n",
    "cur.execute(sql, ('Ялта',))\n",
    "\n",
    "from_db_cursor(cur.execute(\"SELECT * FROM cities\"))"
   ]
  },
  {
   "cell_type": "code",
   "execution_count": 111,
   "metadata": {},
   "outputs": [
    {
     "data": {
      "text/html": [
       "<table>\n",
       "    <thead>\n",
       "        <tr>\n",
       "            <th>id</th>\n",
       "            <th>name</th>\n",
       "        </tr>\n",
       "    </thead>\n",
       "    <tbody>\n",
       "        <tr>\n",
       "            <td>1</td>\n",
       "            <td>г. Севастополь</td>\n",
       "        </tr>\n",
       "        <tr>\n",
       "            <td>2</td>\n",
       "            <td>г. Москва</td>\n",
       "        </tr>\n",
       "        <tr>\n",
       "            <td>3</td>\n",
       "            <td>г. Воронеж</td>\n",
       "        </tr>\n",
       "        <tr>\n",
       "            <td>4</td>\n",
       "            <td>г. Калуга</td>\n",
       "        </tr>\n",
       "        <tr>\n",
       "            <td>5</td>\n",
       "            <td>г. Тула</td>\n",
       "        </tr>\n",
       "        <tr>\n",
       "            <td>6</td>\n",
       "            <td>г. Ялта</td>\n",
       "        </tr>\n",
       "        <tr>\n",
       "            <td>7</td>\n",
       "            <td>Гомель</td>\n",
       "        </tr>\n",
       "    </tbody>\n",
       "</table>"
      ],
      "text/plain": [
       "+----+----------------+\n",
       "| id |      name      |\n",
       "+----+----------------+\n",
       "| 1  | г. Севастополь |\n",
       "| 2  |   г. Москва    |\n",
       "| 3  |   г. Воронеж   |\n",
       "| 4  |   г. Калуга    |\n",
       "| 5  |    г. Тула     |\n",
       "| 6  |    г. Ялта     |\n",
       "| 7  |     Гомель     |\n",
       "+----+----------------+"
      ]
     },
     "execution_count": 111,
     "metadata": {},
     "output_type": "execute_result"
    }
   ],
   "source": [
    "sql = \"INSERT INTO cities(name) VALUES (:city)\"\n",
    "cur.execute(sql,{'city':'Гомель'})\n",
    "\n",
    "from_db_cursor(cur.execute(\"SELECT * FROM cities\"))"
   ]
  },
  {
   "cell_type": "code",
   "execution_count": 110,
   "metadata": {},
   "outputs": [
    {
     "data": {
      "text/html": [
       "<table>\n",
       "    <thead>\n",
       "        <tr>\n",
       "            <th>id</th>\n",
       "            <th>name</th>\n",
       "        </tr>\n",
       "    </thead>\n",
       "    <tbody>\n",
       "        <tr>\n",
       "            <td>1</td>\n",
       "            <td>г. Севастополь</td>\n",
       "        </tr>\n",
       "        <tr>\n",
       "            <td>2</td>\n",
       "            <td>г. Москва</td>\n",
       "        </tr>\n",
       "        <tr>\n",
       "            <td>3</td>\n",
       "            <td>г. Воронеж</td>\n",
       "        </tr>\n",
       "        <tr>\n",
       "            <td>4</td>\n",
       "            <td>г. Калуга</td>\n",
       "        </tr>\n",
       "        <tr>\n",
       "            <td>5</td>\n",
       "            <td>г. Тула</td>\n",
       "        </tr>\n",
       "        <tr>\n",
       "            <td>6</td>\n",
       "            <td>г. Ялта</td>\n",
       "        </tr>\n",
       "    </tbody>\n",
       "</table>"
      ],
      "text/plain": [
       "+----+----------------+\n",
       "| id |      name      |\n",
       "+----+----------------+\n",
       "| 1  | г. Севастополь |\n",
       "| 2  |   г. Москва    |\n",
       "| 3  |   г. Воронеж   |\n",
       "| 4  |   г. Калуга    |\n",
       "| 5  |    г. Тула     |\n",
       "| 6  |    г. Ялта     |\n",
       "+----+----------------+"
      ]
     },
     "execution_count": 110,
     "metadata": {},
     "output_type": "execute_result"
    }
   ],
   "source": [
    "sql = \"\"\"\n",
    "UPDATE cities\n",
    "SET name = 'г. ' || name\n",
    "WHERE name NOT LIKE 'г. %'\n",
    "\"\"\"\n",
    "cur.execute(sql)\n",
    "from_db_cursor(cur.execute(\"SELECT * FROM cities\"))"
   ]
  },
  {
   "cell_type": "code",
   "execution_count": 112,
   "metadata": {},
   "outputs": [
    {
     "name": "stdout",
     "output_type": "stream",
     "text": [
      "(1, 'г. Севастополь')\n"
     ]
    }
   ],
   "source": [
    "print(cur.execute(\"SELECT * FROM cities\").fetchone())"
   ]
  },
  {
   "cell_type": "code",
   "execution_count": 113,
   "metadata": {},
   "outputs": [
    {
     "name": "stdout",
     "output_type": "stream",
     "text": [
      "[(1, 'г. Севастополь'), (2, 'г. Москва'), (3, 'г. Воронеж')]\n"
     ]
    }
   ],
   "source": [
    "print(cur.execute(\"SELECT * FROM cities\").fetchmany(size=3))"
   ]
  },
  {
   "cell_type": "code",
   "execution_count": 114,
   "metadata": {},
   "outputs": [
    {
     "name": "stdout",
     "output_type": "stream",
     "text": [
      "[(1, 'г. Севастополь'), (2, 'г. Москва'), (3, 'г. Воронеж'), (4, 'г. Калуга'), (5, 'г. Тула'), (6, 'г. Ялта'), (7, 'Гомель')]\n"
     ]
    }
   ],
   "source": [
    "print(cur.execute(\"SELECT * FROM cities\").fetchall())"
   ]
  },
  {
   "cell_type": "code",
   "execution_count": 116,
   "metadata": {},
   "outputs": [
    {
     "name": "stdout",
     "output_type": "stream",
     "text": [
      "[(1, 'г. Севастополь'), (2, 'г. Москва'), (3, 'г. Воронеж')]\n"
     ]
    }
   ],
   "source": [
    "print(cur.execute(\"SELECT * FROM cities LIMIT 3\").fetchall())"
   ]
  },
  {
   "cell_type": "code",
   "execution_count": 120,
   "metadata": {},
   "outputs": [
    {
     "name": "stdout",
     "output_type": "stream",
     "text": [
      "<class 'list'>\n",
      "[(1, 'г. Севастополь'), (2, 'г. Москва'), (3, 'г. Воронеж')]\n"
     ]
    }
   ],
   "source": [
    "t = cur.execute(\"SELECT * FROM cities\").fetchall()\n",
    "print(type(t))\n",
    "print(t[:3])\n"
   ]
  },
  {
   "cell_type": "code",
   "execution_count": 119,
   "metadata": {},
   "outputs": [
    {
     "data": {
      "text/html": [
       "<table>\n",
       "    <thead>\n",
       "        <tr>\n",
       "            <th>id</th>\n",
       "            <th>name</th>\n",
       "        </tr>\n",
       "    </thead>\n",
       "    <tbody>\n",
       "        <tr>\n",
       "            <td>1</td>\n",
       "            <td>г. Севастополь</td>\n",
       "        </tr>\n",
       "        <tr>\n",
       "            <td>2</td>\n",
       "            <td>г. Москва</td>\n",
       "        </tr>\n",
       "        <tr>\n",
       "            <td>3</td>\n",
       "            <td>г. Воронеж</td>\n",
       "        </tr>\n",
       "        <tr>\n",
       "            <td>4</td>\n",
       "            <td>г. Калуга</td>\n",
       "        </tr>\n",
       "        <tr>\n",
       "            <td>5</td>\n",
       "            <td>г. Тула</td>\n",
       "        </tr>\n",
       "        <tr>\n",
       "            <td>6</td>\n",
       "            <td>г. Ялта</td>\n",
       "        </tr>\n",
       "        <tr>\n",
       "            <td>7</td>\n",
       "            <td>Гомель</td>\n",
       "        </tr>\n",
       "    </tbody>\n",
       "</table>"
      ],
      "text/plain": [
       "+----+----------------+\n",
       "| id |      name      |\n",
       "+----+----------------+\n",
       "| 1  | г. Севастополь |\n",
       "| 2  |   г. Москва    |\n",
       "| 3  |   г. Воронеж   |\n",
       "| 4  |   г. Калуга    |\n",
       "| 5  |    г. Тула     |\n",
       "| 6  |    г. Ялта     |\n",
       "| 7  |     Гомель     |\n",
       "+----+----------------+"
      ]
     },
     "execution_count": 119,
     "metadata": {},
     "output_type": "execute_result"
    }
   ],
   "source": [
    "from_db_cursor(cur.execute(\"SELECT * FROM cities\"))"
   ]
  },
  {
   "cell_type": "code",
   "execution_count": 118,
   "metadata": {},
   "outputs": [
    {
     "name": "stdout",
     "output_type": "stream",
     "text": [
      "(1, 'г. Севастополь') (2, 'г. Москва') (3, 'г. Воронеж') (4, 'г. Калуга') (5, 'г. Тула') (6, 'г. Ялта') (7, 'Гомель')\n"
     ]
    }
   ],
   "source": [
    "print(*cur.execute(\"SELECT * FROM cities\"))"
   ]
  }
 ],
 "metadata": {
  "kernelspec": {
   "display_name": "Python 3",
   "language": "python",
   "name": "python3"
  },
  "language_info": {
   "codemirror_mode": {
    "name": "ipython",
    "version": 3
   },
   "file_extension": ".py",
   "mimetype": "text/x-python",
   "name": "python",
   "nbconvert_exporter": "python",
   "pygments_lexer": "ipython3",
   "version": "3.11.9"
  }
 },
 "nbformat": 4,
 "nbformat_minor": 2
}
