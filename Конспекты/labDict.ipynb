{
 "cells": [
  {
   "cell_type": "markdown",
   "metadata": {},
   "source": [
    "# Словарь(dict)\n",
    "Словарь (dict) - упорядоченная структура данных, которая позволяет хранить пары \"ключ-значение\" с доступом по уникальному ключу."
   ]
  },
  {
   "cell_type": "code",
   "execution_count": 2,
   "metadata": {},
   "outputs": [
    {
     "data": {
      "text/plain": [
       "{'имя': 'викинг',\n",
       " 'Жизнь': 250,\n",
       " 'невидим': True,\n",
       " 'Инвентарь': ['лопата', 'ведро']}"
      ]
     },
     "execution_count": 2,
     "metadata": {},
     "output_type": "execute_result"
    }
   ],
   "source": [
    "{\"имя\":\"викинг\", \"Жизнь\":250, \"невидим\": True, \"Инвентарь\":['лопата', \"ведро\"]}"
   ]
  },
  {
   "cell_type": "code",
   "execution_count": 6,
   "metadata": {},
   "outputs": [
    {
     "name": "stdout",
     "output_type": "stream",
     "text": [
      "<class 'dict'>\n"
     ]
    }
   ],
   "source": [
    "v = {}\n",
    "print(type(v))\n",
    "empty_set= set()\n",
    "empty_dict= dict()"
   ]
  },
  {
   "cell_type": "code",
   "execution_count": 5,
   "metadata": {},
   "outputs": [
    {
     "name": "stdout",
     "output_type": "stream",
     "text": [
      "неудовлетворительно\n"
     ]
    }
   ],
   "source": [
    "v = {5: \"отлично\", 4: \"хорошо\", 3:'удовлетворительно', 2: \"неудовлетворительно\"}\n",
    "print(v[2])"
   ]
  },
  {
   "cell_type": "code",
   "execution_count": null,
   "metadata": {},
   "outputs": [],
   "source": [
    "dict(key1='value1', key2='value2',key3='value3')"
   ]
  },
  {
   "cell_type": "code",
   "execution_count": 9,
   "metadata": {},
   "outputs": [
    {
     "data": {
      "text/plain": [
       "{'key1': 'value1', 'key2': 'value2', 'key3': 'value3'}"
      ]
     },
     "execution_count": 9,
     "metadata": {},
     "output_type": "execute_result"
    }
   ],
   "source": [
    "dict([('key1','value1'),('key2',\"value2\"),('key3',\"value3\")])"
   ]
  },
  {
   "cell_type": "code",
   "execution_count": 16,
   "metadata": {},
   "outputs": [
    {
     "name": "stdout",
     "output_type": "stream",
     "text": [
      "кот\n",
      "кот\n",
      "['city', 'book', 'cat']\n",
      "dict_keys(['city', 'book', 'cat'])\n",
      "dict_values(['город', 'книга', 'кот'])\n"
     ]
    }
   ],
   "source": [
    "en_to_ru = {\n",
    "    'city':'город',\n",
    "    'book':'книга',\n",
    "    'cat':'кот',\n",
    "}\n",
    "en_to_ru\n",
    "print(en_to_ru.get('cat'))\n",
    "print(en_to_ru['cat'])\n",
    "\n",
    "print(list(en_to_ru))\n",
    "print(en_to_ru.keys())\n",
    "print(en_to_ru.values())\n"
   ]
  },
  {
   "cell_type": "code",
   "execution_count": 17,
   "metadata": {},
   "outputs": [
    {
     "name": "stdout",
     "output_type": "stream",
     "text": [
      "('city', 'город')\n",
      "('book', 'книга')\n",
      "('cat', 'кот')\n"
     ]
    }
   ],
   "source": [
    "en_to_ru = {\n",
    "    'city':'город',\n",
    "    'book':'книга',\n",
    "    'cat':'кот',\n",
    "}\n",
    "for i in en_to_ru.items():\n",
    "    print(i)"
   ]
  },
  {
   "cell_type": "code",
   "execution_count": 18,
   "metadata": {},
   "outputs": [
    {
     "name": "stdout",
     "output_type": "stream",
     "text": [
      "True\n",
      "False\n",
      "True\n"
     ]
    }
   ],
   "source": [
    "print(\"cat\" in en_to_ru)\n",
    "print(\"cat123\" in en_to_ru)\n",
    "print(('cat','кот') in en_to_ru.items())"
   ]
  },
  {
   "cell_type": "code",
   "execution_count": 19,
   "metadata": {},
   "outputs": [
    {
     "data": {
      "text/plain": [
       "{'city': 'город', 'cat': 'КОТ', 'dog': 'Пёс'}"
      ]
     },
     "execution_count": 19,
     "metadata": {},
     "output_type": "execute_result"
    }
   ],
   "source": [
    "#добавить\n",
    "en_to_ru['dog'] = 'собака'\n",
    "#изменить\n",
    "en_to_ru['cat'] = 'кошка'\n",
    "en_to_ru.update(cat='КОТ', dog = 'Пёс')\n",
    "#удалить\n",
    "del en_to_ru['book']\n",
    "#\n",
    "en_to_ru"
   ]
  }
 ],
 "metadata": {
  "kernelspec": {
   "display_name": "Python 3",
   "language": "python",
   "name": "python3"
  },
  "language_info": {
   "codemirror_mode": {
    "name": "ipython",
    "version": 3
   },
   "file_extension": ".py",
   "mimetype": "text/x-python",
   "name": "python",
   "nbconvert_exporter": "python",
   "pygments_lexer": "ipython3",
   "version": "3.11.8"
  }
 },
 "nbformat": 4,
 "nbformat_minor": 2
}
