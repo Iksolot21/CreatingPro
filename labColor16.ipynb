{
 "cells": [
  {
   "cell_type": "markdown",
   "metadata": {},
   "source": [
    "# labColor16"
   ]
  },
  {
   "cell_type": "code",
   "execution_count": 7,
   "metadata": {},
   "outputs": [
    {
     "name": "stdout",
     "output_type": "stream",
     "text": [
      "Привет\n",
      "\u001b[31;44mПривет\n",
      "\u001b[0;mПривет\n",
      "\u001b[33mПривет\n"
     ]
    }
   ],
   "source": [
    "print('Привет')\n",
    "print('\\033[31;44mПривет')\n",
    "print('\\033[0;mПривет')\n",
    "print('\\033[33mПривет')"
   ]
  },
  {
   "cell_type": "code",
   "execution_count": 9,
   "metadata": {},
   "outputs": [
    {
     "name": "stdout",
     "output_type": "stream",
     "text": [
      "\u001b[42m\u001b[31mПривет\n",
      "Привет\n",
      "\u001b[49mПривет\n"
     ]
    }
   ],
   "source": [
    "# HW\n",
    "# pip install colorant\n",
    "\n",
    "from colorama import Style, Back, Fore\n",
    "\n",
    "print(Back.GREEN + Fore.RED + 'Привет')\n",
    "print('Привет')\n",
    "print(Back.RESET + 'Привет')\n"
   ]
  },
  {
   "cell_type": "code",
   "execution_count": null,
   "metadata": {},
   "outputs": [],
   "source": []
  }
 ],
 "metadata": {
  "kernelspec": {
   "display_name": "Python 3",
   "language": "python",
   "name": "python3"
  },
  "language_info": {
   "codemirror_mode": {
    "name": "ipython",
    "version": 3
   },
   "file_extension": ".py",
   "mimetype": "text/x-python",
   "name": "python",
   "nbconvert_exporter": "python",
   "pygments_lexer": "ipython3",
   "version": "3.11.9"
  }
 },
 "nbformat": 4,
 "nbformat_minor": 2
}
