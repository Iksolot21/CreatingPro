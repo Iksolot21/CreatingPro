{
 "cells": [
  {
   "cell_type": "markdown",
   "metadata": {},
   "source": [
    "# Типы данных\n",
    "\n",
    "Типы данных:\n",
    "* неизменяемые [int, float, str, tuple, ...]\n",
    "* изменяемые [list, set, dict, ...]"
   ]
  },
  {
   "cell_type": "code",
   "execution_count": 2,
   "metadata": {},
   "outputs": [
    {
     "name": "stdout",
     "output_type": "stream",
     "text": [
      "140721243247688\n",
      "140721243247688\n",
      "140721243247688\n",
      "140721243248168\n"
     ]
    }
   ],
   "source": [
    "a=10\n",
    "b=a\n",
    "print(id(a))\n",
    "print(id(b))\n",
    "b=25\n",
    "print(id(a))\n",
    "print(id(b))"
   ]
  },
  {
   "cell_type": "code",
   "execution_count": 6,
   "metadata": {},
   "outputs": [
    {
     "name": "stdout",
     "output_type": "stream",
     "text": [
      "3016863068096\n",
      "3016863068096\n",
      "3016863091264\n",
      "[1, 2, 3, 99, 88]\n",
      "[1, 2, 3, 99, 88]\n",
      "[1, 2, 3, 77]\n"
     ]
    }
   ],
   "source": [
    "a= [1,2,3]\n",
    "b=a\n",
    "c=a[:]\n",
    "print(id(a))\n",
    "print(id(b))\n",
    "print(id(c))\n",
    "a.append(99)\n",
    "b.append(88)\n",
    "c.append(77)\n",
    "print(a)\n",
    "print(b)\n",
    "print(c)"
   ]
  },
  {
   "cell_type": "code",
   "execution_count": 7,
   "metadata": {},
   "outputs": [
    {
     "name": "stdout",
     "output_type": "stream",
     "text": [
      "140721243247400\n",
      "140721243247432\n"
     ]
    }
   ],
   "source": [
    "print(id(1))\n",
    "print(id(2))"
   ]
  }
 ],
 "metadata": {
  "kernelspec": {
   "display_name": "Python 3",
   "language": "python",
   "name": "python3"
  },
  "language_info": {
   "codemirror_mode": {
    "name": "ipython",
    "version": 3
   },
   "file_extension": ".py",
   "mimetype": "text/x-python",
   "name": "python",
   "nbconvert_exporter": "python",
   "pygments_lexer": "ipython3",
   "version": "3.11.8"
  }
 },
 "nbformat": 4,
 "nbformat_minor": 2
}
