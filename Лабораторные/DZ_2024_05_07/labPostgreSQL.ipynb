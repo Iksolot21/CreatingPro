{
 "cells": [
  {
   "cell_type": "markdown",
   "metadata": {},
   "source": [
    "“labPostgreSQL.ipynb”\n",
    "Самостоятельно изучать работу Python с PostgreSQL, например с модулем psycopg2.\n",
    "- создание БД, запросы в БД, добавление, обновление и тп.\n"
   ]
  },
  {
   "cell_type": "code",
   "execution_count": 1,
   "metadata": {},
   "outputs": [
    {
     "name": "stdout",
     "output_type": "stream",
     "text": [
      "Записи успешно получены:\n",
      "ID: 1, Имя: John Doe, Зарплата: 50000\n",
      "ID: 2, Имя: Jane Smith, Зарплата: 60000\n",
      "ID: 3, Имя: John Doe, Зарплата: 50000\n",
      "ID: 4, Имя: Jane Smith, Зарплата: 60000\n",
      "ID: 5, Имя: John Doe, Зарплата: 50000\n",
      "ID: 6, Имя: Jane Smith, Зарплата: 60000\n"
     ]
    }
   ],
   "source": [
    "import psycopg2\n",
    "\n",
    "def run():\n",
    "    conn = None\n",
    "    cur = None\n",
    "    try:\n",
    "        conn = psycopg2.connect(\n",
    "            host=\"localhost\",\n",
    "            database=\"postgres\",\n",
    "            user=\"artemon228\",\n",
    "            password=\"16745678\",\n",
    "        )\n",
    "\n",
    "        cur = conn.cursor()\n",
    "\n",
    "        cur.execute('''CREATE TABLE IF NOT EXISTS employees (\n",
    "            id SERIAL PRIMARY KEY,\n",
    "            name TEXT,\n",
    "            salary NUMERIC\n",
    "        )''')\n",
    "\n",
    "        cur.execute(\"INSERT INTO employees (name, salary) VALUES (%s, %s)\", (\"John Doe\", 50000))\n",
    "        cur.execute(\"INSERT INTO employees (name, salary) VALUES (%s, %s)\", (\"Jane Smith\", 60000))\n",
    "\n",
    "        conn.commit()\n",
    "\n",
    "        cur.execute(\"SELECT * FROM employees\")\n",
    "        rows = cur.fetchall()\n",
    "\n",
    "        if rows:\n",
    "            print(\"Записи успешно получены:\")\n",
    "            for row in rows:\n",
    "                print(f\"ID: {row[0]}, Имя: {row[1]}, Зарплата: {row[2]}\")\n",
    "        else:\n",
    "            print(\"Записи не найдены.\")\n",
    "\n",
    "    except Exception as e:\n",
    "        print(\"Произошла ошибка:\", e)\n",
    "\n",
    "    finally:\n",
    "        if cur is not None:\n",
    "            cur.close()\n",
    "        if conn is not None:\n",
    "            conn.close()\n",
    "\n",
    "run()\n"
   ]
  }
 ],
 "metadata": {
  "kernelspec": {
   "display_name": "Python 3",
   "language": "python",
   "name": "python3"
  },
  "language_info": {
   "codemirror_mode": {
    "name": "ipython",
    "version": 3
   },
   "file_extension": ".py",
   "mimetype": "text/x-python",
   "name": "python",
   "nbconvert_exporter": "python",
   "pygments_lexer": "ipython3",
   "version": "3.12.3"
  }
 },
 "nbformat": 4,
 "nbformat_minor": 2
}
