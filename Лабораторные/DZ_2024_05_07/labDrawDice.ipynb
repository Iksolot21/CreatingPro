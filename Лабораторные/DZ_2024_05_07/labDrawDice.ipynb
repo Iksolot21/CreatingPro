{
 "cells": [
  {
   "cell_type": "markdown",
   "metadata": {},
   "source": [
    "“labDrawDice.ipynb” - Создает изображение с случайным символом на случайном фоне.  \n",
    "`Параметры:`\n",
    "- size (int): Размер изображения (ширина и высота). \n",
    "`Возвращает:`\n",
    "Image: Изображение с случайным символом.\n",
    "`Помним:`\n",
    "  - правильные названия функций, название параметров, аннотация типов, проверка входящих параметров и т.п.\n",
    "- Проверка:\n",
    "  - показать использование этой функции на различных примерах с различными параметрами\n",
    "  - показать как создается случайную грань кубика (функция возвращает картинку)\n"
   ]
  },
  {
   "cell_type": "code",
   "execution_count": 1,
   "metadata": {},
   "outputs": [],
   "source": [
    "from PIL import Image, ImageDraw, ImageFont\n",
    "import random\n",
    "\n",
    "ROMAN_NUMERALS = ['I', 'II', 'III', 'IV', 'V', 'VI']\n",
    "\n",
    "DOT_POSITIONS = {\n",
    "    1: [(4, 4)],\n",
    "    2: [(2, 2), (6, 6)],\n",
    "    3: [(2, 2), (4, 4), (6, 6)],\n",
    "    4: [(2, 2), (2, 6), (6, 2), (6, 6)],\n",
    "    5: [(2, 2), (2, 6), (4, 4), (6, 2), (6, 6)],\n",
    "    6: [(2, 2), (2, 4), (2, 6), (6, 2), (6, 4), (6, 6)]\n",
    "}\n",
    "\n",
    "def DrawDice(size=200):\n",
    "    \n",
    "    image = Image.new('RGBA', (size, size), (255, 255, 255, 0))\n",
    "    draw = ImageDraw.Draw(image)\n",
    "    \n",
    "    # Случайный фон\n",
    "    background_color = (random.randint(0, 255), random.randint(0, 255), random.randint(0, 255))\n",
    "    draw.rectangle([(0, 0), (size, size)], fill=background_color)\n",
    "    \n",
    "    # Случайный символ\n",
    "    symbol = random.choice(['dots', 'numbers', 'roman'])\n",
    "    font = ImageFont.truetype('arial.ttf', size // 2)\n",
    "    text_color = (random.randint(0, 255), random.randint(0, 255), random.randint(0, 255))\n",
    "    \n",
    "    if symbol == 'dots':\n",
    "        dot_size = size // 10\n",
    "        num_dots = random.randint(1, 6)\n",
    "        dot_positions = DOT_POSITIONS[num_dots]\n",
    "        for x, y in dot_positions:\n",
    "            x = (x * size) // 8\n",
    "            y = (y * size) // 8\n",
    "            draw.ellipse([(x - dot_size // 2, y - dot_size // 2), (x + dot_size // 2, y + dot_size // 2)], fill=text_color)\n",
    "    elif symbol == 'numbers':\n",
    "        text = str(random.randint(1, 6))\n",
    "        text_bbox = draw.textbbox((0, 0), text, font=font)\n",
    "        text_width = text_bbox[2] - text_bbox[0]\n",
    "        text_height = text_bbox[3] - text_bbox[1]\n",
    "        draw.text(((size - text_width) // 2, (size - text_height) // 2), text, font=font, fill=text_color)\n",
    "    else:\n",
    "        roman_numeral = random.choice(ROMAN_NUMERALS)\n",
    "        text_bbox = draw.textbbox((0, 0), roman_numeral, font=font)\n",
    "        text_width = text_bbox[2] - text_bbox[0]\n",
    "        text_height = text_bbox[3] - text_bbox[1]\n",
    "        draw.text(((size - text_width) // 2, (size - text_height) // 2), roman_numeral, font=font, fill=text_color)\n",
    "    \n",
    "    return image"
   ]
  },
  {
   "cell_type": "code",
   "execution_count": 4,
   "metadata": {},
   "outputs": [
    {
     "data": {
      "image/png": "[encoded data removed]",
      "text/plain": [
       "<PIL.Image.Image image mode=RGBA size=200x200>"
      ]
     },
     "metadata": {},
     "output_type": "display_data"
    },
    {
     "data": {
      "image/png": "[encoded data removed]",
      "text/plain": [
       "<PIL.Image.Image image mode=RGBA size=200x200>"
      ]
     },
     "metadata": {},
     "output_type": "display_data"
    },
    {
     "data": {
      "image/png": "[encoded data removed]",
      "text/plain": [
       "<PIL.Image.Image image mode=RGBA size=200x200>"
      ]
     },
     "metadata": {},
     "output_type": "display_data"
    },
    {
     "data": {
      "image/png": "[encoded data removed]",
      "text/plain": [
       "<PIL.Image.Image image mode=RGBA size=200x200>"
      ]
     },
     "metadata": {},
     "output_type": "display_data"
    },
    {
     "data": {
      "image/png": "[encoded data removed]",
      "text/plain": [
       "<PIL.Image.Image image mode=RGBA size=200x200>"
      ]
     },
     "metadata": {},
     "output_type": "display_data"
    }
   ],
   "source": [
    "for i in range(5):\n",
    "    random_image = DrawDice()\n",
    "    display(random_image)"
   ]
  }
 ],
 "metadata": {
  "kernelspec": {
   "display_name": "Python 3",
   "language": "python",
   "name": "python3"
  },
  "language_info": {
   "codemirror_mode": {
    "name": "ipython",
    "version": 3
   },
   "file_extension": ".py",
   "mimetype": "text/x-python",
   "name": "python",
   "nbconvert_exporter": "python",
   "pygments_lexer": "ipython3",
   "version": "3.12.3"
  }
 },
 "nbformat": 4,
 "nbformat_minor": 2
}
