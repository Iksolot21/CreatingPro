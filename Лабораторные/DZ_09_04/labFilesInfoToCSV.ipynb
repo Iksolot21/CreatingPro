{
 "cells": [
  {
   "cell_type": "code",
   "execution_count": 1,
   "metadata": {},
   "outputs": [
    {
     "name": "stdout",
     "output_type": "stream",
     "text": [
      "CSV файл сгенерирован: c:\\Users\\артем\\Desktop\\CreatingPro\\Лабораторные\\DZ_09_04\\file_info_20240525_224418.csv\n",
      "CSV файл сгенерирован: c:\\Users\\артем\\Desktop\\CreatingPro\\Лабораторные\\DZ_09_04\\file_info_20240525_224418.csv\n",
      "CSV файл сгенерирован: c:\\Users\\артем\\Desktop\\CreatingPro\\Лабораторные\\DZ_09_04\\file_info_20240525_224418.csv\n",
      "CSV файл сгенерирован: c:\\Users\\артем\\Desktop\\CreatingPro\\Лабораторные\\DZ_09_04\\file_info_20240525_224418.csv\n"
     ]
    }
   ],
   "source": [
    "from labFilesInfoToCSV import get_file_info\n",
    "\n",
    "# Получить информацию о файлах в текущей директории и ее подкаталогах, включая скрытые файлы и каталоги\n",
    "csv_file = get_file_info('.', include_hidden=True, include_dirs=True)\n",
    "print(f\"CSV файл сгенерирован: {csv_file}\")\n",
    "\n",
    "# Получить информацию только о файлах в директории 'C:\\\\Users\\\\артем\\\\Desktop\\\\CreatingPro\\\\temp', исключая скрытые файлы и каталоги\n",
    "csv_file = get_file_info(r'C:\\Users\\артем\\Desktop\\CreatingPro\\temp', include_hidden=False, include_dirs=False)\n",
    "print(f\"CSV файл сгенерирован: {csv_file}\")"
   ]
  }
 ],
 "metadata": {
  "kernelspec": {
   "display_name": "Python 3",
   "language": "python",
   "name": "python3"
  },
  "language_info": {
   "codemirror_mode": {
    "name": "ipython",
    "version": 3
   },
   "file_extension": ".py",
   "mimetype": "text/x-python",
   "name": "python",
   "nbconvert_exporter": "python",
   "pygments_lexer": "ipython3",
   "version": "3.11.9"
  }
 },
 "nbformat": 4,
 "nbformat_minor": 2
}
