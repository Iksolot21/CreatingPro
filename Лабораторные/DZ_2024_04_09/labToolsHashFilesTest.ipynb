{
 "cells": [
  {
   "cell_type": "markdown",
   "metadata": {},
   "source": [
    "## `“labToolsHashFiles”` - хэши файлов\n",
    "Создать функцию, которая вернет таблицу с хешами в зависимости от входящих параметров.\n",
    "- Входящие параметры:\n",
    "  - анализируемый путь;\n",
    "  - название хеша;\n",
    "  - другие параметры (придумать самостоятельно).\n",
    "- Результат работы функции это таблица с полями:\n",
    "  - название файла (например, относительный путь - относительно анализируемого пути)\n",
    "  - рассчитанный хеш.\n",
    "- Реализация:\n",
    "  - оформить логику в виде отдельного пакета (py-файл).\n",
    "  - для демонстрации возможностесь используем jupyter notebook (ipynb-файл).\n",
    "- Проверка:\n",
    "  - показать все возможности функции на различных примерах.\n",
    "  - таблицу красиво вывести в консоль.\n"
   ]
  },
  {
   "cell_type": "code",
   "execution_count": 1,
   "metadata": {},
   "outputs": [
    {
     "name": "stdout",
     "output_type": "stream",
     "text": [
      "file_info_20240602_140013.csv: 5ac471e19ad6840c1d2a0a6a59a2452aee0747e2d03750f0259489d70711e789\n",
      "labFilesInfoToCSV.ipynb: ffaf831208f5c043d617555e6628748366477c12253dd18346020f8e8bd0d7e4\n",
      "labFilesInfoToCSV.py: bf28445c144db130bdeed3a6c309eab395903193ff398454b5bac34f70c5ed48\n",
      "labToolsHashFiles.py: fc87c01a3d525d0c13c4e238c28c1b129eb409410f1623c10623ccecefad5b1b\n",
      "labToolsHashFilesStat.py: 2f31e4dc350fae4cb1f1e71aa5a1e43425f3849ba265eb65d44c7b3528656924\n",
      "labToolsHashFilesStatTest.ipynb: 71a81d05b023db6bc672c1cafdbcec17b6fb7cfc8c12ba631f4d257a7c419e1b\n",
      "labToolsHashFilesTest.ipynb: f88a3fcbe35b1e03eed6a8eef1df6d32a4d352b72f0fc7c546bb8b496f4ec6c1\n",
      "__pycache__\\labFilesInfoToCSV.cpython-311.pyc: ef720806efe58440fde869e2b4668ea291db5f02cf12693a8b7c38ce02ed79f4\n",
      "__pycache__\\labFilesInfoToCSV.cpython-312.pyc: 2ea0f673dcc0ba49c2f77c0a19148207bc4c0dab77a5a5768e516d6dfb3d2dad\n",
      "__pycache__\\labToolsHashFiles.cpython-311.pyc: 710e88ad6e9f67c57787d5e8cbc78b39bc0667f7bc81f05f0a8ddc96d71587c6\n",
      "__pycache__\\labToolsHashFiles.cpython-312.pyc: bbeb5e416698995f0aec441dc486a1ae294f7ff3f89dcbe185564dd3c16b1f52\n",
      "__pycache__\\labToolsHashFilesStat.cpython-312.pyc: 760e7cd01f188b9f8fd26ca9edc1b76e7b68dee952e975278ee677c375b29b95\n"
     ]
    }
   ],
   "source": [
    "from labToolsHashFiles import HashTable\n",
    "\n",
    "# Получить хеши SHA-256 всех файлов в текущей директории и ее подкаталогах\n",
    "hash_table = HashTable('.', 'sha256', recursive=True)\n",
    "\n",
    "# Вывести таблицу хешей в консоль\n",
    "for file_path, file_hash in hash_table.items():\n",
    "    print(f\"{file_path}: {file_hash}\")\n",
    "\n",
    "# Получить хеши MD5 всех файлов в директории 'C:/Users/артем/Desktop/CreatingPro', исключая каталоги 'exclude_dir1' и 'exclude_dir2', и файлы с расширениями '.py' и '.pyc'\n",
    "hash_table = HashTable('', 'md5', recursive=True, exclude_dirs=['exclude_dir1', 'exclude_dir2'], exclude_extensions=['.py', '.pyc'])\n",
    "\n",
    "# Вывести таблицу хешей в консоль\n",
    "for file_path, file_hash in hash_table.items():\n",
    "    print(f\"{file_path}: {file_hash}\")"
   ]
  }
 ],
 "metadata": {
  "kernelspec": {
   "display_name": "Python 3",
   "language": "python",
   "name": "python3"
  },
  "language_info": {
   "codemirror_mode": {
    "name": "ipython",
    "version": 3
   },
   "file_extension": ".py",
   "mimetype": "text/x-python",
   "name": "python",
   "nbconvert_exporter": "python",
   "pygments_lexer": "ipython3",
   "version": "3.12.3"
  }
 },
 "nbformat": 4,
 "nbformat_minor": 2
}
