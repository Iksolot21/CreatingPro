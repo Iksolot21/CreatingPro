{
 "cells": [
  {
   "cell_type": "markdown",
   "metadata": {},
   "source": [
    "## `“labToolsHashFiles”` - хэши файлов\n",
    "Создать функцию, которая вернет таблицу с хешами в зависимости от входящих параметров.\n",
    "- Входящие параметры:\n",
    "  - анализируемый путь;\n",
    "  - название хеша;\n",
    "  - другие параметры (придумать самостоятельно).\n",
    "- Результат работы функции это таблица с полями:\n",
    "  - название файла (например, относительный путь - относительно анализируемого пути)\n",
    "  - рассчитанный хеш.\n",
    "- Реализация:\n",
    "  - оформить логику в виде отдельного пакета (py-файл).\n",
    "  - для демонстрации возможностесь используем jupyter notebook (ipynb-файл).\n",
    "- Проверка:\n",
    "  - показать все возможности функции на различных примерах.\n",
    "  - таблицу красиво вывести в консоль.\n"
   ]
  },
  {
   "cell_type": "code",
   "execution_count": 13,
   "metadata": {},
   "outputs": [
    {
     "name": "stdout",
     "output_type": "stream",
     "text": [
      "labFilesInfoToCSV.ipynb: 7fae4fca14c6690db5ac26e0b4b843103b59fe14c5060141a74322fbf2a6c715\n",
      "labFilesInfoToCSV.py: bf28445c144db130bdeed3a6c309eab395903193ff398454b5bac34f70c5ed48\n",
      "labToolsHashFiles.py: fc87c01a3d525d0c13c4e238c28c1b129eb409410f1623c10623ccecefad5b1b\n",
      "labToolsHashFilesStat.py: 2f31e4dc350fae4cb1f1e71aa5a1e43425f3849ba265eb65d44c7b3528656924\n",
      "labToolsHashFilesStatTest.ipynb: 71a81d05b023db6bc672c1cafdbcec17b6fb7cfc8c12ba631f4d257a7c419e1b\n",
      "labToolsHashFilesTest.ipynb: e36b7d6241e0941da9c601556f7b100fab81467afac933b0a4ec58dfa9712a43\n",
      "__pycache__\\labFilesInfoToCSV.cpython-311.pyc: 50d75c9fe4d5faa45455cc24a441e2b67a6d94f6df82b12102dfc18e74996463\n",
      "__pycache__\\labToolsHashFiles.cpython-311.pyc: 710e88ad6e9f67c57787d5e8cbc78b39bc0667f7bc81f05f0a8ddc96d71587c6\n"
     ]
    }
   ],
   "source": [
    "from labToolsHashFiles import HashTable\n",
    "\n",
    "# Получить хеши SHA-256 всех файлов в текущей директории и ее подкаталогах\n",
    "hash_table = HashTable('.', 'sha256', recursive=True)\n",
    "\n",
    "# Вывести таблицу хешей в консоль\n",
    "for file_path, file_hash in hash_table.items():\n",
    "    print(f\"{file_path}: {file_hash}\")\n",
    "\n",
    "# Получить хеши MD5 всех файлов в директории 'C:/Users/артем/Desktop/CreatingPro', исключая каталоги 'exclude_dir1' и 'exclude_dir2', и файлы с расширениями '.py' и '.pyc'\n",
    "hash_table = HashTable('', 'md5', recursive=True, exclude_dirs=['exclude_dir1', 'exclude_dir2'], exclude_extensions=['.py', '.pyc'])\n",
    "\n",
    "# Вывести таблицу хешей в консоль\n",
    "for file_path, file_hash in hash_table.items():\n",
    "    print(f\"{file_path}: {file_hash}\")"
   ]
  }
 ],
 "metadata": {
  "kernelspec": {
   "display_name": "Python 3",
   "language": "python",
   "name": "python3"
  },
  "language_info": {
   "codemirror_mode": {
    "name": "ipython",
    "version": 3
   },
   "file_extension": ".py",
   "mimetype": "text/x-python",
   "name": "python",
   "nbconvert_exporter": "python",
   "pygments_lexer": "ipython3",
   "version": "3.11.9"
  }
 },
 "nbformat": 4,
 "nbformat_minor": 2
}
