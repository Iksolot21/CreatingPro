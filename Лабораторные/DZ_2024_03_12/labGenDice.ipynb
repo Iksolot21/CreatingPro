{
 "cells": [
  {
   "cell_type": "markdown",
   "metadata": {},
   "source": [
    "### Функция(GenDice) - функция генератор, которая бесконечно будет возвращать результат подбрасывания кубика.<hr>\n",
    "\n",
    " > **Входящие параметры <br>** \n",
    " \n",
    "`Обязательные параметры`:\n",
    "- num_edge (int): количество граней у кубика __(по умолчанию = 6).__ \n",
    "- values (list[int]): значения на гранях кубика __(по умолчанию = 1,2,3,4,5,6)__ (но значение может быть любое, например, строка)\n",
    "\n",
    "> **Returns:** <br>\n",
    "* generator[int, None, None]:"
   ]
  },
  {
   "cell_type": "code",
   "execution_count": 1,
   "metadata": {},
   "outputs": [],
   "source": [
    "import random\n",
    "\n",
    "def GenDice(num_edge: int=6, values: list[int]=None):\n",
    "    if values is None:\n",
    "        values = list(range(1, num_edge + 1))\n",
    "    \n",
    "    while True:\n",
    "        yield random.choice(values)\n"
   ]
  },
  {
   "cell_type": "code",
   "execution_count": 2,
   "metadata": {},
   "outputs": [
    {
     "name": "stdout",
     "output_type": "stream",
     "text": [
      "\n",
      "Бросаем кубик с текстовыми значениями:\n",
      "три\n",
      "три\n",
      "три\n",
      "пять\n",
      "шесть\n"
     ]
    }
   ],
   "source": [
    "# Подбрасываем кубик с текстовыми значениями\n",
    "print(\"\\nБросаем кубик с текстовыми значениями:\")\n",
    "dice = GenDice(values=['один', 'два', 'три', 'четыре', 'пять', 'шесть'])\n",
    "for _ in range(5):\n",
    "    print(next(dice))"
   ]
  },
  {
   "cell_type": "code",
   "execution_count": 3,
   "metadata": {},
   "outputs": [
    {
     "name": "stdout",
     "output_type": "stream",
     "text": [
      "\n",
      "Бросаем 10-гранный кубик:\n",
      "1\n",
      "4\n",
      "2\n",
      "5\n",
      "3\n"
     ]
    }
   ],
   "source": [
    "# Подбрасываем кубик с 10 гранями\n",
    "print(\"\\nБросаем 10-гранный кубик:\")\n",
    "dice = GenDice(num_edge=10)\n",
    "for _ in range(5):\n",
    "    print(next(dice))"
   ]
  },
  {
   "cell_type": "code",
   "execution_count": 4,
   "metadata": {},
   "outputs": [
    {
     "name": "stdout",
     "output_type": "stream",
     "text": [
      "Бросаем шестигранный кубик:\n",
      "3\n",
      "3\n",
      "1\n",
      "2\n",
      "4\n"
     ]
    }
   ],
   "source": [
    "# Подбрасываем обычный шестигранный кубик\n",
    "print(\"Бросаем шестигранный кубик:\")\n",
    "dice = GenDice()\n",
    "for _ in range(5):\n",
    "    print(next(dice))"
   ]
  }
 ],
 "metadata": {
  "kernelspec": {
   "display_name": "Python 3",
   "language": "python",
   "name": "python3"
  },
  "language_info": {
   "codemirror_mode": {
    "name": "ipython",
    "version": 3
   },
   "file_extension": ".py",
   "mimetype": "text/x-python",
   "name": "python",
   "nbconvert_exporter": "python",
   "pygments_lexer": "ipython3",
   "version": "3.12.3"
  }
 },
 "nbformat": 4,
 "nbformat_minor": 2
}
