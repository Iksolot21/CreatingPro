{
 "cells": [
  {
   "cell_type": "code",
   "execution_count": 1,
   "metadata": {},
   "outputs": [],
   "source": [
    "import itertools"
   ]
  },
  {
   "cell_type": "code",
   "execution_count": 2,
   "metadata": {},
   "outputs": [
    {
     "name": "stdout",
     "output_type": "stream",
     "text": [
      "accumulate: [1, 3, 6, 10, 15]\n"
     ]
    }
   ],
   "source": [
    "# 1. accumulate\n",
    "numbers = [1, 2, 3, 4, 5]\n",
    "accumulated = itertools.accumulate(numbers)\n",
    "print(\"accumulate:\", list(accumulated))  # Выведет: [1, 3, 6, 10, 15]"
   ]
  },
  {
   "cell_type": "code",
   "execution_count": 3,
   "metadata": {},
   "outputs": [
    {
     "name": "stdout",
     "output_type": "stream",
     "text": [
      "combinations_with_replacement: [(1, 1), (1, 2), (1, 3), (2, 2), (2, 3), (3, 3)]\n"
     ]
    }
   ],
   "source": [
    "# 2. combinations_with_replacement\n",
    "numbers = [1, 2, 3]\n",
    "combinations = itertools.combinations_with_replacement(numbers, 2)\n",
    "print(\"combinations_with_replacement:\", list(combinations))  # Выведет: [(1, 1), (1, 2), (1, 3), (2, 2), (2, 3), (3, 3)]"
   ]
  },
  {
   "cell_type": "code",
   "execution_count": 4,
   "metadata": {},
   "outputs": [
    {
     "name": "stdout",
     "output_type": "stream",
     "text": [
      "islice: [3, 4, 5, 6, 7]\n"
     ]
    }
   ],
   "source": [
    "\n",
    "# 3. islice\n",
    "numbers = [1, 2, 3, 4, 5, 6, 7, 8, 9, 10]\n",
    "sliced = itertools.islice(numbers, 2, 7)  # Получить элементы с индексами от 2 до 7\n",
    "print(\"islice:\", list(sliced))  # Выведет: [3, 4, 5, 6, 7]"
   ]
  }
 ],
 "metadata": {
  "kernelspec": {
   "display_name": "Python 3",
   "language": "python",
   "name": "python3"
  },
  "language_info": {
   "codemirror_mode": {
    "name": "ipython",
    "version": 3
   },
   "file_extension": ".py",
   "mimetype": "text/x-python",
   "name": "python",
   "nbconvert_exporter": "python",
   "pygments_lexer": "ipython3",
   "version": "3.12.3"
  }
 },
 "nbformat": 4,
 "nbformat_minor": 2
}
