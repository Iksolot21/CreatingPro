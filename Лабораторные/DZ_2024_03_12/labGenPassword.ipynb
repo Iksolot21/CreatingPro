{
 "cells": [
  {
   "cell_type": "markdown",
   "metadata": {},
   "source": [
    "### Функция generate_passwords предназначена для генерации одного или нескольких случайных паролей с заданными параметрами сложности.\n",
    "`Входные параметры:`\n",
    "\n",
    "- num_passwords (int, необязательный): Количество паролей для генерации. По умолчанию равно None, что означает бесконечную генерацию паролей.\n",
    "- length (int, по умолчанию 8): Длина генерируемых паролей.\n",
    "- use_digits (bool, по умолчанию True): Флаг, указывающий, следует ли включать цифры в пароли.\n",
    "- use_lower (bool, по умолчанию True): Флаг, указывающий, следует ли включать строчные буквы в пароли.\n",
    "- use_upper (bool, по умолчанию True): Флаг, указывающий, следует ли включать прописные буквы в пароли.\n",
    "- use_special (bool, по умолчанию True): Флаг, указывающий, следует ли включать специальные символы в пароли.\n",
    "- special_chars (str, по умолчанию '!@#$%^&*()_+-=[]{}|;:,.<>?'): Строка, содержащая специальные символы для включения в пароли.\n",
    "\n",
    "`Возвращаемое значение:`\n",
    "Возвращает генератор (generator object), который генерирует случайные пароли с заданными параметрами. Если num_passwords не указан или равен None, генератор бесконечно генерирует пароли. Если num_passwords задано, генератор генерирует указанное количество паролей."
   ]
  },
  {
   "cell_type": "code",
   "execution_count": 2,
   "metadata": {},
   "outputs": [],
   "source": [
    "import random\n",
    "import string\n",
    "\n",
    "def generate_passwords(\n",
    "    num_passwords: int = None,\n",
    "    length: int = 8,\n",
    "    use_digits: bool = True,\n",
    "    use_lower: bool = True,\n",
    "    use_upper: bool = True,\n",
    "    use_special: bool = True,\n",
    "    special_chars: str = '!@#$%^&*()_+-=[]{}|;:,.<>?'):\n",
    "    options = ''\n",
    "    if use_digits:\n",
    "        options += string.digits\n",
    "    if use_lower:\n",
    "        options += string.ascii_lowercase\n",
    "    if use_upper:\n",
    "        options += string.ascii_uppercase\n",
    "    if use_special:\n",
    "        options += special_chars\n",
    "    \n",
    "    while num_passwords is None or num_passwords > 0:\n",
    "        password = ''.join(random.choice(options) for _ in range(length))\n",
    "        yield password\n",
    "        if num_passwords is not None:\n",
    "            num_passwords -= 1\n",
    "\n"
   ]
  },
  {
   "cell_type": "code",
   "execution_count": 3,
   "metadata": {},
   "outputs": [
    {
     "name": "stdout",
     "output_type": "stream",
     "text": [
      "?dC{,z|0<z\n",
      "01?CUJgLwf\n",
      "^JtNC|87Gm\n",
      "R*Jnyryqs}\n",
      "&&,tqasN*$\n"
     ]
    }
   ],
   "source": [
    "# Пример использования\n",
    "password_generator = generate_passwords(num_passwords=5, length=10)\n",
    "for password in password_generator:\n",
    "    print(password)"
   ]
  },
  {
   "cell_type": "code",
   "execution_count": 4,
   "metadata": {},
   "outputs": [
    {
     "name": "stdout",
     "output_type": "stream",
     "text": [
      "7 паролей длиной 10 символов (только строчные буквы и специальные символы из '!@#$%^&*'):\n",
      "&eo%nwyslw\n",
      "bopxzsu#w*\n",
      "n%jqhkkkuy\n",
      "zsysf@@pbx\n",
      "n%zkg!^#hc\n",
      "kmv^k@rna!\n",
      "dtri%$pe*$\n",
      "\n"
     ]
    }
   ],
   "source": [
    "# Сгенерировать 7 паролей длиной 10 символов, включая только строчные буквы и специальные символы\n",
    "passwords = generate_passwords(num_passwords=7, length=10, use_digits=False, use_upper=False, use_special=True, special_chars='!@#$%^&*')\n",
    "print(\"7 паролей длиной 10 символов (только строчные буквы и специальные символы из '!@#$%^&*'):\")\n",
    "for password in passwords:\n",
    "    print(password)\n",
    "print()"
   ]
  },
  {
   "cell_type": "code",
   "execution_count": 5,
   "metadata": {},
   "outputs": [
    {
     "name": "stdout",
     "output_type": "stream",
     "text": [
      "3 пароля длиной 12 символов (только цифры):\n",
      "888514230759\n",
      "808230369649\n",
      "499224538618\n",
      "\n"
     ]
    }
   ],
   "source": [
    "# Сгенерировать 3 пароля длиной 12 символов, включая только цифры\n",
    "passwords = generate_passwords(num_passwords=3, length=12, use_lower=False, use_upper=False, use_special=False)\n",
    "print(\"3 пароля длиной 12 символов (только цифры):\")\n",
    "for password in passwords:\n",
    "    print(password)\n",
    "print()"
   ]
  }
 ],
 "metadata": {
  "kernelspec": {
   "display_name": "Python 3",
   "language": "python",
   "name": "python3"
  },
  "language_info": {
   "codemirror_mode": {
    "name": "ipython",
    "version": 3
   },
   "file_extension": ".py",
   "mimetype": "text/x-python",
   "name": "python",
   "nbconvert_exporter": "python",
   "pygments_lexer": "ipython3",
   "version": "3.11.9"
  }
 },
 "nbformat": 4,
 "nbformat_minor": 2
}
