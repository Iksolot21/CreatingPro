{
 "cells": [
  {
   "cell_type": "code",
   "execution_count": 2,
   "metadata": {},
   "outputs": [
    {
     "name": "stdout",
     "output_type": "stream",
     "text": [
      "Table format: grid\n",
      "+--------+-------+----------+\n",
      "| Name   |   Age |   Height |\n",
      "+========+=======+==========+\n",
      "| Alice  |    25 |      165 |\n",
      "+--------+-------+----------+\n",
      "| Bob    |    30 |      180 |\n",
      "+--------+-------+----------+\n",
      "\n",
      "Table format: rst\n",
      "======  =====  ========\n",
      "Name      Age    Height\n",
      "======  =====  ========\n",
      "Alice      25       165\n",
      "Bob        30       180\n",
      "======  =====  ========\n",
      "\n",
      "Table format: github\n",
      "| Name   |   Age |   Height |\n",
      "|--------|-------|----------|\n",
      "| Alice  |    25 |      165 |\n",
      "| Bob    |    30 |      180 |\n",
      "\n",
      "Table format: latex\n",
      "\\begin{tabular}{lrr}\n",
      "\\hline\n",
      " Name   &   Age &   Height \\\\\n",
      "\\hline\n",
      " Alice  &    25 &      165 \\\\\n",
      " Bob    &    30 &      180 \\\\\n",
      "\\hline\n",
      "\\end{tabular}\n",
      "\n",
      "Table format: pipe\n",
      "| Name   |   Age |   Height |\n",
      "|:-------|------:|---------:|\n",
      "| Alice  |    25 |      165 |\n",
      "| Bob    |    30 |      180 |\n",
      "\n",
      "Table format: mediawiki\n",
      "{| class=\"wikitable\" style=\"text-align: left;\"\n",
      "|+ <!-- caption -->\n",
      "|-\n",
      "! Name   !! align=\"right\"|   Age !! align=\"right\"|   Height\n",
      "|-\n",
      "| Alice  || align=\"right\"|    25 || align=\"right\"|      165\n",
      "|-\n",
      "| Bob    || align=\"right\"|    30 || align=\"right\"|      180\n",
      "|}\n",
      "\n"
     ]
    }
   ],
   "source": [
    "from tabulate import tabulate\n",
    "\n",
    "# Пример данных\n",
    "data = [\n",
    "    [\"Alice\", 25, 165],\n",
    "    [\"Bob\", 30, 180]\n",
    "]\n",
    "\n",
    "# Список методов для тестирования\n",
    "table_formats = [\"grid\", \"rst\", \"github\", \"latex\", \"pipe\", \"mediawiki\"]\n",
    "\n",
    "# Печать таблицы в различных форматах\n",
    "for fmt in table_formats:\n",
    "    print(f\"Table format: {fmt}\")\n",
    "    print(tabulate(data, headers=[\"Name\", \"Age\", \"Height\"], tablefmt=fmt))\n",
    "    print()"
   ]
  }
 ],
 "metadata": {
  "kernelspec": {
   "display_name": "Python 3",
   "language": "python",
   "name": "python3"
  },
  "language_info": {
   "codemirror_mode": {
    "name": "ipython",
    "version": 3
   },
   "file_extension": ".py",
   "mimetype": "text/x-python",
   "name": "python",
   "nbconvert_exporter": "python",
   "pygments_lexer": "ipython3",
   "version": "3.12.3"
  }
 },
 "nbformat": 4,
 "nbformat_minor": 2
}
