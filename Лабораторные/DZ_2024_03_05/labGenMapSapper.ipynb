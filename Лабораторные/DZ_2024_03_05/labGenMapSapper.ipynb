{
 "cells": [
  {
   "cell_type": "markdown",
   "metadata": {},
   "source": [
    " ### Функция(Minesweeper) - создает игровое поле для игры \"Сапер\".<hr>\n",
    "\n",
    " > **Входящие параметры <br>** \n",
    " \n",
    "`Обязательные параметры`:\n",
    "- map_height (int): высота игрового поля (по умолчанию = 9).\n",
    "- map_width (int): ширина игрового поля (по умолчанию = 9).\n",
    "- num_mines (int): количество случайно расставленных мин на поле (по умолчанию = 10).\n",
    "- cord_mine (tuple[tuple[int, int]]): кортеж мин с точными координатами (необязательный, например, ((1,1),(2,3),(1,4)) т.е. на поле разместить три мины).\n",
    "- first_turn tuple[int, int]: координаты первого хода (т.е. эта клетка должна быть точно без мины) (по умолчанию = none).\n",
    "\n",
    "`Второстепенные параметры`:\n",
    "- mine_symbol (str): обозначение символа мины\n",
    "\n",
    "> **Returns:** <br>\n",
    "* list[list[str]]: игровое поле (матрица) в виде списка списков, где элемент содержит либо символ мины, либо число, обозначающее количество мин вокруг этого элемента."
   ]
  },
  {
   "cell_type": "code",
   "execution_count": 2,
   "metadata": {},
   "outputs": [],
   "source": [
    "import random\n",
    "def Minesweeper(\n",
    "    map_height: int = 9,\n",
    "    map_width: int = 9,\n",
    "    num_mines: int = 10,\n",
    "    cord_mine: tuple[tuple[int, int]] = None,\n",
    "    first_turn: tuple[int, int] = None,\n",
    "    mine_symbol: str = '*') -> list[list[str]]:\n",
    "    \n",
    "    # Проверка входных параметров\n",
    "    if map_height < 1 or map_width < 1:\n",
    "        raise ValueError(\"Высота и ширина игрового поля должны быть положительными целыми числами.\")\n",
    "    if num_mines < 0 or num_mines >= map_height * map_width:\n",
    "        raise ValueError(\"Количество мин должно быть неотрицательным и меньше общего числа клеток на поле.\")\n",
    "    if cord_mine and len(cord_mine) > num_mines:\n",
    "        raise ValueError(\"Количество заданных координат мин не должно превышать общее количество мин.\")\n",
    "    if first_turn and (first_turn[0] < 0 or first_turn[0] >= map_height or first_turn[1] < 0 or first_turn[1] >= map_width):\n",
    "        raise ValueError(\"Координаты первого хода должны быть в пределах игрового поля.\")\n",
    "\n",
    "    # Создание игрового поля\n",
    "    game_map = [[0 for _ in range(map_width)] for _ in range(map_height)]\n",
    "\n",
    "    # Размещение мин на поле\n",
    "    mines_placed = []\n",
    "    if cord_mine:\n",
    "        for x, y in cord_mine:\n",
    "            game_map[x][y] = mine_symbol\n",
    "            mines_placed.append((x, y))\n",
    "    else:\n",
    "        mines_placed = random.sample([(x, y) for x in range(map_height) for y in range(map_width)], num_mines)\n",
    "        for x, y in mines_placed:\n",
    "            game_map[x][y] = mine_symbol\n",
    "\n",
    "    # Удаление мины на первом ходе, если задано\n",
    "    if first_turn:\n",
    "        x, y = first_turn\n",
    "        if game_map[x][y] == mine_symbol:\n",
    "            game_map[x][y] = 0\n",
    "            mines_placed.remove((x, y))\n",
    "\n",
    "    # Подсчет количества мин вокруг каждой клетки\n",
    "    for x in range(map_height):\n",
    "        for y in range(map_width):\n",
    "            if game_map[x][y] != mine_symbol:\n",
    "                mine_count = sum(\n",
    "                    1 for dx in [-1, 0, 1] for dy in [-1, 0, 1]\n",
    "                    if 0 <= x + dx < map_height and 0 <= y + dy < map_width\n",
    "                    and game_map[x + dx][y + dy] == mine_symbol\n",
    "                )\n",
    "                game_map[x][y] = str(mine_count)\n",
    "\n",
    "    return game_map"
   ]
  },
  {
   "cell_type": "code",
   "execution_count": 3,
   "metadata": {},
   "outputs": [
    {
     "name": "stdout",
     "output_type": "stream",
     "text": [
      "Игровое поле по умолчанию (9x9, 10 мин):\n",
      "*1000001*\n",
      "110000011\n",
      "110000000\n",
      "*22110000\n",
      "3*2*10111\n",
      "*221101*1\n",
      "121100111\n",
      "12*111100\n",
      "*2111*100\n"
     ]
    }
   ],
   "source": [
    "print(\"Игровое поле по умолчанию (9x9, 10 мин):\")\n",
    "print('\\n'.join([''.join(row) for row in Minesweeper()]))"
   ]
  },
  {
   "cell_type": "code",
   "execution_count": 6,
   "metadata": {},
   "outputs": [
    {
     "name": "stdout",
     "output_type": "stream",
     "text": [
      "\n",
      "Игровое поле размером 8x5 с 6 минами и координатами первого хода (2, 3):\n",
      "1*100\n",
      "12210\n",
      "01*10\n",
      "01110\n",
      "00011\n",
      "1102*\n",
      "*103*\n",
      "1102*\n"
     ]
    }
   ],
   "source": [
    "print(\"\\nИгровое поле размером 8x5 с 6 минами и координатами первого хода (2, 3):\")\n",
    "print('\\n'.join([''.join(row) for row in Minesweeper(8, 5, 6, None, (2, 3))]))"
   ]
  },
  {
   "cell_type": "code",
   "execution_count": 7,
   "metadata": {},
   "outputs": [
    {
     "name": "stdout",
     "output_type": "stream",
     "text": [
      "\n",
      "Игровое поле размером 10x10 с 15 минами и заданными координатами мин ((2, 3), (5, 6), (8, 1)):\n",
      "0000000000\n",
      "0011100000\n",
      "001*100000\n",
      "0011100000\n",
      "0000011100\n",
      "000001*100\n",
      "0000011100\n",
      "1110000000\n",
      "1*10000000\n",
      "1110000000\n"
     ]
    }
   ],
   "source": [
    "print(\"\\nИгровое поле размером 10x10 с 15 минами и заданными координатами мин ((2, 3), (5, 6), (8, 1)):\")\n",
    "print('\\n'.join([''.join(row) for row in Minesweeper(10, 10, 15, ((2, 3), (5, 6), (8, 1)))]))"
   ]
  }
 ],
 "metadata": {
  "kernelspec": {
   "display_name": "Python 3",
   "language": "python",
   "name": "python3"
  },
  "language_info": {
   "codemirror_mode": {
    "name": "ipython",
    "version": 3
   },
   "file_extension": ".py",
   "mimetype": "text/x-python",
   "name": "python",
   "nbconvert_exporter": "python",
   "pygments_lexer": "ipython3",
   "version": "3.11.9"
  }
 },
 "nbformat": 4,
 "nbformat_minor": 2
}
