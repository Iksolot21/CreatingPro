{
 "cells": [
  {
   "cell_type": "markdown",
   "metadata": {},
   "source": [
    "\n",
    "### Функция(create_maze) - создает лабиринт с использованием рекурсивного случайного прохода.<hr>\n",
    "> **Входящие параметры: <br>**\n",
    "\n",
    "- map_height (int): высота лабиринта.\n",
    "- map_width (int): ширина лабиринта.\n",
    "- start (tuple[int, int]): координаты начальной точки (по умолчанию случайно на левой стенке).\n",
    "- end (tuple[int, int]): координаты конечной точки (по умолчанию случайно на правой стенке).\n",
    "\n",
    "> **Возвращает:** <br>\n",
    "\n",
    "- list[list[str]]: лабиринт, представленный в виде списка списков, где каждый элемент - символ.\n"
   ]
  },
  {
   "cell_type": "code",
   "execution_count": 1,
   "metadata": {},
   "outputs": [],
   "source": [
    "#Способ 1: Рекурсивное построение лабиринта с помощью случайного прохода\n",
    "\n",
    "import random\n",
    "\n",
    "def create_maze(\n",
    "    height: int,\n",
    "    width: int,\n",
    "    start: tuple[int, int] = None,\n",
    "    end: tuple[int, int] = None) -> list[list[str]]:\n",
    "    if height < 3 or width < 3:\n",
    "        raise ValueError(\"Размеры лабиринта должны быть не менее 3x3.\")\n",
    "\n",
    "    maze = [['█' for _ in range(width)] for _ in range(height)]\n",
    "\n",
    "    if not start:\n",
    "        start = (random.randint(1, height - 2), 0)\n",
    "    if not end:\n",
    "        end = (random.randint(1, height - 2), width - 1)\n",
    "\n",
    "    maze[start[0]][start[1]] = '~'\n",
    "    maze[end[0]][end[1]] = '$'\n",
    "\n",
    "    def carve_maze(x, y):\n",
    "        maze[x][y] = ' '\n",
    "        directions = [(0, 1), (0, -1), (1, 0), (-1, 0)]\n",
    "        random.shuffle(directions)\n",
    "        for dx, dy in directions:\n",
    "            nx, ny = x + 2 * dx, y + 2 * dy\n",
    "            if (\n",
    "                0 <= nx < height\n",
    "                and 0 <= ny < width\n",
    "                and maze[nx][ny] == '█'\n",
    "            ):\n",
    "                maze[x + dx][y + dy] = ' '\n",
    "                carve_maze(nx, ny)\n",
    "\n",
    "    carve_maze(start[0] + 1, start[1])\n",
    "    return maze\n",
    "\n"
   ]
  },
  {
   "cell_type": "code",
   "execution_count": 2,
   "metadata": {},
   "outputs": [
    {
     "name": "stdout",
     "output_type": "stream",
     "text": [
      "Лабиринт 10x20 со случайными начальной и конечной точками:\n",
      "   █   █       █   █\n",
      " █ █ █ █████ █ ███ █\n",
      " █   █ █     █   █ █\n",
      " █████ █ ███████ █ █\n",
      "     █ █       █ █ █\n",
      "~███ █ ███ ███ █ █ █\n",
      " █   █   █   █ █   █\n",
      " █ █████ █████ ███ █\n",
      "   █           █   $\n",
      "████████████████████\n"
     ]
    }
   ],
   "source": [
    "# Пример использования\n",
    "print(\"Лабиринт 10x20 со случайными начальной и конечной точками:\")\n",
    "maze = create_maze(10, 20)\n",
    "for row in maze:\n",
    "    print(''.join(row))"
   ]
  },
  {
   "cell_type": "markdown",
   "metadata": {},
   "source": [
    "### Функция create_maze - Строит лабиринт с использованием алгоритма Прима.\n",
    "**`Входные параметры:`**\n",
    "\n",
    "- height (int): Высота лабиринта.\n",
    "- width (int): Ширина лабиринта.\n",
    "- start (tuple[int, int], необязательный): Координаты начальной точки (если не указана, выбирается случайно на левой стенке).\n",
    "- end (tuple[int, int], необязательный): Координаты конечной точки (если не указана, выбирается случайно на правой стенке).\n",
    "\n",
    "**`Возвращает:`**\n",
    "\n",
    "list[list[str]]: Лабиринт, представленный в виде списка списков, где каждый элемент - символ, обозначающий ячейку лабиринта."
   ]
  },
  {
   "cell_type": "code",
   "execution_count": 3,
   "metadata": {},
   "outputs": [],
   "source": [
    "import random\n",
    "\n",
    "def create_maze(height: int, width: int, start: tuple[int, int] = None, end: tuple[int, int] = None) -> list[list[str]]:\n",
    "    if height < 3 or width < 3:\n",
    "        raise ValueError(\"Размеры лабиринта должны быть не менее 3x3.\")\n",
    "\n",
    "    maze = [['█' for _ in range(width)] for _ in range(height)]\n",
    "\n",
    "    if not start:\n",
    "        start = (random.randint(1, height - 2), 0)\n",
    "    if not end:\n",
    "        end = (random.randint(1, height - 2), width - 1)\n",
    "\n",
    "    maze[start[0]][start[1]] = '~'\n",
    "    maze[end[0]][end[1]] = '$'\n",
    "\n",
    "    def carve(x, y):\n",
    "        maze[x][y] = ' '\n",
    "\n",
    "        directions = [(0, 2), (2, 0), (-2, 0), (0, -2)]\n",
    "        random.shuffle(directions)\n",
    "\n",
    "        for dx, dy in directions:\n",
    "            nx, ny = x + dx, y + dy\n",
    "            if 0 <= nx < height and 0 <= ny < width and maze[nx][ny] == '█':\n",
    "                maze[x + dx // 2][y + dy // 2] = ' '\n",
    "                carve(nx, ny)\n",
    "\n",
    "    carve(start[0], start[1])\n",
    "\n",
    "    return maze"
   ]
  },
  {
   "cell_type": "code",
   "execution_count": 8,
   "metadata": {},
   "outputs": [
    {
     "name": "stdout",
     "output_type": "stream",
     "text": [
      "Лабиринт 10x20 со случайными начальной и конечной точками:\n",
      "█████████████████████\n",
      "               █    E\n",
      "████████ █████ ███ █ \n",
      "S█       █   █ █   █ \n",
      " █ █████████ █ █ ███ \n",
      " █     █     █   █ █ \n",
      " █████ █ █████████ █ \n",
      " █   █ █           █ \n",
      " █ █ █ █ █████████ █ \n",
      "   █   █         █   \n",
      "█████████████████████\n"
     ]
    }
   ],
   "source": [
    "# Пример использования\n",
    "print(\"Лабиринт 10x20 со случайными начальной и конечной точками:\")\n",
    "maze = create_maze(10, 20)\n",
    "for row in maze:\n",
    "    print(''.join(row))"
   ]
  },
  {
   "cell_type": "markdown",
   "metadata": {},
   "source": [
    "### Функция create_maze - Строит лабиринт с помощью рекурсивного удаления стен.\n",
    "`Входные параметры:`\n",
    "\n",
    "- height (int): Высота лабиринта.\n",
    "- width (int): Ширина лабиринта.\n",
    "- start (tuple[int, int], необязательный): Координаты начальной точки (если не указана, выбирается случайно на левой стенке).\n",
    "- end (tuple[int, int], необязательный): Координаты конечной точки (если не указана, выбирается случайно на правой стенке).\n",
    "\n",
    "`Возвращает:`\n",
    "\n",
    "- list[list[str]]: Лабиринт, представленный в виде списка списков, где каждый элемент - символ, обозначающий ячейку лабиринта."
   ]
  },
  {
   "cell_type": "code",
   "execution_count": 9,
   "metadata": {},
   "outputs": [],
   "source": [
    "import random\n",
    "\n",
    "def create_maze(height, width, start=None, end=None):\n",
    "    # Размеры должны быть нечётными для корректного формирования лабиринта\n",
    "    height = height if height % 2 == 1 else height + 1\n",
    "    width = width if width % 2 == 1 else width + 1\n",
    "    \n",
    "    # Создаем сетку с изначальными стенами\n",
    "    maze = [['█' for _ in range(width)] for _ in range(height)]\n",
    "    \n",
    "    # Внутренняя функция для генерации лабиринта\n",
    "    def carve_passages_from(cx, cy):\n",
    "        directions = [(2, 0), (-2, 0), (0, 2), (0, -2)]\n",
    "        random.shuffle(directions)\n",
    "        \n",
    "        for dx, dy in directions:\n",
    "            nx, ny = cx + dx, cy + dy\n",
    "            \n",
    "            if 0 <= nx < height and 0 <= ny < width and maze[nx][ny] == '█':\n",
    "                maze[nx][ny] = ' '\n",
    "                maze[cx + dx // 2][cy + dy // 2] = ' '\n",
    "                carve_passages_from(nx, ny)\n",
    "    \n",
    "    # Начальные и конечные координаты\n",
    "    if start is None:\n",
    "        start = (random.randint(0, height // 2) * 2 + 1, 0)\n",
    "    if end is None:\n",
    "        end = (random.randint(0, height // 2) * 2 + 1, width - 1)\n",
    "    \n",
    "    # Начальная точка должна быть проходом\n",
    "    start_x, start_y = start\n",
    "    end_x, end_y = end\n",
    "    \n",
    "    # Устанавливаем начальную точку\n",
    "    maze[start_x][start_y] = ' '\n",
    "    \n",
    "    # Начинаем генерацию лабиринта с начальной точки\n",
    "    carve_passages_from(start_x, start_y)\n",
    "    \n",
    "    # Обозначаем начальную и конечную точки\n",
    "    maze[start_x][start_y] = 'S'\n",
    "    maze[end_x][end_y] = 'E'\n",
    "    \n",
    "    return maze\n",
    "\n",
    "def print_maze(maze):\n",
    "    for row in maze:\n",
    "        print(''.join(row))\n",
    "\n",
    "\n"
   ]
  },
  {
   "cell_type": "code",
   "execution_count": 6,
   "metadata": {},
   "outputs": [
    {
     "name": "stdout",
     "output_type": "stream",
     "text": [
      "█████████████████████\n",
      "           █         \n",
      " █████ ███ █ ███████ \n",
      " █     █ █ █     █   \n",
      "██ █████ █ █ ███ █ ██\n",
      "   █   █   █ █ █ █ █ \n",
      " ███ ███ ███ █ █ █ █ \n",
      "S█   █   █   █ █ █  E\n",
      "██ ███ ███ ███ █ ████\n",
      "       █   █   █     \n",
      " ███████ █████ █████ \n",
      "       █     █   █   \n",
      "██████ █████ █ █ █ █ \n",
      "     █     █   █ █ █ \n",
      " █ ███████ █ █████ █ \n",
      " █         █ █     █ \n",
      " █████████████ █████ \n",
      " █             █     \n",
      " █████████ █████ ████\n",
      "           █         \n",
      "█████████████████████\n"
     ]
    }
   ],
   "source": [
    "height = 20\n",
    "width = 21  \n",
    "maze = create_maze(height, width)\n",
    "print_maze(maze)"
   ]
  },
  {
   "cell_type": "code",
   "execution_count": 7,
   "metadata": {},
   "outputs": [
    {
     "name": "stdout",
     "output_type": "stream",
     "text": [
      "       █         █   \n",
      " █ █████ █████ █ █ ██\n",
      " █ █       █   █ █   \n",
      " ███ ███████ ███ █ █ \n",
      "   █ █     █   █ █ █ \n",
      " █ █ █ ███ █ █ █ ███ \n",
      " █   █ █   █ █ █     \n",
      " █████ ███ ███ █████ \n",
      "     █   █   █   █   \n",
      "████████ ███ ███ █ ██\n",
      "S█       █ █ █   █  E\n",
      " █ ███████ █ █ █████ \n",
      " █       █ █   █     \n",
      " ███████ █ █████ ████\n",
      "     █   █           \n",
      "████ █ █████████████ \n",
      "   █ █ █       █   █ \n",
      " ███ █ █ █████ ███ █ \n",
      " █   █   █   █   █ █ \n",
      " █ ███████ █ ███ █ █ \n",
      "           █     █   \n"
     ]
    }
   ],
   "source": [
    "height = 21  \n",
    "width = 21\n",
    "start_point = (10, 0)\n",
    "end_point = (10, 20)\n",
    "maze = create_maze(height, width, start_point, end_point)\n",
    "print_maze(maze)"
   ]
  }
 ],
 "metadata": {
  "kernelspec": {
   "display_name": "Python 3",
   "language": "python",
   "name": "python3"
  },
  "language_info": {
   "codemirror_mode": {
    "name": "ipython",
    "version": 3
   },
   "file_extension": ".py",
   "mimetype": "text/x-python",
   "name": "python",
   "nbconvert_exporter": "python",
   "pygments_lexer": "ipython3",
   "version": "3.11.9"
  }
 },
 "nbformat": 4,
 "nbformat_minor": 2
}
