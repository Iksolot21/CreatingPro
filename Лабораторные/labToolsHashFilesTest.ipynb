{
 "cells": [
  {
   "cell_type": "markdown",
   "metadata": {},
   "source": [
    "## `“labToolsHashFiles”` - хэши файлов\n",
    "Создать функцию, которая вернет таблицу с хешами в зависимости от входящих параметров.\n",
    "- Входящие параметры:\n",
    "  - анализируемый путь;\n",
    "  - название хеша;\n",
    "  - другие параметры (придумать самостоятельно).\n",
    "- Результат работы функции это таблица с полями:\n",
    "  - название файла (например, относительный путь - относительно анализируемого пути)\n",
    "  - рассчитанный хеш.\n",
    "- Реализация:\n",
    "  - оформить логику в виде отдельного пакета (py-файл).\n",
    "  - для демонстрации возможностесь используем jupyter notebook (ipynb-файл).\n",
    "- Проверка:\n",
    "  - показать все возможности функции на различных примерах.\n",
    "  - таблицу красиво вывести в консоль.\n"
   ]
  },
  {
   "cell_type": "code",
   "execution_count": 20,
   "metadata": {},
   "outputs": [
    {
     "name": "stdout",
     "output_type": "stream",
     "text": [
      "DZ_03.05.ipynb: 263989f264ddac03dcb11c7a432d20c54c1b9e6fdf3f9a567f5ce8f901167a26\n",
      "DZ_12_03.ipynb: 3b037283b76b4788a7da9a8dc624637448c15b210710d38d0b3fd56169053bfb\n",
      "DZ_19_05.ipynb: 9abe4effa2b0e382956e5ac4c4ba384565bf8951ea1aa29e48ab43d8f4be1abf\n",
      "labGenComprehesion0.ipynb: d61acdacd38f2bc9f9a3a9f1bc22564b43c27cc2f61f7cb6c17cfd2fe0dd60ba\n",
      "labPrintFileTree.ipynb: 8ac7fb8fccfcedd42a7fd0a273752117e8a25067e9e73bfb52be934d48dc1ee9\n",
      "LabPrintShapeDef.ipynb: 799c58aae0f9a003a5d8439739997c230e2dba8ad9e211ae62f64ed7b9985cf9\n",
      "labPrintShapes.py: 4d5c8b9fcb54598043d8b3afd40cca5b58f4a768ff03de8e4d585240710e6489\n",
      "labToolsHashFiles.py: fc87c01a3d525d0c13c4e238c28c1b129eb409410f1623c10623ccecefad5b1b\n",
      "labToolsHashFiles.py.py: e3b0c44298fc1c149afbf4c8996fb92427ae41e4649b934ca495991b7852b855\n",
      "labToolsHashFilesStat.py: c5facc9edd5c156fadbee89e6f1999bee9e73d079ad3f7b4044e97cd918240d6\n",
      "labToolsHashFilesStatTest.ipynb: 607b67d38ff914e5ca5887cb72d26e98b25f250981de78610c473595c0a9dd9b\n",
      "labToolsHashFilesTest.ipynb: bb0248c8131e914c052c528e85d7d382095884bd96cf9382a844b8b7c6558994\n",
      "labTOPFilesInDir.ipynb: b84fb3cad75b9be929362b738e74d6b17aa0e091a7555a7f01e170d477f38bcc\n",
      "__pycache__\\labToolsHashFiles.cpython-311.pyc: b3cad286a1658b206febcfe0fafd70b0150e4a990e1eeb2f3b233935692de0ee\n",
      "__pycache__\\labToolsHashFiles0.cpython-311.pyc: 675e89fb572b121a4ac38954a5f1519983140e0dc1fc03b8d55a37653351242a\n",
      "__pycache__\\labToolsHashFilesStat.cpython-311.pyc: 0c3961e85e0586cd1a3f8e19c35ba2713e9dbb12bdeb17a6ae0a34c25f83a281\n"
     ]
    }
   ],
   "source": [
    "from labToolsHashFiles import HashTable\n",
    "\n",
    "# Получить хеши SHA-256 всех файлов в текущей директории и ее подкаталогах\n",
    "hash_table = HashTable('.', 'sha256', recursive=True)\n",
    "\n",
    "# Вывести таблицу хешей в консоль\n",
    "for file_path, file_hash in hash_table.items():\n",
    "    print(f\"{file_path}: {file_hash}\")\n",
    "\n",
    "# Получить хеши MD5 всех файлов в директории '/path/to/dir', исключая каталоги 'exclude_dir1' и 'exclude_dir2', и файлы с расширениями '.py' и '.pyc'\n",
    "hash_table = HashTable('/path/to/dir', 'md5', recursive=True, exclude_dirs=['exclude_dir1', 'exclude_dir2'], exclude_extensions=['.py', '.pyc'])\n",
    "\n",
    "# Вывести таблицу хешей в консоль\n",
    "for file_path, file_hash in hash_table.items():\n",
    "    print(f\"{file_path}: {file_hash}\")"
   ]
  }
 ],
 "metadata": {
  "kernelspec": {
   "display_name": "Python 3",
   "language": "python",
   "name": "python3"
  },
  "language_info": {
   "name": "python",
   "version": "3.11.9"
  }
 },
 "nbformat": 4,
 "nbformat_minor": 2
}
