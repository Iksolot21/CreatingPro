{
 "cells": [
  {
   "cell_type": "markdown",
   "metadata": {},
   "source": [
    "# “labPrintFileTree.ipynb” - Распечатать дерево каталогов и файлов в цвете\n",
    "\n",
    "Создать функцию, которая распечатает в консоль дерево каталогов и файлов в цвете.\n",
    "- Входящие параметры:\n",
    "* directory (str): Путь к каталогу.\n",
    "* file_mask (str): Маска файлов. По умолчанию \"*.*\".\n",
    "* tree_type (str): Тип дерева: \"directories\" только каталоги, \"both\" каталоги и файлы. По умолчанию \"both\".\n",
    "* dir_color (str): Цвет каталогов. По умолчанию Fore.BLUE.\n",
    "* file_color (str): Цвет файлов. По умолчанию Fore.GREEN.\n",
    "* indent (int): Отступ для отображения уровней вложенности. По умолчанию 4.\n",
    "  "
   ]
  },
  {
   "cell_type": "code",
   "execution_count": 37,
   "metadata": {},
   "outputs": [],
   "source": [
    "import os\n",
    "from colorama import init, Fore, Style\n",
    "\n",
    "init(strip=False)  # Инициализация colorama\n",
    "\n",
    "def print_colored_file_tree(directory, file_mask=\"*.*\", tree_type=\"both\", dir_color=Fore.CYAN, file_color=Fore.GREEN, indent=4):\n",
    "    # Проверка существования каталога\n",
    "    if not os.path.exists(directory):\n",
    "        print(\"Directory not found.\")\n",
    "        return\n",
    "\n",
    "    # Функция для печати дерева рекурсивно\n",
    "    def print_tree(path, indent_level=0, is_last_entry=False):\n",
    "        entries = os.listdir(path)\n",
    "        for i, entry in enumerate(entries):\n",
    "            full_path = os.path.join(path, entry)\n",
    "            is_last_item = i == len(entries) - 1\n",
    "\n",
    "            # Если это каталог\n",
    "            if os.path.isdir(full_path):\n",
    "                if tree_type == \"both\" or tree_type == \"только каталоги\":\n",
    "                    prefix = f\"{dir_color}{Style.BRIGHT}{' ' * indent_level}{'└───' if is_last_entry and is_last_item else '|───'}{entry}{Style.RESET_ALL}\"\n",
    "                    print(prefix)\n",
    "\n",
    "                # Рекурсивный вызов для каталога\n",
    "                print_tree(full_path, indent_level + 1, is_last_entry and is_last_item)\n",
    "\n",
    "            # Если это файл и тип дерева \"both\" или \"каталоги и файлы\"\n",
    "            elif os.path.isfile(full_path) and (tree_type == \"both\" or tree_type == \"каталоги и файлы\"):\n",
    "                if file_mask == \"*.*\" or os.path.splitext(entry)[1].lower() == file_mask.lower():\n",
    "                    prefix = f\"{file_color}{' ' * indent_level}{'└───' if is_last_entry else '|───'}{entry}{Style.RESET_ALL}\"\n",
    "                    print(prefix)\n",
    "\n",
    "    # Начало печати дерева\n",
    "    print_tree(directory)\n",
    "\n"
   ]
  },
  {
   "cell_type": "code",
   "execution_count": 46,
   "metadata": {},
   "outputs": [
    {
     "name": "stdout",
     "output_type": "stream",
     "text": [
      "\u001b[34m\u001b[1m|───DZ_2024_03_05\u001b[0m\n",
      "\u001b[34m\u001b[1m|───DZ_2024_03_12\u001b[0m\n",
      "\u001b[34m\u001b[1m|───DZ_2024_03_26\u001b[0m\n",
      "\u001b[34m\u001b[1m|───DZ_2024_04_09\u001b[0m\n",
      "\u001b[32m |───labFilesInfoToCSV.py\u001b[0m\n",
      "\u001b[32m |───labToolsHashFiles.py\u001b[0m\n",
      "\u001b[32m |───labToolsHashFilesStat.py\u001b[0m\n",
      "\u001b[34m\u001b[1m |───__pycache__\u001b[0m\n",
      "\u001b[34m\u001b[1m|───DZ_2024_05_01\u001b[0m\n",
      "\u001b[34m\u001b[1m |───temp\u001b[0m\n",
      "\u001b[34m\u001b[1m|───DZ_2024_05_07\u001b[0m\n",
      "\u001b[34m\u001b[1m|───temp\u001b[0m\n",
      "\u001b[34m\u001b[1m|───__pycache__\u001b[0m\n"
     ]
    }
   ],
   "source": [
    "current_dir = os.path.abspath(os.curdir) \n",
    "directory_path = os.path.dirname(current_dir) \n",
    "file_extension = \".py\"\n",
    "tree_type = \"both\"\n",
    "dir_color = Fore.BLUE\n",
    "file_color = Fore.GREEN\n",
    "indent_level = 4\n",
    "\n",
    "print_colored_file_tree(directory_path, file_extension, tree_type, dir_color, file_color, indent_level)"
   ]
  }
 ],
 "metadata": {
  "kernelspec": {
   "display_name": "Python 3",
   "language": "python",
   "name": "python3"
  },
  "language_info": {
   "codemirror_mode": {
    "name": "ipython",
    "version": 3
   },
   "file_extension": ".py",
   "mimetype": "text/x-python",
   "name": "python",
   "nbconvert_exporter": "python",
   "pygments_lexer": "ipython3",
   "version": "3.11.9"
  }
 },
 "nbformat": 4,
 "nbformat_minor": 2
}
