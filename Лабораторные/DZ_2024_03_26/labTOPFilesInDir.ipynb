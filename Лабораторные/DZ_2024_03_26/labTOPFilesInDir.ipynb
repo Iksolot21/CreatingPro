{
 "cells": [
  {
   "cell_type": "markdown",
   "metadata": {},
   "source": [
    "# labTOPFilesInDir\n",
    "Создать выборки.\n",
    "- По заданной папке:\n",
    "  - показать ТОП самых больших файлов (по размеру)\n",
    "  - показать ТОП самых маленьких файлов (по размеру)\n",
    "  - показать ТОП самых длинных имён файлов\n",
    "  - показать ТОП самых коротких имён файлов\n",
    "  - показать ТОП самых часто используемых имён файлов и процентов (т.е. название, кол-во, процент)\n",
    "  - показать ТОП самых длинных расширений файлов\n",
    "  - показать ТОП самых коротких расширений файлов\n",
    "  - показать ТОП самых часто используемых расширений файлов и процентов (т.е. расширение, кол-во, процент)\n",
    "  - показать ТОП самых длинных полных путей к файлам\n",
    "  - придумать и реализовать свои выборки\n",
    "  - показать ТОП самых длинных путей к каталогам (например, с:\\windows\\help\\fgf\\...\\...)\n",
    "  - показать ТОП каталогов, где больше всего файлов (т.е. полный путь, кол-во файлов)\n",
    "  - показать ТОП каталогов, где больше всего подкаталогов (т.е. полный путь, кол-во подкаталогов)\n",
    "  - придумать и реализовать свои выборки\n"
   ]
  },
  {
   "cell_type": "code",
   "execution_count": 3,
   "metadata": {},
   "outputs": [
    {
     "name": "stdout",
     "output_type": "stream",
     "text": [
      "[('c:\\\\Users\\\\артем\\\\Desktop\\\\CreatingPro\\\\Лабораторные\\\\DZ_2024_03_26', 0)]\n"
     ]
    }
   ],
   "source": [
    "import os\n",
    "from collections import Counter\n",
    "\n",
    "directory =os.getcwd() \n",
    "\n",
    "# ТОП каталогов, где больше всего подкаталогов\n",
    "directories_with_most_subdirectories = {}\n",
    "for root, dirs, _ in os.walk(directory):\n",
    "    directories_with_most_subdirectories[root] = len(dirs)\n",
    "top_directories_with_most_subdirectories = sorted(directories_with_most_subdirectories.items(), key=lambda x: x[1], reverse=True)[:5]\n",
    "print(top_directories_with_most_subdirectories)"
   ]
  },
  {
   "cell_type": "code",
   "execution_count": 4,
   "metadata": {},
   "outputs": [
    {
     "name": "stdout",
     "output_type": "stream",
     "text": [
      "[('labPrintFileTree.ipynb', 14349), ('labTOPFilesInDir.ipynb', 12302), ('labGenComprehesion0.ipynb', 9762)]\n"
     ]
    }
   ],
   "source": [
    "# ТОП самых больших файлов\n",
    "top_largest_files = [(f, os.path.getsize(os.path.join(directory, f))) for f in os.listdir(directory) if os.path.isfile(os.path.join(directory, f))]\n",
    "top_largest_files = sorted(top_largest_files, key=lambda x: x[1], reverse=True)[:5]\n",
    "print(top_largest_files)"
   ]
  },
  {
   "cell_type": "code",
   "execution_count": 5,
   "metadata": {},
   "outputs": [
    {
     "name": "stdout",
     "output_type": "stream",
     "text": [
      "[('labGenComprehesion0.ipynb', 9762), ('labTOPFilesInDir.ipynb', 12302), ('labPrintFileTree.ipynb', 14349)]\n"
     ]
    }
   ],
   "source": [
    "# ТОП самых маленьких файлов\n",
    "top_smallest_files = [(f, os.path.getsize(os.path.join(directory, f))) for f in os.listdir(directory) if os.path.isfile(os.path.join(directory, f))]\n",
    "top_smallest_files = sorted(top_smallest_files, key=lambda x: x[1])[:5]\n",
    "print(top_smallest_files)"
   ]
  },
  {
   "cell_type": "code",
   "execution_count": 6,
   "metadata": {},
   "outputs": [
    {
     "name": "stdout",
     "output_type": "stream",
     "text": [
      "[('labGenComprehesion0.ipynb', 25), ('labPrintFileTree.ipynb', 22), ('labTOPFilesInDir.ipynb', 22)]\n"
     ]
    }
   ],
   "source": [
    "# ТОП самых длинных имён файлов\n",
    "top_longest_file_names = [(f, len(f)) for f in os.listdir(directory) if os.path.isfile(os.path.join(directory, f))]\n",
    "top_longest_file_names = sorted(top_longest_file_names, key=lambda x: x[1], reverse=True)[:5]\n",
    "print(top_longest_file_names)"
   ]
  },
  {
   "cell_type": "code",
   "execution_count": 7,
   "metadata": {},
   "outputs": [
    {
     "name": "stdout",
     "output_type": "stream",
     "text": [
      "[('labPrintFileTree.ipynb', 22), ('labTOPFilesInDir.ipynb', 22), ('labGenComprehesion0.ipynb', 25)]\n"
     ]
    }
   ],
   "source": [
    "# ТОП самых коротких имён файлов\n",
    "top_shortest_file_names = [(f, len(f)) for f in os.listdir(directory) if os.path.isfile(os.path.join(directory, f))]\n",
    "top_shortest_file_names = sorted(top_shortest_file_names, key=lambda x: x[1])[:5]\n",
    "print(top_shortest_file_names)\n"
   ]
  },
  {
   "cell_type": "code",
   "execution_count": 8,
   "metadata": {},
   "outputs": [
    {
     "name": "stdout",
     "output_type": "stream",
     "text": [
      "[('labGenComprehesion0', 1, 33.33333333333333), ('labPrintFileTree', 1, 33.33333333333333), ('labTOPFilesInDir', 1, 33.33333333333333)]\n"
     ]
    }
   ],
   "source": [
    "# ТОП самых часто используемых имён файлов и процентов\n",
    "files = [f for f in os.listdir(directory) if os.path.isfile(os.path.join(directory, f))]\n",
    "file_names = [os.path.splitext(f)[0] for f in files]\n",
    "counter = Counter(file_names)\n",
    "total_files = len(file_names)\n",
    "top_most_common_file_names = counter.most_common(5)\n",
    "top_most_common_file_names_percent = [(name, count, count / total_files * 100) for name, count in top_most_common_file_names]\n",
    "print(top_most_common_file_names_percent)\n"
   ]
  },
  {
   "cell_type": "code",
   "execution_count": 9,
   "metadata": {},
   "outputs": [
    {
     "name": "stdout",
     "output_type": "stream",
     "text": [
      "[('labGenComprehesion0.ipynb', 6), ('labPrintFileTree.ipynb', 6), ('labTOPFilesInDir.ipynb', 6)]\n"
     ]
    }
   ],
   "source": [
    "# ТОП самых длинных расширений файлов\n",
    "top_longest_extensions = [(f, len(os.path.splitext(f)[1])) for f in os.listdir(directory) if os.path.isfile(os.path.join(directory, f))]\n",
    "top_longest_extensions = sorted(top_longest_extensions, key=lambda x: x[1], reverse=True)[:5]\n",
    "print(top_longest_extensions)"
   ]
  },
  {
   "cell_type": "code",
   "execution_count": 10,
   "metadata": {},
   "outputs": [
    {
     "name": "stdout",
     "output_type": "stream",
     "text": [
      "[('labGenComprehesion0.ipynb', 6), ('labPrintFileTree.ipynb', 6), ('labTOPFilesInDir.ipynb', 6)]\n"
     ]
    }
   ],
   "source": [
    "# ТОП самых коротких расширений файлов\n",
    "top_shortest_extensions = [(f, len(os.path.splitext(f)[1])) for f in os.listdir(directory) if os.path.isfile(os.path.join(directory, f))]\n",
    "top_shortest_extensions = sorted(top_shortest_extensions, key=lambda x: x[1])[:5]\n",
    "print(top_shortest_extensions)"
   ]
  },
  {
   "cell_type": "code",
   "execution_count": 11,
   "metadata": {},
   "outputs": [
    {
     "name": "stdout",
     "output_type": "stream",
     "text": [
      "[('.ipynb', 3, 100.0)]\n"
     ]
    }
   ],
   "source": [
    "# ТОП самых часто используемых расширений файлов и процентов\n",
    "files = [(os.path.splitext(f)[1], 1) for f in os.listdir(directory) if os.path.isfile(os.path.join(directory, f))]\n",
    "counter = Counter(ext for ext, _ in files)\n",
    "total_files = sum(count for _, count in files)\n",
    "top_most_common_extensions = counter.most_common(5)\n",
    "top_most_common_extensions_percent = [(ext, count, count / total_files * 100) for ext, count in top_most_common_extensions]\n",
    "print(top_most_common_extensions_percent)"
   ]
  },
  {
   "cell_type": "code",
   "execution_count": 12,
   "metadata": {},
   "outputs": [
    {
     "name": "stdout",
     "output_type": "stream",
     "text": [
      "[('c:\\\\Users\\\\артем\\\\Desktop\\\\CreatingPro\\\\Лабораторные\\\\DZ_2024_03_26\\\\labGenComprehesion0.ipynb', 87), ('c:\\\\Users\\\\артем\\\\Desktop\\\\CreatingPro\\\\Лабораторные\\\\DZ_2024_03_26\\\\labPrintFileTree.ipynb', 84), ('c:\\\\Users\\\\артем\\\\Desktop\\\\CreatingPro\\\\Лабораторные\\\\DZ_2024_03_26\\\\labTOPFilesInDir.ipynb', 84)]\n"
     ]
    }
   ],
   "source": [
    "# ТОП самых длинных полных путей к файлам\n",
    "top_longest_paths = [(os.path.join(directory, f), len(os.path.join(directory, f))) for f in os.listdir(directory) if os.path.isfile(os.path.join(directory, f))]\n",
    "top_longest_paths = sorted(top_longest_paths, key=lambda x: x[1], reverse=True)[:5]\n",
    "print(top_longest_paths)"
   ]
  },
  {
   "cell_type": "code",
   "execution_count": 13,
   "metadata": {},
   "outputs": [
    {
     "name": "stdout",
     "output_type": "stream",
     "text": [
      "[('c:\\\\Users\\\\артем\\\\Desktop\\\\CreatingPro\\\\Лабораторные\\\\DZ_2024_03_26', 3)]\n"
     ]
    }
   ],
   "source": [
    "# ТОП каталогов, где больше всего файлов\n",
    "directories_with_most_files = {}\n",
    "for root, _, files in os.walk(directory):\n",
    "    directories_with_most_files[root] = len(files)\n",
    "top_directories_with_most_files = sorted(directories_with_most_files.items(), key=lambda x: x[1], reverse=True)[:5]\n",
    "print(top_directories_with_most_files)"
   ]
  }
 ],
 "metadata": {
  "kernelspec": {
   "display_name": "Python 3",
   "language": "python",
   "name": "python3"
  },
  "language_info": {
   "codemirror_mode": {
    "name": "ipython",
    "version": 3
   },
   "file_extension": ".py",
   "mimetype": "text/x-python",
   "name": "python",
   "nbconvert_exporter": "python",
   "pygments_lexer": "ipython3",
   "version": "3.11.9"
  }
 },
 "nbformat": 4,
 "nbformat_minor": 2
}
