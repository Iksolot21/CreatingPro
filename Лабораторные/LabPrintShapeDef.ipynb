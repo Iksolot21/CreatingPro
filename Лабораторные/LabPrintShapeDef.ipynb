{
 "cells": [
  {
   "cell_type": "code",
   "execution_count": 83,
   "metadata": {},
   "outputs": [
    {
     "name": "stdout",
     "output_type": "stream",
     "text": [
      "***************\n",
      "***************\n",
      "***************\n",
      "***************\n",
      "***************\n"
     ]
    }
   ],
   "source": [
    "def draw_filled_rectangle(w, h, fill):\n",
    "    for i in range(h):\n",
    "        print(fill * w)\n",
    "        \n",
    "draw_filled_rectangle(15, 5, fill='*')"
   ]
  },
  {
   "cell_type": "code",
   "execution_count": 84,
   "metadata": {},
   "outputs": [
    {
     "name": "stdout",
     "output_type": "stream",
     "text": [
      "***************\n",
      "*             *\n",
      "*             *\n",
      "*             *\n",
      "*             *\n",
      "***************\n"
     ]
    }
   ],
   "source": [
    "def draw_empty_rectangle(w, h, fill):\n",
    "    print(fill * w)\n",
    "    for i in range(h-2):\n",
    "        print(fill + ' ' * (w-2) + fill)\n",
    "    print(fill * w)\n",
    "    \n",
    "draw_empty_rectangle(15, 6, fill='*')"
   ]
  },
  {
   "cell_type": "code",
   "execution_count": 85,
   "metadata": {},
   "outputs": [
    {
     "name": "stdout",
     "output_type": "stream",
     "text": [
      "         *\n",
      "        **\n",
      "       ***\n",
      "      ****\n",
      "     *****\n",
      "    ******\n",
      "   *******\n",
      "  ********\n",
      " *********\n",
      "**********\n"
     ]
    }
   ],
   "source": [
    "def draw_down_right_triangle(h, fill):\n",
    "    for i in range(1, h + 1):\n",
    "        spaces = ' ' * (h - i)\n",
    "        print(spaces + fill * i)\n",
    "        \n",
    "draw_down_right_triangle(10, fill='*')"
   ]
  },
  {
   "cell_type": "code",
   "execution_count": 86,
   "metadata": {},
   "outputs": [
    {
     "name": "stdout",
     "output_type": "stream",
     "text": [
      "*    \n",
      "**   \n",
      "***  \n",
      "**** \n",
      "*****\n"
     ]
    }
   ],
   "source": [
    "def draw_down_left_triangle(h, fill):\n",
    "    for i in range(1, h + 1):\n",
    "        spaces = ' ' * (h - i)\n",
    "        print(fill * i + spaces)\n",
    "        \n",
    "draw_down_left_triangle(5, fill='*')"
   ]
  },
  {
   "cell_type": "code",
   "execution_count": 87,
   "metadata": {},
   "outputs": [
    {
     "name": "stdout",
     "output_type": "stream",
     "text": [
      "*******\n",
      "****** \n",
      "*****  \n",
      "****   \n",
      "***    \n",
      "**     \n",
      "*      \n",
      "       \n"
     ]
    }
   ],
   "source": [
    "def draw_up_left_triangle(h, fill):\n",
    "    for i in range(0, h + 1):\n",
    "        spaces = ' ' * (i)\n",
    "        print(fill * (h - i) + spaces)\n",
    "        \n",
    "draw_up_left_triangle(7, fill='*')"
   ]
  },
  {
   "cell_type": "code",
   "execution_count": 88,
   "metadata": {},
   "outputs": [
    {
     "name": "stdout",
     "output_type": "stream",
     "text": [
      "*****\n",
      " ****\n",
      "  ***\n",
      "   **\n",
      "    *\n",
      "     \n"
     ]
    }
   ],
   "source": [
    "def draw_up_right_triangle(h, fill):\n",
    "    for i in range(0, h + 1):\n",
    "        spaces = ' ' * (i)\n",
    "        print(spaces + fill * (h - i))\n",
    "        \n",
    "draw_up_right_triangle(5, fill='*')"
   ]
  },
  {
   "cell_type": "code",
   "execution_count": 89,
   "metadata": {},
   "outputs": [
    {
     "name": "stdout",
     "output_type": "stream",
     "text": [
      "         *\n",
      "        ***\n",
      "       *****\n",
      "      *******\n",
      "     *********\n",
      "    ***********\n",
      "   *************\n",
      "  ***************\n",
      " *****************\n",
      "*******************\n",
      " *****************\n",
      "  ***************\n",
      "   *************\n",
      "    ***********\n",
      "     *********\n",
      "      *******\n",
      "       *****\n",
      "        ***\n",
      "         *\n"
     ]
    }
   ],
   "source": [
    "def draw_diamond(size, fill):\n",
    "    for i in range(size):\n",
    "        print(f'{\" \" * (size - i - 1)}{fill * (i * 2 + 1)}')\n",
    "    for i in range(size-2, -1, -1):\n",
    "        print(f'{\" \" * (size - i - 1)}{fill * (i * 2 + 1)}')\n",
    "        \n",
    "draw_diamond(10, fill='*')"
   ]
  },
  {
   "cell_type": "code",
   "execution_count": 90,
   "metadata": {},
   "outputs": [
    {
     "name": "stdout",
     "output_type": "stream",
     "text": [
      "999999999\n",
      "9999 9999\n",
      "999   999\n",
      "99     99\n",
      "9       9\n",
      "99     99\n",
      "999   999\n",
      "9999 9999\n",
      "999999999\n"
     ]
    }
   ],
   "source": [
    "def draw_diamond_empty(size, fill):\n",
    "    # Верхняя часть ромба\n",
    "    for i in range(size // 2 + 1):\n",
    "        if i == 0 and size%2==0:\n",
    "            print(fill * (size+1))\n",
    "        elif i == 0 and size%2!=0:\n",
    "            print(fill * size)\n",
    "        else:\n",
    "            print(fill * (size // 2 - i) + fill + \" \" * (2 * i - 1) + fill + fill * (size // 2 - i))\n",
    "\n",
    "    # Нижняя часть ромба\n",
    "    for i in range(size // 2, 0, -1):\n",
    "        if i == 1 and size%2==0:\n",
    "            print(fill * (size+1))\n",
    "        if i == 1 and size%2!=0:\n",
    "            print(fill * size)\n",
    "        else:\n",
    "            print(fill * (size // 2 - i + 1) + fill + \" \" * (2 * i - 3) + fill + fill * (size // 2 - i + 1))\n",
    "draw_diamond_empty(9, fill='9')"
   ]
  },
  {
   "cell_type": "code",
   "execution_count": 91,
   "metadata": {},
   "outputs": [
    {
     "name": "stdout",
     "output_type": "stream",
     "text": [
      "66666666666\n",
      " 555555555\n",
      "  4444444\n",
      "   33333\n",
      "    222\n",
      "     1\n",
      "    222\n",
      "   33333\n",
      "  4444444\n",
      " 555555555\n",
      "66666666666\n"
     ]
    }
   ],
   "source": [
    "def draw_watches(size, fill):\n",
    "    # Верхняя часть \n",
    "    for i in range(size, 0, -1):\n",
    "        print(\" \" * (size - i) + str(i) * (2 * i - 1))\n",
    "\n",
    "    # Нижняя часть \n",
    "    for i in range(2, size + 1):\n",
    "        print(\" \" * (size - i) + str(i) * (2 * i - 1))\n",
    "draw_watches(6, '*')"
   ]
  },
  {
   "cell_type": "code",
   "execution_count": 92,
   "metadata": {},
   "outputs": [
    {
     "name": "stdout",
     "output_type": "stream",
     "text": [
      "\\        /\n",
      " \\      /\n",
      "  \\    /\n",
      "   \\  /\n",
      "    \\/\n",
      "    /\\\n",
      "   /  \\\n",
      "  /    \\\n",
      " /      \\\n",
      "/        \\\n"
     ]
    }
   ],
   "source": [
    "def draw_watches_slash(size):\n",
    "    # Верхняя часть песочных часов\n",
    "    for i in range(size // 2 ):\n",
    "        print(\" \" * i + \"\\\\\" + \" \" * (size - 2 * i - 2) + \"/\")\n",
    "        # Нижняя часть песочных часов\n",
    "    for i in range(size // 2 - 1, -1, -1):\n",
    "        print(\" \" * i + \"/\" + \" \" * (size - 2 * i - 2) + \"\\\\\")\n",
    "draw_watches_slash(10)"
   ]
  },
  {
   "cell_type": "code",
   "execution_count": 93,
   "metadata": {},
   "outputs": [
    {
     "name": "stdout",
     "output_type": "stream",
     "text": [
      "███████████████\n",
      "              █\n",
      "███████████████\n",
      "█              \n",
      "███████████████\n",
      "              █\n",
      "███████████████\n",
      "█              \n",
      "███████████████\n",
      "              █\n",
      "███████████████\n",
      "█              \n",
      "███████████████\n"
     ]
    }
   ],
   "source": [
    "def draw_snake_clockwise(l, h, fill):\n",
    "    m = int(h/2)\n",
    "    n = h%2\n",
    "    for i in range(m):\n",
    "            print(fill * l)\n",
    "            print(' ' * (l-1) + fill)\n",
    "            print(fill * l)\n",
    "            print(fill + ' ' * (l-1))\n",
    "    if n==0:\n",
    "        print(fill * l)\n",
    "    else:\n",
    "        print(fill * l)\n",
    "        print(' ' * (l-1) + fill)\n",
    "        print(fill * l)\n",
    "draw_snake_clockwise(15, 6, '█')"
   ]
  },
  {
   "cell_type": "code",
   "execution_count": 94,
   "metadata": {},
   "outputs": [
    {
     "name": "stdout",
     "output_type": "stream",
     "text": [
      "█████\n",
      "█    \n",
      "█████\n"
     ]
    }
   ],
   "source": [
    "def draw_snake_counterclockwise(len, h, fill):\n",
    "    m = int(h/2)\n",
    "    n = h%2\n",
    "    for i in range(m):\n",
    "            print(fill * len)\n",
    "            print(fill + ' ' * (len-1))\n",
    "            print(fill * len)\n",
    "            print(' ' * (len-1) + fill)\n",
    "    if n==0:\n",
    "        print(fill * len)\n",
    "    else:\n",
    "        print(fill * len)\n",
    "        print(fill + ' ' * (len-1))\n",
    "        print(fill * len)\n",
    "draw_snake_counterclockwise(5, 1, '█')"
   ]
  },
  {
   "cell_type": "code",
   "execution_count": 95,
   "metadata": {},
   "outputs": [
    {
     "name": "stdout",
     "output_type": "stream",
     "text": [
      "█ ███ ███ ███ ███\n",
      "█ █ █ █ █ █ █ █ █\n",
      "█ █ █ █ █ █ █ █ █\n",
      "█ █ █ █ █ █ █ █ █\n",
      "█ █ █ █ █ █ █ █ █\n",
      "█ █ █ █ █ █ █ █ █\n",
      "█ █ █ █ █ █ █ █ █\n",
      "███ ███ ███ ███ ██\n"
     ]
    }
   ],
   "source": [
    "def draw_horizontal_snake_counterclockwise(l, h, fill):\n",
    "    m = int(h/2)\n",
    "    n = h%2\n",
    "    if n!=0:\n",
    "        print((m+1)*(fill + ' ' + fill*2))\n",
    "        for i in range(l-2):\n",
    "            print((m+1)*(fill + ' ' + fill + ' '))\n",
    "        print((m+1)*(fill*3 + ' '))\n",
    "    else:\n",
    "        print((m)*(fill + ' ' + fill*2)+fill)\n",
    "        for i in range(l-2):\n",
    "            print((m)*(fill + ' ' + fill + ' ')+fill)\n",
    "        print((m)*(fill*3 + ' ')+2*fill)\n",
    "draw_horizontal_snake_counterclockwise(8, 8, '█')"
   ]
  },
  {
   "cell_type": "code",
   "execution_count": 96,
   "metadata": {},
   "outputs": [
    {
     "name": "stdout",
     "output_type": "stream",
     "text": [
      "███ ███ ███ ███ ███ ██\n",
      "█ █ █ █ █ █ █ █ █ █ █\n",
      "█ █ █ █ █ █ █ █ █ █ █\n",
      "█ █ █ █ █ █ █ █ █ █ █\n",
      "█ █ █ █ █ █ █ █ █ █ █\n",
      "█ █ █ █ █ █ █ █ █ █ █\n",
      "█ █ █ █ █ █ █ █ █ █ █\n",
      "█ ███ ███ ███ ███ ███\n"
     ]
    }
   ],
   "source": [
    "def draw_horizontal_snake_clockwise(l, h, fill):\n",
    "    m = int(h/2)\n",
    "    n = h%2\n",
    "    if n!=0:\n",
    "        print((m+1)*(fill*3 + ' '))\n",
    "        for i in range(l-2):\n",
    "            print((m+1)*(fill + ' ' + fill + ' '))\n",
    "        print((m+1)*(fill + ' ' + fill*2))\n",
    "    else:\n",
    "        print((m)*(fill*3 + ' ')+2*fill)\n",
    "        for i in range(l-2):\n",
    "            print((m)*(fill + ' ' + fill + ' ')+fill)\n",
    "        print((m)*(fill + ' ' + fill*2)+fill)\n",
    "draw_horizontal_snake_clockwise(8, 10, '█')"
   ]
  },
  {
   "cell_type": "code",
   "execution_count": 97,
   "metadata": {},
   "outputs": [
    {
     "name": "stdout",
     "output_type": "stream",
     "text": [
      "                      \n",
      " █████████████████████\n",
      " █                   █\n",
      " █ █████████████████ █\n",
      " █ █               █ █\n",
      " █ █ █████████████ █ █\n",
      " █ █ █           █ █ █\n",
      " █ █ █ █████████ █ █ █\n",
      " █ █ █ █       █ █ █ █\n",
      " █ █ █ █ █████ █ █ █ █\n",
      " █ █ █ █ █   █ █ █ █ █\n",
      " █ █ █ █ █   █ █ █ █ █\n",
      " █ █ █ █ █   █ █ █ █ █\n",
      " █ █ █ █ █████ █ █ █ █\n",
      " █ █ █ █       █ █ █ █\n",
      " █ █ █ █████████ █ █ █\n",
      " █ █ █           █ █ █\n",
      " █ █ █████████████ █ █\n",
      " █ █               █ █\n",
      " █ █████████████████ █\n",
      " █                   █\n",
      " █████████████████████\n"
     ]
    }
   ],
   "source": [
    "def draw_rectangles(width, height, fill):\n",
    "    for i in range(height):\n",
    "        line = fill\n",
    "        for j in range(width):\n",
    "            r=abs((i-height//2) + (j-width//2)) + abs((i-height//2) - (j-width//2))\n",
    "            if (r%4==0 and r!=0):\n",
    "                print(fill, end='')\n",
    "            else:\n",
    "                print(' ', end='')\n",
    "        print()\n",
    "\n",
    "draw_rectangles(22,22,'█')"
   ]
  },
  {
   "cell_type": "code",
   "execution_count": 98,
   "metadata": {},
   "outputs": [
    {
     "name": "stdout",
     "output_type": "stream",
     "text": [
      "████████████████████████████████████████████████████████████\n",
      "                                                           █\n",
      "██████████████████████████████████████████████████████████ █\n",
      "█                                                        █ █\n",
      "█ ██████████████████████████████████████████████████████ █ █\n",
      "█ █                                                    █ █ █\n",
      "█ █ ██████████████████████████████████████████████████ █ █ █\n",
      "█ █ █                                                █ █ █ █\n",
      "█ █ █ ██████████████████████████████████████████████ █ █ █ █\n",
      "█ █ █ █                                            █ █ █ █ █\n",
      "█ █ █ █ ██████████████████████████████████████████ █ █ █ █ █\n",
      "█ █ █ █ █                                        █ █ █ █ █ █\n",
      "█ █ █ █ █ ██████████████████████████████████████ █ █ █ █ █ █\n",
      "█ █ █ █ █ █                                    █ █ █ █ █ █ █\n",
      "█ █ █ █ █ █ ██████████████████████████████████ █ █ █ █ █ █ █\n",
      "█ █ █ █ █ █ █                                  █ █ █ █ █ █ █\n",
      "█ █ █ █ █ █ █                                  █ █ █ █ █ █ █\n",
      "█ █ █ █ █ █ ████████████████████████████████████ █ █ █ █ █ █\n",
      "█ █ █ █ █ █                                      █ █ █ █ █ █\n",
      "█ █ █ █ █ ████████████████████████████████████████ █ █ █ █ █\n",
      "█ █ █ █ █                                          █ █ █ █ █\n",
      "█ █ █ █ ████████████████████████████████████████████ █ █ █ █\n",
      "█ █ █ █                                              █ █ █ █\n",
      "█ █ █ ████████████████████████████████████████████████ █ █ █\n",
      "█ █ █                                                  █ █ █\n",
      "█ █ ████████████████████████████████████████████████████ █ █\n",
      "█ █                                                      █ █\n",
      "█ ████████████████████████████████████████████████████████ █\n",
      "█                                                          █\n",
      "████████████████████████████████████████████████████████████\n"
     ]
    }
   ],
   "source": [
    "def Snail_clockwise(r, fill):\n",
    "    tab=[]\n",
    "    rr = r*2\n",
    "    for y in range(r):\n",
    "        tab.append([])\n",
    "        for x in range(rr):\n",
    "            tab[y].append(\" \")\n",
    "\n",
    "    xp = yp = 0\n",
    "\n",
    "    for i in range(r):\n",
    "        if i % 4 == 0:\n",
    "            for j in range(xp, rr - i//4*2 - 1):\n",
    "                tab[yp][xp] = fill\n",
    "                xp+=1\n",
    "        elif i % 4 == 1:\n",
    "            for j in range(yp, r - i//4 * 2 - 1):\n",
    "                tab[yp][xp] = fill\n",
    "                yp+=1\n",
    "        elif i % 4 == 2:\n",
    "            for j in range(xp, i//4 * 2, -1):\n",
    "                tab[yp][xp] = fill\n",
    "                xp-=1\n",
    "        else:\n",
    "            for j in range(yp, i//4*2 + 2, -1):\n",
    "                tab[yp][xp] = fill\n",
    "                yp-=1\n",
    "    for y in range(r):\n",
    "        print(''.join(tab[y]))\n",
    "Snail_clockwise(30, '█')"
   ]
  },
  {
   "cell_type": "code",
   "execution_count": 99,
   "metadata": {},
   "outputs": [
    {
     "name": "stdout",
     "output_type": "stream",
     "text": [
      "        *\n",
      "       ***\n",
      "      *****\n",
      "       ***\n",
      "      *****\n",
      "     *******\n",
      "      *****\n",
      "     *******\n",
      "    *********\n"
     ]
    }
   ],
   "source": [
    "def draw_christmas_tree(n, fill):\n",
    "    level_height = 3\n",
    "    width = 1\n",
    "    \n",
    "    for level in range(n):\n",
    "        for i in range(level_height):\n",
    "            current_width = width + 2 * i \n",
    "\n",
    "            spaces = ' ' * ((n * level_height) - i - level - 1)\n",
    "            print(spaces + fill * current_width)\n",
    "        width += 2  \n",
    "\n",
    "draw_christmas_tree(3, '*')\n"
   ]
  },
  {
   "cell_type": "code",
   "execution_count": null,
   "metadata": {},
   "outputs": [],
   "source": []
  }
 ],
 "metadata": {
  "kernelspec": {
   "display_name": "Python 3",
   "language": "python",
   "name": "python3"
  },
  "language_info": {
   "codemirror_mode": {
    "name": "ipython",
    "version": 3
   },
   "file_extension": ".py",
   "mimetype": "text/x-python",
   "name": "python",
   "nbconvert_exporter": "python",
   "pygments_lexer": "ipython3",
   "version": "3.11.9"
  }
 },
 "nbformat": 4,
 "nbformat_minor": 2
}
