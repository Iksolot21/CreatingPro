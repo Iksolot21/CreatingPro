{
 "cells": [
  {
   "cell_type": "code",
   "execution_count": 83,
   "metadata": {},
   "outputs": [
    {
     "name": "stdout",
     "output_type": "stream",
     "text": [
      "***************\n",
      "***************\n",
      "***************\n",
      "***************\n",
      "***************\n"
     ]
    }
   ],
   "source": [
    "def draw_filled_rectangle(width, height, symbol):\n",
    "    for i in range(height):\n",
    "        print(symbol * width)\n",
    "        \n",
    "draw_filled_rectangle(15, 5,'*')"
   ]
  },
  {
   "cell_type": "code",
   "execution_count": 84,
   "metadata": {},
   "outputs": [
    {
     "name": "stdout",
     "output_type": "stream",
     "text": [
      "***************\n",
      "*             *\n",
      "*             *\n",
      "*             *\n",
      "*             *\n",
      "***************\n"
     ]
    }
   ],
   "source": [
    "def draw_empty_rectangle(width, height, symbol):\n",
    "    print(symbol * width)\n",
    "    for i in range(height-2):\n",
    "        print(symbol + ' ' * (width-2) + symbol)\n",
    "    print(symbol * width)\n",
    "    \n",
    "draw_empty_rectangle(15, 6, '*')"
   ]
  },
  {
   "cell_type": "code",
   "execution_count": 85,
   "metadata": {},
   "outputs": [
    {
     "name": "stdout",
     "output_type": "stream",
     "text": [
      "         *\n",
      "        **\n",
      "       ***\n",
      "      ****\n",
      "     *****\n",
      "    ******\n",
      "   *******\n",
      "  ********\n",
      " *********\n",
      "**********\n"
     ]
    }
   ],
   "source": [
    "def draw_down_right_triangle(height, symbol):\n",
    "    for i in range(1, height + 1):\n",
    "        spaces = ' ' * (height - i)\n",
    "        print(spaces + symbol * i)\n",
    "        \n",
    "draw_down_right_triangle(10, '*')"
   ]
  },
  {
   "cell_type": "code",
   "execution_count": 86,
   "metadata": {},
   "outputs": [
    {
     "name": "stdout",
     "output_type": "stream",
     "text": [
      "*    \n",
      "**   \n",
      "***  \n",
      "**** \n",
      "*****\n"
     ]
    }
   ],
   "source": [
    "def draw_down_left_triangle(height, symbol):\n",
    "    for i in range(1, height + 1):\n",
    "        spaces = ' ' * (height - i)\n",
    "        print(symbol * i + spaces)\n",
    "        \n",
    "draw_down_left_triangle(5, '*')"
   ]
  },
  {
   "cell_type": "code",
   "execution_count": 87,
   "metadata": {},
   "outputs": [
    {
     "name": "stdout",
     "output_type": "stream",
     "text": [
      "*******\n",
      "****** \n",
      "*****  \n",
      "****   \n",
      "***    \n",
      "**     \n",
      "*      \n",
      "       \n"
     ]
    }
   ],
   "source": [
    "def draw_up_left_triangle(height, symbol):\n",
    "    for i in range(0, height + 1):\n",
    "        spaces = ' ' * (i)\n",
    "        print(symbol * (height - i) + spaces)\n",
    "        \n",
    "draw_up_left_triangle(7, '*')"
   ]
  },
  {
   "cell_type": "code",
   "execution_count": 88,
   "metadata": {},
   "outputs": [
    {
     "name": "stdout",
     "output_type": "stream",
     "text": [
      "*****\n",
      " ****\n",
      "  ***\n",
      "   **\n",
      "    *\n",
      "     \n"
     ]
    }
   ],
   "source": [
    "def draw_up_right_triangle(height, symbol):\n",
    "    for i in range(0, height + 1):\n",
    "        spaces = ' ' * (i)\n",
    "        print(spaces + symbol * (height - i))\n",
    "        \n",
    "draw_up_right_triangle(5, '*')"
   ]
  },
  {
   "cell_type": "code",
   "execution_count": 89,
   "metadata": {},
   "outputs": [
    {
     "name": "stdout",
     "output_type": "stream",
     "text": [
      "         *\n",
      "        ***\n",
      "       *****\n",
      "      *******\n",
      "     *********\n",
      "    ***********\n",
      "   *************\n",
      "  ***************\n",
      " *****************\n",
      "*******************\n",
      " *****************\n",
      "  ***************\n",
      "   *************\n",
      "    ***********\n",
      "     *********\n",
      "      *******\n",
      "       *****\n",
      "        ***\n",
      "         *\n"
     ]
    }
   ],
   "source": [
    "def draw_diamond(size, symbol):\n",
    "    for i in range(size):\n",
    "        print(f'{\" \" * (size - i - 1)}{symbol * (i * 2 + 1)}')\n",
    "    for i in range(size-2, -1, -1):\n",
    "        print(f'{\" \" * (size - i - 1)}{symbol * (i * 2 + 1)}')\n",
    "        \n",
    "draw_diamond(10, '*')"
   ]
  },
  {
   "cell_type": "code",
   "execution_count": 90,
   "metadata": {},
   "outputs": [
    {
     "name": "stdout",
     "output_type": "stream",
     "text": [
      "999999999\n",
      "9999 9999\n",
      "999   999\n",
      "99     99\n",
      "9       9\n",
      "99     99\n",
      "999   999\n",
      "9999 9999\n",
      "999999999\n"
     ]
    }
   ],
   "source": [
    "def draw_diamond_empty(size, symbol):\n",
    "    # Верхняя часть ромба\n",
    "    for i in range(size // 2 + 1):\n",
    "        if i == 0 and size%2==0:\n",
    "            print(symbol * (size+1))\n",
    "        elif i == 0 and size%2!=0:\n",
    "            print(symbol * size)\n",
    "        else:\n",
    "            print(symbol * (size // 2 - i) + symbol + \" \" * (2 * i - 1) + symbol + symbol * (size // 2 - i))\n",
    "\n",
    "    # Нижняя часть ромба\n",
    "    for i in range(size // 2, 0, -1):\n",
    "        if i == 1 and size%2==0:\n",
    "            print(symbol * (size+1))\n",
    "        if i == 1 and size%2!=0:\n",
    "            print(symbol * size)\n",
    "        else:\n",
    "            print(symbol * (size // 2 - i + 1) + symbol + \" \" * (2 * i - 3) + symbol + symbol * (size // 2 - i + 1))\n",
    "draw_diamond_empty(9, '9')"
   ]
  },
  {
   "cell_type": "code",
   "execution_count": 91,
   "metadata": {},
   "outputs": [
    {
     "name": "stdout",
     "output_type": "stream",
     "text": [
      "66666666666\n",
      " 555555555\n",
      "  4444444\n",
      "   33333\n",
      "    222\n",
      "     1\n",
      "    222\n",
      "   33333\n",
      "  4444444\n",
      " 555555555\n",
      "66666666666\n"
     ]
    }
   ],
   "source": [
    "def draw_watches(size, symbol):\n",
    "    # Верхняя часть \n",
    "    for i in range(size, 0, -1):\n",
    "        print(\" \" * (size - i) + str(i) * (2 * i - 1))\n",
    "\n",
    "    # Нижняя часть \n",
    "    for i in range(2, size + 1):\n",
    "        print(\" \" * (size - i) + str(i) * (2 * i - 1))\n",
    "draw_watches(6, '*')"
   ]
  },
  {
   "cell_type": "code",
   "execution_count": 92,
   "metadata": {},
   "outputs": [
    {
     "name": "stdout",
     "output_type": "stream",
     "text": [
      "\\        /\n",
      " \\      /\n",
      "  \\    /\n",
      "   \\  /\n",
      "    \\/\n",
      "    /\\\n",
      "   /  \\\n",
      "  /    \\\n",
      " /      \\\n",
      "/        \\\n"
     ]
    }
   ],
   "source": [
    "def draw_watches_slash(size):\n",
    "    # Верхняя часть песочных часов\n",
    "    for i in range(size // 2 ):\n",
    "        print(\" \" * i + \"\\\\\" + \" \" * (size - 2 * i - 2) + \"/\")\n",
    "        # Нижняя часть песочных часов\n",
    "    for i in range(size // 2 - 1, -1, -1):\n",
    "        print(\" \" * i + \"/\" + \" \" * (size - 2 * i - 2) + \"\\\\\")\n",
    "draw_watches_slash(10)"
   ]
  },
  {
   "cell_type": "code",
   "execution_count": 93,
   "metadata": {},
   "outputs": [
    {
     "name": "stdout",
     "output_type": "stream",
     "text": [
      "███████████████\n",
      "              █\n",
      "███████████████\n",
      "█              \n",
      "███████████████\n",
      "              █\n",
      "███████████████\n",
      "█              \n",
      "███████████████\n",
      "              █\n",
      "███████████████\n",
      "█              \n",
      "███████████████\n"
     ]
    }
   ],
   "source": [
    "def draw_snake_clockwise(l, height, symbol):\n",
    "    m = int(height/2)\n",
    "    n = height%2\n",
    "    for i in range(m):\n",
    "            print(symbol * l)\n",
    "            print(' ' * (l-1) + symbol)\n",
    "            print(symbol * l)\n",
    "            print(symbol + ' ' * (l-1))\n",
    "    if n==0:\n",
    "        print(symbol * l)\n",
    "    else:\n",
    "        print(symbol * l)\n",
    "        print(' ' * (l-1) + symbol)\n",
    "        print(symbol * l)\n",
    "draw_snake_clockwise(15, 6, '█')"
   ]
  },
  {
   "cell_type": "code",
   "execution_count": 1,
   "metadata": {},
   "outputs": [
    {
     "name": "stdout",
     "output_type": "stream",
     "text": [
      "██████████\n",
      "█         \n",
      "██████████\n",
      "         █\n",
      "██████████\n",
      "█         \n",
      "██████████\n",
      "         █\n",
      "██████████\n",
      "█         \n",
      "██████████\n",
      "         █\n",
      "██████████\n",
      "█         \n",
      "██████████\n",
      "         █\n",
      "██████████\n",
      "█         \n",
      "██████████\n",
      "         █\n",
      "██████████\n"
     ]
    }
   ],
   "source": [
    "def draw_snake_counterclockwise(len, height, symbol):\n",
    "    m = int(height/2)\n",
    "    n = height%2\n",
    "    for i in range(m):\n",
    "            print(symbol * len)\n",
    "            print(symbol + ' ' * (len-1))\n",
    "            print(symbol * len)\n",
    "            print(' ' * (len-1) + symbol)\n",
    "    if n==0:\n",
    "        print(symbol * len)\n",
    "    else:\n",
    "        print(symbol * len)\n",
    "        print(symbol + ' ' * (len-1))\n",
    "        print(symbol * len)\n",
    "draw_snake_counterclockwise(10, 10, '█')"
   ]
  },
  {
   "cell_type": "code",
   "execution_count": 95,
   "metadata": {},
   "outputs": [
    {
     "name": "stdout",
     "output_type": "stream",
     "text": [
      "█ ███ ███ ███ ███\n",
      "█ █ █ █ █ █ █ █ █\n",
      "█ █ █ █ █ █ █ █ █\n",
      "█ █ █ █ █ █ █ █ █\n",
      "█ █ █ █ █ █ █ █ █\n",
      "█ █ █ █ █ █ █ █ █\n",
      "█ █ █ █ █ █ █ █ █\n",
      "███ ███ ███ ███ ██\n"
     ]
    }
   ],
   "source": [
    "def draw_horizontal_snake_counterclockwise(l, height, symbol):\n",
    "    m = int(height/2)\n",
    "    n = height%2\n",
    "    if n!=0:\n",
    "        print((m+1)*(symbol + ' ' + symbol*2))\n",
    "        for i in range(l-2):\n",
    "            print((m+1)*(symbol + ' ' + symbol + ' '))\n",
    "        print((m+1)*(symbol*3 + ' '))\n",
    "    else:\n",
    "        print((m)*(symbol + ' ' + symbol*2)+symbol)\n",
    "        for i in range(l-2):\n",
    "            print((m)*(symbol + ' ' + symbol + ' ')+symbol)\n",
    "        print((m)*(symbol*3 + ' ')+2*symbol)\n",
    "draw_horizontal_snake_counterclockwise(8, 8, '█')"
   ]
  },
  {
   "cell_type": "code",
   "execution_count": 96,
   "metadata": {},
   "outputs": [
    {
     "name": "stdout",
     "output_type": "stream",
     "text": [
      "███ ███ ███ ███ ███ ██\n",
      "█ █ █ █ █ █ █ █ █ █ █\n",
      "█ █ █ █ █ █ █ █ █ █ █\n",
      "█ █ █ █ █ █ █ █ █ █ █\n",
      "█ █ █ █ █ █ █ █ █ █ █\n",
      "█ █ █ █ █ █ █ █ █ █ █\n",
      "█ █ █ █ █ █ █ █ █ █ █\n",
      "█ ███ ███ ███ ███ ███\n"
     ]
    }
   ],
   "source": [
    "def draw_horizontal_snake_clockwise(l, height, symbol):\n",
    "    m = int(height/2)\n",
    "    n = height%2\n",
    "    if n!=0:\n",
    "        print((m+1)*(symbol*3 + ' '))\n",
    "        for i in range(l-2):\n",
    "            print((m+1)*(symbol + ' ' + symbol + ' '))\n",
    "        print((m+1)*(symbol + ' ' + symbol*2))\n",
    "    else:\n",
    "        print((m)*(symbol*3 + ' ')+2*symbol)\n",
    "        for i in range(l-2):\n",
    "            print((m)*(symbol + ' ' + symbol + ' ')+symbol)\n",
    "        print((m)*(symbol + ' ' + symbol*2)+symbol)\n",
    "draw_horizontal_snake_clockwise(8, 10, '█')"
   ]
  },
  {
   "cell_type": "code",
   "execution_count": 97,
   "metadata": {},
   "outputs": [
    {
     "name": "stdout",
     "output_type": "stream",
     "text": [
      "                      \n",
      " █████████████████████\n",
      " █                   █\n",
      " █ █████████████████ █\n",
      " █ █               █ █\n",
      " █ █ █████████████ █ █\n",
      " █ █ █           █ █ █\n",
      " █ █ █ █████████ █ █ █\n",
      " █ █ █ █       █ █ █ █\n",
      " █ █ █ █ █████ █ █ █ █\n",
      " █ █ █ █ █   █ █ █ █ █\n",
      " █ █ █ █ █   █ █ █ █ █\n",
      " █ █ █ █ █   █ █ █ █ █\n",
      " █ █ █ █ █████ █ █ █ █\n",
      " █ █ █ █       █ █ █ █\n",
      " █ █ █ █████████ █ █ █\n",
      " █ █ █           █ █ █\n",
      " █ █ █████████████ █ █\n",
      " █ █               █ █\n",
      " █ █████████████████ █\n",
      " █                   █\n",
      " █████████████████████\n"
     ]
    }
   ],
   "source": [
    "def draw_rectangles(width, height, symbol):\n",
    "    for i in range(height):\n",
    "        line = symbol\n",
    "        for j in range(width):\n",
    "            r=abs((i-height//2) + (j-width//2)) + abs((i-height//2) - (j-width//2))\n",
    "            if (r%4==0 and r!=0):\n",
    "                print(symbol, end='')\n",
    "            else:\n",
    "                print(' ', end='')\n",
    "        print()\n",
    "\n",
    "draw_rectangles(22,22,'█')"
   ]
  },
  {
   "cell_type": "code",
   "execution_count": 98,
   "metadata": {},
   "outputs": [
    {
     "name": "stdout",
     "output_type": "stream",
     "text": [
      "████████████████████████████████████████████████████████████\n",
      "                                                           █\n",
      "██████████████████████████████████████████████████████████ █\n",
      "█                                                        █ █\n",
      "█ ██████████████████████████████████████████████████████ █ █\n",
      "█ █                                                    █ █ █\n",
      "█ █ ██████████████████████████████████████████████████ █ █ █\n",
      "█ █ █                                                █ █ █ █\n",
      "█ █ █ ██████████████████████████████████████████████ █ █ █ █\n",
      "█ █ █ █                                            █ █ █ █ █\n",
      "█ █ █ █ ██████████████████████████████████████████ █ █ █ █ █\n",
      "█ █ █ █ █                                        █ █ █ █ █ █\n",
      "█ █ █ █ █ ██████████████████████████████████████ █ █ █ █ █ █\n",
      "█ █ █ █ █ █                                    █ █ █ █ █ █ █\n",
      "█ █ █ █ █ █ ██████████████████████████████████ █ █ █ █ █ █ █\n",
      "█ █ █ █ █ █ █                                  █ █ █ █ █ █ █\n",
      "█ █ █ █ █ █ █                                  █ █ █ █ █ █ █\n",
      "█ █ █ █ █ █ ████████████████████████████████████ █ █ █ █ █ █\n",
      "█ █ █ █ █ █                                      █ █ █ █ █ █\n",
      "█ █ █ █ █ ████████████████████████████████████████ █ █ █ █ █\n",
      "█ █ █ █ █                                          █ █ █ █ █\n",
      "█ █ █ █ ████████████████████████████████████████████ █ █ █ █\n",
      "█ █ █ █                                              █ █ █ █\n",
      "█ █ █ ████████████████████████████████████████████████ █ █ █\n",
      "█ █ █                                                  █ █ █\n",
      "█ █ ████████████████████████████████████████████████████ █ █\n",
      "█ █                                                      █ █\n",
      "█ ████████████████████████████████████████████████████████ █\n",
      "█                                                          █\n",
      "████████████████████████████████████████████████████████████\n"
     ]
    }
   ],
   "source": [
    "def Snail_clockwise(r, symbol):\n",
    "    tab=[]\n",
    "    rr = r*2\n",
    "    for y in range(r):\n",
    "        tab.append([])\n",
    "        for x in range(rr):\n",
    "            tab[y].append(\" \")\n",
    "\n",
    "    xp = yp = 0\n",
    "\n",
    "    for i in range(r):\n",
    "        if i % 4 == 0:\n",
    "            for j in range(xp, rr - i//4*2 - 1):\n",
    "                tab[yp][xp] = symbol\n",
    "                xp+=1\n",
    "        elif i % 4 == 1:\n",
    "            for j in range(yp, r - i//4 * 2 - 1):\n",
    "                tab[yp][xp] = symbol\n",
    "                yp+=1\n",
    "        elif i % 4 == 2:\n",
    "            for j in range(xp, i//4 * 2, -1):\n",
    "                tab[yp][xp] = symbol\n",
    "                xp-=1\n",
    "        else:\n",
    "            for j in range(yp, i//4*2 + 2, -1):\n",
    "                tab[yp][xp] = symbol\n",
    "                yp-=1\n",
    "    for y in range(r):\n",
    "        print(''.join(tab[y]))\n",
    "Snail_clockwise(30, '█')"
   ]
  },
  {
   "cell_type": "code",
   "execution_count": 99,
   "metadata": {},
   "outputs": [
    {
     "name": "stdout",
     "output_type": "stream",
     "text": [
      "        *\n",
      "       ***\n",
      "      *****\n",
      "       ***\n",
      "      *****\n",
      "     *******\n",
      "      *****\n",
      "     *******\n",
      "    *********\n"
     ]
    }
   ],
   "source": [
    "def draw_christmas_tree(n, symbol):\n",
    "    level_height = 3\n",
    "    width = 1\n",
    "    \n",
    "    for level in range(n):\n",
    "        for i in range(level_height):\n",
    "            current_width = width + 2 * i \n",
    "\n",
    "            spaces = ' ' * ((n * level_height) - i - level - 1)\n",
    "            print(spaces + symbol * current_width)\n",
    "        width += 2  \n",
    "\n",
    "draw_christmas_tree(3, '*')\n"
   ]
  }
 ],
 "metadata": {
  "kernelspec": {
   "display_name": "Python 3",
   "language": "python",
   "name": "python3"
  },
  "language_info": {
   "codemirror_mode": {
    "name": "ipython",
    "version": 3
   },
   "file_extension": ".py",
   "mimetype": "text/x-python",
   "name": "python",
   "nbconvert_exporter": "python",
   "pygments_lexer": "ipython3",
   "version": "3.11.9"
  }
 },
 "nbformat": 4,
 "nbformat_minor": 2
}
