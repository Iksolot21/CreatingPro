{
 "cells": [
  {
   "cell_type": "code",
   "execution_count": 64,
   "metadata": {},
   "outputs": [
    {
     "name": "stdout",
     "output_type": "stream",
     "text": [
      "████████████████████\n",
      "████████████████████\n",
      "████████████████████\n",
      "████████████████████\n",
      "████████████████████\n"
     ]
    }
   ],
   "source": [
    "# Прямоугольник в консоли\n",
    "x = 20\n",
    "height = 5\n",
    "fill = '█'\n",
    "for r in range(height):\n",
    "            print(fill * x)"
   ]
  },
  {
   "cell_type": "code",
   "execution_count": 65,
   "metadata": {},
   "outputs": [
    {
     "name": "stdout",
     "output_type": "stream",
     "text": [
      "████████████████████\n",
      "█                  █\n",
      "█                  █\n",
      "█                  █\n",
      "████████████████████\n"
     ]
    }
   ],
   "source": [
    "# Пустой прямоугольник\n",
    "for r in range(height):\n",
    "    if r == 0 or r == height - 1:\n",
    "        print(f'{fill * x}') \n",
    "    else:\n",
    "        print(f'{fill}{\" \" * (x - 2)}{fill}')\n"
   ]
  },
  {
   "cell_type": "code",
   "execution_count": 66,
   "metadata": {},
   "outputs": [
    {
     "name": "stdout",
     "output_type": "stream",
     "text": [
      "█████\n",
      " ████\n",
      "  ███\n",
      "   ██\n",
      "    █\n"
     ]
    }
   ],
   "source": [
    "# Равнобедренный прямоугольный треугольник по правому'\n",
    "for i in range(height, 0, -1):\n",
    "    print(f'{fill * i:>{height}}')"
   ]
  },
  {
   "cell_type": "code",
   "execution_count": 67,
   "metadata": {},
   "outputs": [
    {
     "name": "stdout",
     "output_type": "stream",
     "text": [
      "█████\n",
      "████ \n",
      "███  \n",
      "██   \n",
      "█    \n"
     ]
    }
   ],
   "source": [
    "# Равнобедренный прямоугольный треугольник по левому краю\n",
    "for i in range(height, 0, -1):\n",
    "    print(f'{fill * i:<{height}}')"
   ]
  },
  {
   "cell_type": "code",
   "execution_count": 68,
   "metadata": {},
   "outputs": [
    {
     "name": "stdout",
     "output_type": "stream",
     "text": [
      "█\n",
      "██\n",
      "███\n",
      "████\n",
      "█████\n"
     ]
    }
   ],
   "source": [
    "# Левый нижний угол треугольник\n",
    "for i in range(height):\n",
    "    print(f'{fill * (i+1)}{\"\" * (height - i)}')"
   ]
  },
  {
   "cell_type": "code",
   "execution_count": 69,
   "metadata": {},
   "outputs": [
    {
     "name": "stdout",
     "output_type": "stream",
     "text": [
      "     █\n",
      "    ██\n",
      "   ███\n",
      "  ████\n",
      " █████\n"
     ]
    }
   ],
   "source": [
    "# Правый нижний угол\n",
    "for i in range(height):\n",
    "    print(f'{\" \" * (height - i)}{fill * (i+1)}')"
   ]
  },
  {
   "cell_type": "code",
   "execution_count": 70,
   "metadata": {},
   "outputs": [
    {
     "name": "stdout",
     "output_type": "stream",
     "text": [
      "    █\n",
      "   ███\n",
      "  █████\n",
      " ███████\n",
      "█████████\n",
      " ███████\n",
      "  █████\n",
      "   ███\n",
      "    █\n"
     ]
    }
   ],
   "source": [
    "# \"Заполненный ромб\"\n",
    "for i in range(height):\n",
    "    print(f'{\" \" * (height - i - 1)}{fill * (i * 2 + 1)}')\n",
    "for i in range(height-2, -1, -1):\n",
    "    print(f'{\" \" * (height - i - 1)}{fill * (i * 2 + 1)}')"
   ]
  },
  {
   "cell_type": "code",
   "execution_count": 71,
   "metadata": {},
   "outputs": [
    {
     "name": "stdout",
     "output_type": "stream",
     "text": [
      "█████████████\n",
      "██████ ██████\n",
      "█████   █████\n",
      "████     ████\n",
      "███       ███\n",
      "██         ██\n",
      "█           █\n",
      "██         ██\n",
      "███       ███\n",
      "████     ████\n",
      "█████   █████\n",
      "██████ ██████\n",
      "█████████████\n"
     ]
    }
   ],
   "source": [
    "size = 13\n",
    "\n",
    "# Верхняя часть ромба\n",
    "for i in range(size // 2 + 1):\n",
    "    if i == 0 and size%2==0:\n",
    "        print(fill * (size+1))\n",
    "    elif i == 0 and size%2!=0:\n",
    "        print(fill * size)\n",
    "    else:\n",
    "        print(fill * (size // 2 - i) + fill + \" \" * (2 * i - 1) + fill + fill * (size // 2 - i))\n",
    "\n",
    "# Нижняя часть ромба\n",
    "for i in range(size // 2, 0, -1):\n",
    "    if i == 1 and size%2==0:\n",
    "        print(fill * (size+1))\n",
    "    if i == 1 and size%2!=0:\n",
    "        print(fill * size)\n",
    "    else:\n",
    "        print(fill * (size // 2 - i + 1) + fill + \" \" * (2 * i - 3) + fill + fill * (size // 2 - i + 1))\n"
   ]
  },
  {
   "cell_type": "code",
   "execution_count": 72,
   "metadata": {},
   "outputs": [
    {
     "name": "stdout",
     "output_type": "stream",
     "text": [
      "555555555\n",
      " 4444444\n",
      "  33333\n",
      "   222\n",
      "    1\n",
      "   222\n",
      "  33333\n",
      " 4444444\n",
      "555555555\n"
     ]
    }
   ],
   "source": [
    "# Числовые песочные часы\n",
    "rows = 2 * height - 1  # Общее количество строк\n",
    "\n",
    "# Верхняя часть \n",
    "for i in range(height, 0, -1):\n",
    "    print(\" \" * (height - i) + str(i) * (2 * i - 1))\n",
    "\n",
    "# Нижняя часть \n",
    "for i in range(2, height + 1):\n",
    "    print(\" \" * (height - i) + str(i) * (2 * i - 1))"
   ]
  },
  {
   "cell_type": "code",
   "execution_count": 73,
   "metadata": {},
   "outputs": [
    {
     "name": "stdout",
     "output_type": "stream",
     "text": [
      "\\        /\n",
      " \\      /\n",
      "  \\    /\n",
      "   \\  /\n",
      "    \\/\n",
      "    /\\\n",
      "   /  \\\n",
      "  /    \\\n",
      " /      \\\n",
      "/        \\\n"
     ]
    }
   ],
   "source": [
    "# Песочные часы из символов\n",
    "rows = 10\n",
    "# Верхняя часть песочных часов\n",
    "for i in range(rows // 2 ):\n",
    "    print(\" \" * i + \"\\\\\" + \" \" * (rows - 2 * i - 2) + \"/\")\n",
    "# Нижняя часть песочных часов\n",
    "for i in range(rows // 2 - 1, -1, -1):\n",
    "    print(\" \" * i + \"/\" + \" \" * (rows - 2 * i - 2) + \"\\\\\")\n"
   ]
  },
  {
   "cell_type": "code",
   "execution_count": 74,
   "metadata": {},
   "outputs": [
    {
     "name": "stdout",
     "output_type": "stream",
     "text": [
      "*****\n",
      "    *\n",
      "*****\n",
      "*    \n",
      "*****\n",
      "    *\n",
      "*****\n",
      "*    \n",
      "*****\n",
      "    *\n",
      "*****\n"
     ]
    }
   ],
   "source": [
    "# Змейка по чаcовой стрелке\n",
    "lenth = 5\n",
    "height= 5\n",
    "symbol = \"*\"\n",
    "m = int(height/2)\n",
    "n = height%2\n",
    "for i in range(m):\n",
    "        print(symbol * lenth)\n",
    "        print(' ' * (lenth-1) + symbol)\n",
    "        print(symbol * lenth)\n",
    "        print(symbol + ' ' * (lenth-1))\n",
    "if n==0:\n",
    "    print(symbol * lenth)\n",
    "else:\n",
    "    print(symbol * lenth)\n",
    "    print(' ' * (lenth-1) + symbol)\n",
    "    print(symbol * lenth)\n"
   ]
  },
  {
   "cell_type": "code",
   "execution_count": 78,
   "metadata": {},
   "outputs": [
    {
     "name": "stdout",
     "output_type": "stream",
     "text": [
      "**********\n",
      "*         \n",
      "**********\n",
      "         *\n",
      "**********\n",
      "*         \n",
      "**********\n",
      "         *\n",
      "**********\n",
      "*         \n",
      "**********\n"
     ]
    }
   ],
   "source": [
    "# Змейка против часовой стрелки\n",
    "lenth = 10\n",
    "height = 5\n",
    "symbol = \"*\"\n",
    "m = int(height/2)\n",
    "n = height%2\n",
    "for i in range(m):\n",
    "        print(symbol * lenth)\n",
    "        print(symbol + ' ' * (lenth-1))\n",
    "        print(symbol * lenth)\n",
    "        print(' ' * (lenth-1) + symbol)\n",
    "if n==0:\n",
    "    print(symbol * lenth)\n",
    "else:\n",
    "    print(symbol * lenth)\n",
    "    print(symbol + ' ' * (lenth-1))\n",
    "    print(symbol * lenth)"
   ]
  },
  {
   "cell_type": "code",
   "execution_count": 76,
   "metadata": {},
   "outputs": [
    {
     "name": "stdout",
     "output_type": "stream",
     "text": [
      "█ ███ ██\n",
      "█ █ █ █ \n",
      "█ █ █ █ \n",
      "█ █ █ █ \n",
      "█ █ █ █ \n",
      "█ █ █ █ \n",
      "█ █ █ █ \n",
      "█ █ █ █ \n",
      "███ ███ \n"
     ]
    }
   ],
   "source": [
    "# Вертикальная змейка\n",
    "rows = 9  \n",
    "cols = 8\n",
    "###\n",
    "count=0\n",
    "count2=1\n",
    "for i in range(rows):\n",
    "    for j in range(cols):\n",
    "        count+=0.5\n",
    "        count2+=0.5\n",
    "        if j%2==0:\n",
    "            print(fill, end=\"\")\n",
    "        elif (i==0 and (j)%2!=0 and count%2==0):\n",
    "            print(fill, end=\"\")        \n",
    "        elif (i==rows-1 and j%2!=0 and count2%2==0):\n",
    "            print(fill, end=\"\")\n",
    "            count+=1\n",
    "        else:\n",
    "            print(\" \", end=\"\")\n",
    "    print()"
   ]
  },
  {
   "cell_type": "code",
   "execution_count": 77,
   "metadata": {},
   "outputs": [
    {
     "name": "stdout",
     "output_type": "stream",
     "text": [
      "                      \n",
      " █████████████████████\n",
      " █                   █\n",
      " █ █████████████████ █\n",
      " █ █               █ █\n",
      " █ █ █████████████ █ █\n",
      " █ █ █           █ █ █\n",
      " █ █ █ █████████ █ █ █\n",
      " █ █ █ █       █ █ █ █\n",
      " █ █ █ █ █████ █ █ █ █\n",
      " █ █ █ █ █   █ █ █ █ █\n",
      " █ █ █ █ █   █ █ █ █ █\n",
      " █ █ █ █ █   █ █ █ █ █\n",
      " █ █ █ █ █████ █ █ █ █\n",
      " █ █ █ █       █ █ █ █\n",
      " █ █ █ █████████ █ █ █\n",
      " █ █ █           █ █ █\n",
      " █ █ █████████████ █ █\n",
      " █ █               █ █\n",
      " █ █████████████████ █\n",
      " █                   █\n",
      " █████████████████████\n"
     ]
    }
   ],
   "source": [
    "# Вложенные прямоугольники\n",
    "width = 22\n",
    "height = 22\n",
    "n = 4\n",
    "fill = \"█\"\n",
    "for i in range(height):\n",
    "    line = fill\n",
    "    for j in range(width):\n",
    "        r=abs((i-height//2) + (j-width//2)) + abs((i-height//2) - (j-width//2))\n",
    "        if (r%4==0 and r!=0):\n",
    "            print(fill, end='')\n",
    "        else:\n",
    "            print(' ', end='')\n",
    "    print()\n",
    "    "
   ]
  }
 ],
 "metadata": {
  "kernelspec": {
   "display_name": "Python 3",
   "language": "python",
   "name": "python3"
  },
  "language_info": {
   "codemirror_mode": {
    "name": "ipython",
    "version": 3
   },
   "file_extension": ".py",
   "mimetype": "text/x-python",
   "name": "python",
   "nbconvert_exporter": "python",
   "pygments_lexer": "ipython3",
   "version": "3.11.9"
  }
 },
 "nbformat": 4,
 "nbformat_minor": 2
}
