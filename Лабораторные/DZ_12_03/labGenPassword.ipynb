{
 "cells": [
  {
   "cell_type": "markdown",
   "metadata": {},
   "source": []
  },
  {
   "cell_type": "code",
   "execution_count": 1,
   "metadata": {},
   "outputs": [],
   "source": [
    "import random\n",
    "import string\n",
    "\n",
    "def generate_passwords(\n",
    "    num_passwords: int = None,\n",
    "    length: int = 8,\n",
    "    use_digits: bool = True,\n",
    "    use_lower: bool = True,\n",
    "    use_upper: bool = True,\n",
    "    use_special: bool = True,\n",
    "    special_chars: str = '!@#$%^&*()_+-=[]{}|;:,.<>?'):\n",
    "    options = ''\n",
    "    if use_digits:\n",
    "        options += string.digits\n",
    "    if use_lower:\n",
    "        options += string.ascii_lowercase\n",
    "    if use_upper:\n",
    "        options += string.ascii_uppercase\n",
    "    if use_special:\n",
    "        options += special_chars\n",
    "    \n",
    "    while num_passwords is None or num_passwords > 0:\n",
    "        password = ''.join(random.choice(options) for _ in range(length))\n",
    "        yield password\n",
    "        if num_passwords is not None:\n",
    "            num_passwords -= 1\n",
    "\n"
   ]
  },
  {
   "cell_type": "code",
   "execution_count": 4,
   "metadata": {},
   "outputs": [
    {
     "name": "stdout",
     "output_type": "stream",
     "text": [
      "<2&kBQm@E%\n",
      "u3bQ8+$sHp\n",
      "QUfZAHwKd.\n",
      "i*;hNncsa]\n",
      "FVipPGR(TP\n"
     ]
    }
   ],
   "source": [
    "# Пример использования\n",
    "password_generator = generate_passwords(num_passwords=5, length=10)\n",
    "for password in password_generator:\n",
    "    print(password)"
   ]
  }
 ],
 "metadata": {
  "kernelspec": {
   "display_name": "Python 3",
   "language": "python",
   "name": "python3"
  },
  "language_info": {
   "codemirror_mode": {
    "name": "ipython",
    "version": 3
   },
   "file_extension": ".py",
   "mimetype": "text/x-python",
   "name": "python",
   "nbconvert_exporter": "python",
   "pygments_lexer": "ipython3",
   "version": "3.11.9"
  }
 },
 "nbformat": 4,
 "nbformat_minor": 2
}
