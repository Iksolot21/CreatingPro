{
 "cells": [
  {
   "cell_type": "markdown",
   "metadata": {},
   "source": [
    " ### Функция(GenDeck) - cоздает колоду игральных карт в виде списка кортежей.<hr>\n",
    "\n",
    " > **Входящие параметры <br>** \n",
    " \n",
    "`Обязательные параметры`:\n",
    "- l_elem (list[str]): список элементов.\n",
    "- num_elem (int): количество возвращаемых элементов __(по умолчанию =1)__.\n",
    "\n",
    "> **Returns:** <br>\n",
    "* generator[int, None, None]:"
   ]
  },
  {
   "cell_type": "code",
   "execution_count": 1,
   "metadata": {},
   "outputs": [
    {
     "name": "stdout",
     "output_type": "stream",
     "text": [
      "Пример использования:\n",
      "4 of Hearts\n",
      "5 of Hearts\n",
      "3 of Hearts\n",
      "2 of Hearts\n",
      "6 of Hearts\n",
      "Генератор закончил работу\n"
     ]
    },
    {
     "ename": "NameError",
     "evalue": "name 'generate_deck' is not defined",
     "output_type": "error",
     "traceback": [
      "\u001b[1;31m---------------------------------------------------------------------------\u001b[0m",
      "\u001b[1;31mNameError\u001b[0m                                 Traceback (most recent call last)",
      "Cell \u001b[1;32mIn[1], line 25\u001b[0m\n\u001b[0;32m     22\u001b[0m     \u001b[38;5;28mprint\u001b[39m(\u001b[38;5;124m\"\u001b[39m\u001b[38;5;124mГенератор закончил работу\u001b[39m\u001b[38;5;124m\"\u001b[39m)\n\u001b[0;32m     24\u001b[0m \u001b[38;5;66;03m# Создаем колоду с помощью generate_deck\u001b[39;00m\n\u001b[1;32m---> 25\u001b[0m deck_list \u001b[38;5;241m=\u001b[39m \u001b[43mgenerate_deck\u001b[49m(\u001b[38;5;241m24\u001b[39m, [\u001b[38;5;124m'\u001b[39m\u001b[38;5;124mЧерви\u001b[39m\u001b[38;5;124m'\u001b[39m, \u001b[38;5;124m'\u001b[39m\u001b[38;5;124mБубны\u001b[39m\u001b[38;5;124m'\u001b[39m], [\u001b[38;5;124m'\u001b[39m\u001b[38;5;124m2\u001b[39m\u001b[38;5;124m'\u001b[39m, \u001b[38;5;124m'\u001b[39m\u001b[38;5;124m3\u001b[39m\u001b[38;5;124m'\u001b[39m, \u001b[38;5;124m'\u001b[39m\u001b[38;5;124m4\u001b[39m\u001b[38;5;124m'\u001b[39m, \u001b[38;5;124m'\u001b[39m\u001b[38;5;124m5\u001b[39m\u001b[38;5;124m'\u001b[39m, \u001b[38;5;124m'\u001b[39m\u001b[38;5;124m6\u001b[39m\u001b[38;5;124m'\u001b[39m, \u001b[38;5;124m'\u001b[39m\u001b[38;5;124m7\u001b[39m\u001b[38;5;124m'\u001b[39m, \u001b[38;5;124m'\u001b[39m\u001b[38;5;124m8\u001b[39m\u001b[38;5;124m'\u001b[39m, \u001b[38;5;124m'\u001b[39m\u001b[38;5;124m9\u001b[39m\u001b[38;5;124m'\u001b[39m, \u001b[38;5;124m'\u001b[39m\u001b[38;5;124mВалет\u001b[39m\u001b[38;5;124m'\u001b[39m, \u001b[38;5;124m'\u001b[39m\u001b[38;5;124mДама\u001b[39m\u001b[38;5;124m'\u001b[39m, \u001b[38;5;124m'\u001b[39m\u001b[38;5;124mКороль\u001b[39m\u001b[38;5;124m'\u001b[39m, \u001b[38;5;124m'\u001b[39m\u001b[38;5;124mТуз\u001b[39m\u001b[38;5;124m'\u001b[39m] , \u001b[38;5;28;01mFalse\u001b[39;00m, \u001b[38;5;124m'\u001b[39m\u001b[38;5;124m+\u001b[39m\u001b[38;5;124m'\u001b[39m)\n\u001b[0;32m     27\u001b[0m \u001b[38;5;66;03m# Создаем генератор на основе колоды\u001b[39;00m\n\u001b[0;32m     28\u001b[0m deck_generator \u001b[38;5;241m=\u001b[39m GenDeck(\u001b[38;5;28mlist\u001b[39m(deck_list))\n",
      "\u001b[1;31mNameError\u001b[0m: name 'generate_deck' is not defined"
     ]
    }
   ],
   "source": [
    "import random\n",
    "\n",
    "def generate_deck(\n",
    "    num_cards: int = 36,\n",
    "    suits: list[str] = ['Черви', 'Бубны', 'Крести', 'Пики'],\n",
    "    values: list[str] = ['2', '3', '4', '5', '6', '7', '8', '9', '10', 'Валет', 'Дама', 'Король', 'Туз'],\n",
    "    shuffle: bool = False,\n",
    "    sort_order: str = None) -> list[tuple[str, str]]:\n",
    "\n",
    "     # Проверка числа карт\n",
    "    if not isinstance(num_cards, int) or num_cards <= 0:\n",
    "        raise ValueError(\"Количество карт должно быть положительным целым числом\")\n",
    "    \n",
    "    \n",
    "    # Проверка мастей\n",
    "    if not isinstance(suits, list) or not all(isinstance(suit, str) for suit in suits):\n",
    "        raise ValueError(\"Масти должны быть представлены в виде списка строк\")\n",
    "\n",
    "\n",
    "    # Проверка значений карт\n",
    "    if not isinstance(values, list) or not all(isinstance(value, str) for value in values):\n",
    "        raise ValueError(\"Значения карт должны быть представлены в виде списка строк\")\n",
    "\n",
    "    \n",
    "    # Проверка наличия sort и ее корректности\n",
    "    if sort_order not in [None, '+', '-']:\n",
    "        raise ValueError(\"Некорректный порядок сортировки. Допустимые значения: None, '+', '-'\")\n",
    "\n",
    "\n",
    "    deck = [(value, suit) for suit in suits for value in values]\n",
    "    deck = deck[:num_cards]\n",
    "\n",
    "    if sort_order == '+':\n",
    "        deck.sort(key=lambda x: (values.index(x[0]), suits.index(x[1])))\n",
    "    elif sort_order == '-':\n",
    "        deck.sort(key=lambda x: (values.index(x[0]), suits.index(x[1])), reverse=True)\n",
    "\n",
    "    if shuffle:\n",
    "        random.shuffle(deck)\n",
    "\n",
    "    return deck\n",
    "\n",
    "\n"
   ]
  },
  {
   "cell_type": "code",
   "execution_count": null,
   "metadata": {},
   "outputs": [],
   "source": [
    "# Примеры использования\n",
    "print(\"Колода по умолчанию с 36 картами:\")\n",
    "print(generate_deck())\n",
    "\n",
    "print(\"\\n Колода с 52 картами, перемешанная:\")\n",
    "print(generate_deck(52, shuffle=True))\n",
    "\n",
    "print(\"\\n Пользовательская колода с 24 картами, 2 мастями, только числовыми значениями, отсортированная по убыванию:\")\n",
    "print(generate_deck(24, suits=['Черви', 'Бубны'], values=['2', '3', '4', '5', '6', '7'], sort_order='-'))\n",
    "\n",
    "# Колода с 24 картами, 2 мастями, только числовыми значениями, отсортированная по возрастанию\n",
    "print(\"\\nКолода с 24 картами, 2 мастями, отсортированная по возрастанию:\")\n",
    "print(generate_deck(24, ['Черви', 'Бубны'], ['2', '3', '4', '5', '6', '7', '8', '9', 'Валет', 'Дама', 'Король', 'Туз'] , False, '+'))"
   ]
  },
  {
   "cell_type": "code",
   "execution_count": 2,
   "metadata": {},
   "outputs": [],
   "source": [
    "import random\n",
    "\n",
    "def GenDeck(l_elem: list[str] = None, num_elem: int = 1):\n",
    "    if l_elem is None:\n",
    "        raise ValueError(\"Список элементов не может быть пустым\")\n",
    "\n",
    "    while len(l_elem) > 0:\n",
    "        choices = random.sample(l_elem, min(num_elem, len(l_elem)))\n",
    "        for choice in choices:\n",
    "            l_elem.remove(choice)\n",
    "            yield choice"
   ]
  },
  {
   "cell_type": "code",
   "execution_count": null,
   "metadata": {},
   "outputs": [],
   "source": [
    "# Пример использования\n",
    "cards = [\"2 of Hearts\", \"3 of Hearts\", \"4 of Hearts\", \"5 of Hearts\", \"6 of Hearts\"]\n",
    "deck = GenDeck(cards, num_elem=2)\n",
    "\n",
    "print(\"Пример использования:\")\n",
    "try:\n",
    "    for _ in range(10):\n",
    "        print(next(deck))\n",
    "except StopIteration:\n",
    "    print(\"Генератор закончил работу\")\n",
    "\n",
    "# Создаем колоду с помощью generate_deck\n",
    "deck_list = generate_deck(24, ['Черви', 'Бубны'], ['2', '3', '4', '5', '6', '7', '8', '9', 'Валет', 'Дама', 'Король', 'Туз'] , False, '+')\n",
    "\n",
    "# Создаем генератор на основе колоды\n",
    "deck_generator = GenDeck(list(deck_list))\n",
    "\n",
    "# Выводим результаты работы генератора\n",
    "print(\"\\nКолода с 24 картами, 2 мастями, отсортированная по возрастанию:\")\n",
    "for _ in range(24):  # Печатаем все карты\n",
    "    print(next(deck_generator))"
   ]
  }
 ],
 "metadata": {
  "kernelspec": {
   "display_name": "Python 3",
   "language": "python",
   "name": "python3"
  },
  "language_info": {
   "codemirror_mode": {
    "name": "ipython",
    "version": 3
   },
   "file_extension": ".py",
   "mimetype": "text/x-python",
   "name": "python",
   "nbconvert_exporter": "python",
   "pygments_lexer": "ipython3",
   "version": "3.11.9"
  }
 },
 "nbformat": 4,
 "nbformat_minor": 2
}
