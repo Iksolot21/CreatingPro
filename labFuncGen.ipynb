{
 "cells": [
  {
   "cell_type": "markdown",
   "metadata": {},
   "source": [
    "# Генератор функция"
   ]
  },
  {
   "cell_type": "code",
   "execution_count": 1,
   "metadata": {},
   "outputs": [
    {
     "name": "stdout",
     "output_type": "stream",
     "text": [
      "(0, 'A') (1, 'B') (2, 'C')\n"
     ]
    }
   ],
   "source": [
    "it = enumerate('ABC')\n",
    "print(*it)"
   ]
  },
  {
   "cell_type": "code",
   "execution_count": null,
   "metadata": {},
   "outputs": [],
   "source": [
    "it = reversed('ABC')\n",
    "print(*it)"
   ]
  },
  {
   "cell_type": "code",
   "execution_count": 4,
   "metadata": {},
   "outputs": [
    {
     "name": "stdout",
     "output_type": "stream",
     "text": [
      "<generator object func1 at 0x00000165D51DDBC0>\n",
      "10\n",
      "20\n",
      "30\n",
      "10 20 30\n"
     ]
    }
   ],
   "source": [
    "def func1():\n",
    "    yield 10\n",
    "    yield 20\n",
    "    yield 30\n",
    "print(func1())\n",
    "\n",
    "it = func1()\n",
    "print(next(it))\n",
    "print(next(it))\n",
    "print(next(it))\n",
    "\n",
    "print(*func1())"
   ]
  },
  {
   "cell_type": "code",
   "execution_count": 5,
   "metadata": {},
   "outputs": [
    {
     "name": "stdout",
     "output_type": "stream",
     "text": [
      "0 1 2 3\n"
     ]
    }
   ],
   "source": [
    "def func1(n):\n",
    "    for i in range(n):\n",
    "        yield i\n",
    "\n",
    "print(*func1(4))"
   ]
  },
  {
   "cell_type": "code",
   "execution_count": 6,
   "metadata": {},
   "outputs": [
    {
     "name": "stdout",
     "output_type": "stream",
     "text": [
      "100 qwerty йцукен 0 1 2 A B C 200\n"
     ]
    }
   ],
   "source": [
    "def func2():\n",
    "    yield 'qwerty'\n",
    "    yield 'йцукен'\n",
    "\n",
    "def func1():\n",
    " yield 100\n",
    " yield from func2()\n",
    " yield from range(3)\n",
    " yield from 'ABC'\n",
    " yield 200\n",
    "\n",
    "print(*func1())\n"
   ]
  },
  {
   "cell_type": "code",
   "execution_count": null,
   "metadata": {},
   "outputs": [],
   "source": [
    "for i in func1():\n",
    "{\n",
    "    print(i,end=' ')\n",
    "}"
   ]
  },
  {
   "cell_type": "code",
   "execution_count": 19,
   "metadata": {},
   "outputs": [
    {
     "name": "stdout",
     "output_type": "stream",
     "text": [
      "Москва\n",
      "Воронеж\n",
      "Тула\n",
      "Москва\n",
      "Воронеж\n"
     ]
    }
   ],
   "source": [
    "def my_cycle(iterable):\n",
    "    while True:\n",
    "        for element in iterable:\n",
    "            yield element\n",
    "it= my_cycle(['Москва', 'Воронеж', 'Тула'])\n",
    "print(next(it))\n",
    "print(next(it))\n",
    "print(next(it))\n",
    "print(next(it))\n",
    "print(next(it))"
   ]
  },
  {
   "cell_type": "code",
   "execution_count": 20,
   "metadata": {},
   "outputs": [
    {
     "name": "stdout",
     "output_type": "stream",
     "text": [
      "A B C A B C A B C A "
     ]
    }
   ],
   "source": [
    "n= 0 \n",
    "for i in my_cycle(\"ABC\"):\n",
    "    if n>=10:\n",
    "        break\n",
    "    print(i,end=' ')\n",
    "    n+=1"
   ]
  },
  {
   "cell_type": "code",
   "execution_count": null,
   "metadata": {},
   "outputs": [],
   "source": []
  }
 ],
 "metadata": {
  "kernelspec": {
   "display_name": "Python 3",
   "language": "python",
   "name": "python3"
  },
  "language_info": {
   "codemirror_mode": {
    "name": "ipython",
    "version": 3
   },
   "file_extension": ".py",
   "mimetype": "text/x-python",
   "name": "python",
   "nbconvert_exporter": "python",
   "pygments_lexer": "ipython3",
   "version": "3.11.8"
  }
 },
 "nbformat": 4,
 "nbformat_minor": 2
}
