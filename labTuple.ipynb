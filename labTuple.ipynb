{
 "cells": [
  {
   "cell_type": "markdown",
   "metadata": {},
   "source": [
    "# Картеж (tuple)\n",
    "\n",
    "Картеж (tuple) - неизменяемый список"
   ]
  },
  {
   "cell_type": "code",
   "execution_count": 1,
   "metadata": {},
   "outputs": [
    {
     "data": {
      "text/plain": [
       "(1, 2, 'Привет', 3.13)"
      ]
     },
     "execution_count": 1,
     "metadata": {},
     "output_type": "execute_result"
    }
   ],
   "source": [
    "(1,2,\"Привет\",3.13)"
   ]
  },
  {
   "cell_type": "code",
   "execution_count": 2,
   "metadata": {},
   "outputs": [
    {
     "data": {
      "text/plain": [
       "(1, 2, 'Привет', 3.13)"
      ]
     },
     "execution_count": 2,
     "metadata": {},
     "output_type": "execute_result"
    }
   ],
   "source": [
    "v= (1,2,\"Привет\",3.13)\n",
    "v"
   ]
  },
  {
   "cell_type": "code",
   "execution_count": 4,
   "metadata": {},
   "outputs": [
    {
     "name": "stdout",
     "output_type": "stream",
     "text": [
      "<class 'tuple'>\n"
     ]
    }
   ],
   "source": [
    "v= 1,2,3,4\n",
    "v\n",
    "print(type(v))"
   ]
  },
  {
   "cell_type": "code",
   "execution_count": 5,
   "metadata": {},
   "outputs": [
    {
     "data": {
      "text/plain": [
       "('q', 'w', 'e', 'r', 't', 'y')"
      ]
     },
     "execution_count": 5,
     "metadata": {},
     "output_type": "execute_result"
    }
   ],
   "source": [
    "tuple(\"qwerty\")"
   ]
  },
  {
   "cell_type": "code",
   "execution_count": 6,
   "metadata": {},
   "outputs": [
    {
     "data": {
      "text/plain": [
       "(0, 1, 2, 3, 4)"
      ]
     },
     "execution_count": 6,
     "metadata": {},
     "output_type": "execute_result"
    }
   ],
   "source": [
    "tuple(range(5))"
   ]
  },
  {
   "cell_type": "code",
   "execution_count": 7,
   "metadata": {},
   "outputs": [
    {
     "name": "stdout",
     "output_type": "stream",
     "text": [
      "<class 'int'>\n",
      "<class 'tuple'>\n"
     ]
    }
   ],
   "source": [
    "v = (1)\n",
    "print(type(v))\n",
    "v = (1,)\n",
    "print(type(v))"
   ]
  },
  {
   "cell_type": "code",
   "execution_count": null,
   "metadata": {},
   "outputs": [],
   "source": [
    "params = tuple(range(1,5))\n",
    "print(params)"
   ]
  },
  {
   "cell_type": "code",
   "execution_count": 3,
   "metadata": {},
   "outputs": [
    {
     "name": "stdout",
     "output_type": "stream",
     "text": [
      "1 2 3 4\n",
      "1 2 [3, 4]\n",
      "[1, 2, 3] 4\n"
     ]
    }
   ],
   "source": [
    "\n",
    "a, b, c, d,  = params\n",
    "print(a, b,c ,d)\n",
    "a,b, *rest = params\n",
    "print(a,b,rest)\n",
    "*rest,f = params\n",
    "print(rest,f)"
   ]
  },
  {
   "cell_type": "code",
   "execution_count": 13,
   "metadata": {},
   "outputs": [
    {
     "name": "stdout",
     "output_type": "stream",
     "text": [
      "[1, 2, 3]\n",
      "<class 'list'>\n",
      "<class 'tuple'>\n",
      "<class 'list'>\n"
     ]
    }
   ],
   "source": [
    "a=[1,2,3]\n",
    "b=tuple(a)\n",
    "c=list(b)\n",
    "print(c)\n",
    "print(type(a))\n",
    "print(type(b))\n",
    "print(type(c))"
   ]
  },
  {
   "cell_type": "code",
   "execution_count": 4,
   "metadata": {},
   "outputs": [
    {
     "name": "stdout",
     "output_type": "stream",
     "text": [
      "[(2, 3), (1, 4), (3, 5)]\n"
     ]
    }
   ],
   "source": [
    "points = [(2,3),(1,4),(3,5)]\n",
    "print(points)"
   ]
  },
  {
   "cell_type": "code",
   "execution_count": 5,
   "metadata": {},
   "outputs": [
    {
     "name": "stdout",
     "output_type": "stream",
     "text": [
      "(2, 3) <class 'tuple'>\n",
      "(1, 4) <class 'tuple'>\n",
      "(3, 5) <class 'tuple'>\n"
     ]
    }
   ],
   "source": [
    "for point in points:\n",
    "    x=point[0]\n",
    "    y=point[1]\n",
    "    print(point,type(point))"
   ]
  },
  {
   "cell_type": "code",
   "execution_count": 6,
   "metadata": {},
   "outputs": [
    {
     "name": "stdout",
     "output_type": "stream",
     "text": [
      "2,3\n",
      "1,4\n",
      "3,5\n"
     ]
    }
   ],
   "source": [
    "for point in points:\n",
    "    x=point[0]\n",
    "    y=point[1]\n",
    "    print(f\"{x},{y}\")"
   ]
  },
  {
   "cell_type": "code",
   "execution_count": 7,
   "metadata": {},
   "outputs": [
    {
     "name": "stdout",
     "output_type": "stream",
     "text": [
      "x=2,y=3\n",
      "x=1,y=4\n",
      "x=3,y=5\n"
     ]
    }
   ],
   "source": [
    "for point in points:\n",
    "    x,y = point\n",
    "    print(f\"{x=},{y=}\")"
   ]
  },
  {
   "cell_type": "code",
   "execution_count": 8,
   "metadata": {},
   "outputs": [
    {
     "name": "stdout",
     "output_type": "stream",
     "text": [
      "x=2,y=3\n",
      "x=1,y=4\n",
      "x=3,y=5\n"
     ]
    }
   ],
   "source": [
    "for x,y in points:\n",
    "    print(f\"{x=},{y=}\")"
   ]
  },
  {
   "cell_type": "code",
   "execution_count": 9,
   "metadata": {},
   "outputs": [
    {
     "name": "stdout",
     "output_type": "stream",
     "text": [
      "0) x=2, y=3\n",
      "1) x=1, y=4\n",
      "2) x=3, y=5\n"
     ]
    }
   ],
   "source": [
    "points = [(2,3),(1,4),(3,5)]\n",
    "for n, (x,y) in enumerate(points):\n",
    "    print(f\"{n}) {x=}, {y=}\")"
   ]
  },
  {
   "cell_type": "code",
   "execution_count": 10,
   "metadata": {},
   "outputs": [
    {
     "name": "stdout",
     "output_type": "stream",
     "text": [
      "(2, 3)\n",
      "x=2,y=3\n"
     ]
    }
   ],
   "source": [
    "points = [(2,3),(1,4),(3,5)]\n",
    "def fun(x,y):\n",
    "    print(f\"{x=},{y=}\")\n",
    "\n",
    "point = points[0]\n",
    "print(point)\n",
    "fun(*point)"
   ]
  },
  {
   "cell_type": "code",
   "execution_count": 11,
   "metadata": {},
   "outputs": [
    {
     "name": "stdout",
     "output_type": "stream",
     "text": [
      "a=3, b=1, c=2\n"
     ]
    }
   ],
   "source": [
    "a, b, c = (1, 2, 3)\n",
    "a, b, c = 1, 2, 3\n",
    "a, b, c = c, a, b\n",
    "print(f\"{a=}, {b=}, {c=}\")\n",
    "\n"
   ]
  }
 ],
 "metadata": {
  "kernelspec": {
   "display_name": "Python 3",
   "language": "python",
   "name": "python3"
  },
  "language_info": {
   "codemirror_mode": {
    "name": "ipython",
    "version": 3
   },
   "file_extension": ".py",
   "mimetype": "text/x-python",
   "name": "python",
   "nbconvert_exporter": "python",
   "pygments_lexer": "ipython3",
   "version": "3.11.8"
  }
 },
 "nbformat": 4,
 "nbformat_minor": 2
}
