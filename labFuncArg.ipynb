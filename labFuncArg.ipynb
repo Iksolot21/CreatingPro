{
 "cells": [
  {
   "cell_type": "markdown",
   "metadata": {},
   "source": [
    "# Аргументы функции\n",
    "\n",
    "Способы:\n",
    "* неизменяемые объекты \"по значению\"\n",
    "* изменяемые объекты передаются \"по ссылке\""
   ]
  },
  {
   "cell_type": "code",
   "execution_count": 2,
   "metadata": {},
   "outputs": [
    {
     "name": "stdout",
     "output_type": "stream",
     "text": [
      "show_int: x=10\n",
      "x=1\n"
     ]
    }
   ],
   "source": [
    "# по значению\n",
    "def show_int(x):\n",
    "    x=10\n",
    "    print(f\"show_int: {x=}\")\n",
    "x=1\n",
    "show_int(x)\n",
    "print(f\"{x=}\")"
   ]
  },
  {
   "cell_type": "code",
   "execution_count": 3,
   "metadata": {},
   "outputs": [
    {
     "name": "stdout",
     "output_type": "stream",
     "text": [
      "show_cities: cities=['Тула', 'Воронеж']\n",
      "cities=['Тула', 'Воронеж']\n"
     ]
    }
   ],
   "source": [
    "# по ссылке\n",
    "def show_cities(cities: list):\n",
    "    cities.append('Воронеж')\n",
    "    print(f\"show_cities: {cities=}\")\n",
    "cities =['Тула']\n",
    "show_cities(cities)\n",
    "print(f\"{cities=}\")"
   ]
  },
  {
   "cell_type": "code",
   "execution_count": null,
   "metadata": {},
   "outputs": [],
   "source": []
  }
 ],
 "metadata": {
  "kernelspec": {
   "display_name": "Python 3",
   "language": "python",
   "name": "python3"
  },
  "language_info": {
   "codemirror_mode": {
    "name": "ipython",
    "version": 3
   },
   "file_extension": ".py",
   "mimetype": "text/x-python",
   "name": "python",
   "nbconvert_exporter": "python",
   "pygments_lexer": "ipython3",
   "version": "3.11.8"
  }
 },
 "nbformat": 4,
 "nbformat_minor": 2
}
