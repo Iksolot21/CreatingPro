{
 "cells": [
  {
   "cell_type": "code",
   "execution_count": 1,
   "metadata": {},
   "outputs": [
    {
     "name": "stdout",
     "output_type": "stream",
     "text": [
      "Aligned image saved as aligned_image.jpg\n"
     ]
    }
   ],
   "source": [
    "import cv2\n",
    "import numpy as np\n",
    "\n",
    "def auto_align_image(image):\n",
    "    # Convert the image to grayscale\n",
    "    gray = cv2.cvtColor(image, cv2.COLOR_BGR2GRAY)\n",
    "\n",
    "    # Adaptive thresholding for Canny edge detection\n",
    "    median_intensity = np.median(gray)\n",
    "    lower_threshold = int(max(0, (1.0 - 0.33) * median_intensity))\n",
    "    upper_threshold = int(min(255, (1.0 + 0.33) * median_intensity))\n",
    "    edges = cv2.Canny(gray, lower_threshold, upper_threshold)\n",
    "\n",
    "    # Apply Probabilistic Hough Line Transform with adaptive parameters\n",
    "    minLineLength = max(50, int(0.05 * max(image.shape[:2])))\n",
    "    maxLineGap = max(10, int(0.02 * max(image.shape[:2])))\n",
    "    lines = cv2.HoughLinesP(edges, 1, np.pi/180, 100, minLineLength=minLineLength, maxLineGap=maxLineGap)\n",
    "\n",
    "    if lines is not None and len(lines) > 1:\n",
    "        # Filter out short and nearly horizontal/vertical lines with better criteria\n",
    "        filtered_lines = []\n",
    "        for line in lines:\n",
    "            x1, y1, x2, y2 = line[0]\n",
    "            length = np.sqrt((x2 - x1)**2 + (y2 - y1)**2)\n",
    "            angle = np.arctan2(y2 - y1, x2 - x1) * 180 / np.pi\n",
    "            if length > 100 and not (75 < abs(angle) < 105):\n",
    "                filtered_lines.append(line)\n",
    "\n",
    "        # Recalculate angles for filtered lines\n",
    "        angles = [np.arctan2(y2 - y1, x2 - x1) * 180 / np.pi for line in filtered_lines]\n",
    "\n",
    "        if angles:\n",
    "            # Calculate the median angle\n",
    "            median_angle = np.median(angles)\n",
    "\n",
    "            # Rotate the image to correct the skew\n",
    "            center = (image.shape[1] // 2, image.shape[0] // 2)\n",
    "            rotation_matrix = cv2.getRotationMatrix2D(center, median_angle, 1.0)\n",
    "            aligned_image = cv2.warpAffine(image, rotation_matrix, (image.shape[1], image.shape[0]), borderMode=cv2.BORDER_CONSTANT, borderValue=(255, 255, 255))\n",
    "            return aligned_image\n",
    "        else:\n",
    "            print(\"No valid angles found.\")\n",
    "            return image\n",
    "    else:\n",
    "        print(\"Not enough lines detected for alignment.\")\n",
    "        return image\n",
    "\n",
    "if __name__ == '__main__':\n",
    "    # Specify the path to the image\n",
    "    image_path = \"rus.png\"\n",
    "\n",
    "    # Read image to be aligned\n",
    "    image = cv2.imread(image_path, cv2.IMREAD_COLOR)\n",
    "\n",
    "    # Check if image was successfully loaded\n",
    "    if image is None:\n",
    "        print(f\"Error: Could not load image at {image_path}\")\n",
    "    else:\n",
    "        # Align the image\n",
    "        aligned_image = auto_align_image(image)\n",
    "\n",
    "        # Save the aligned image\n",
    "        output_path = \"aligned_image.jpg\"\n",
    "        cv2.imwrite(output_path, aligned_image)\n",
    "        print(f\"Aligned image saved as {output_path}\")"
   ]
  },
  {
   "cell_type": "code",
   "execution_count": 9,
   "metadata": {},
   "outputs": [
    {
     "name": "stdout",
     "output_type": "stream",
     "text": [
      "Aligned image saved as aligned_image.jpg\n"
     ]
    }
   ],
   "source": []
  }
 ],
 "metadata": {
  "kernelspec": {
   "display_name": "Python 3",
   "language": "python",
   "name": "python3"
  },
  "language_info": {
   "codemirror_mode": {
    "name": "ipython",
    "version": 3
   },
   "file_extension": ".py",
   "mimetype": "text/x-python",
   "name": "python",
   "nbconvert_exporter": "python",
   "pygments_lexer": "ipython3",
   "version": "3.11.9"
  }
 },
 "nbformat": 4,
 "nbformat_minor": 2
}
