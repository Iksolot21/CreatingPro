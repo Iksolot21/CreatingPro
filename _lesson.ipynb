{
 "cells": [
  {
   "cell_type": "markdown",
   "metadata": {},
   "source": [
    "# Занятие по пайтон\n",
    "2024.02.23\n",
    "* aa\n",
    "* aa"
   ]
  }
 ],
 "metadata": {
  "language_info": {
   "name": "python"
  }
 },
 "nbformat": 4,
 "nbformat_minor": 2
}
