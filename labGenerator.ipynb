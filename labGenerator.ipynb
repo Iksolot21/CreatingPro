{
 "cells": [
  {
   "cell_type": "markdown",
   "metadata": {},
   "source": [
    "# Генератор выражение (Generator expression)\n",
    "\n",
    "`Генератор выражение (Generator expression)` - выражение в круглых скобках, которое создаёт `генератор`.\n",
    "\n",
    "* функция range() - ленивая последовательность\n",
    "* функция итератор\n",
    "* генератор функция\n",
    "* генератор выражение\n",
    "* модуль itertools"
   ]
  },
  {
   "cell_type": "code",
   "execution_count": 1,
   "metadata": {},
   "outputs": [
    {
     "name": "stdout",
     "output_type": "stream",
     "text": [
      "<class 'range'>\n",
      "5\n",
      "1\n",
      "5\n",
      "4\n"
     ]
    }
   ],
   "source": [
    "x = range(5)\n",
    "print(type(x))\n",
    "print(len(x))\n",
    "print(x[1])\n",
    "print(len(x))\n",
    "print(x[-1])"
   ]
  },
  {
   "cell_type": "code",
   "execution_count": 2,
   "metadata": {},
   "outputs": [
    {
     "name": "stdout",
     "output_type": "stream",
     "text": [
      "HHH\n",
      "eee\n",
      "lll lll ooo\n"
     ]
    }
   ],
   "source": [
    "it = (i *3 for i in 'Hello')\n",
    "print(next(it))\n",
    "print(it.__next__())\n",
    "print(*it)"
   ]
  },
  {
   "cell_type": "code",
   "execution_count": 3,
   "metadata": {},
   "outputs": [
    {
     "name": "stdout",
     "output_type": "stream",
     "text": [
      "0 1 200 3 400 5 600 7 800 9\n"
     ]
    }
   ],
   "source": [
    "it = (\n",
    "    i if i%2 else i *100\n",
    "    for i in range(10)\n",
    ")\n",
    "print(*it)"
   ]
  },
  {
   "cell_type": "code",
   "execution_count": 4,
   "metadata": {},
   "outputs": [
    {
     "name": "stdout",
     "output_type": "stream",
     "text": [
      "[0, 1, 200, 3, 400, 5, 600, 7, 800, 9]\n"
     ]
    }
   ],
   "source": [
    "it = (\n",
    "    i if i%2 else i *100\n",
    "    for i in range(10)\n",
    ")\n",
    "print(list(it))\n"
   ]
  }
 ],
 "metadata": {
  "kernelspec": {
   "display_name": "Python 3",
   "language": "python",
   "name": "python3"
  },
  "language_info": {
   "codemirror_mode": {
    "name": "ipython",
    "version": 3
   },
   "file_extension": ".py",
   "mimetype": "text/x-python",
   "name": "python",
   "nbconvert_exporter": "python",
   "pygments_lexer": "ipython3",
   "version": "3.11.8"
  }
 },
 "nbformat": 4,
 "nbformat_minor": 2
}
