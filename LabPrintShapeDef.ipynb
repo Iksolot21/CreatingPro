{
 "cells": [
  {
   "cell_type": "code",
   "execution_count": null,
   "metadata": {},
   "outputs": [
    {
     "name": "stdout",
     "output_type": "stream",
     "text": [
      "***************\n",
      "***************\n",
      "***************\n",
      "***************\n",
      "***************\n"
     ]
    }
   ],
   "source": [
    "def draw_filled_rectangle(w, h, fill='*'):\n",
    "    for i in range(h):\n",
    "        print(fill * w)\n",
    "draw_filled_rectangle(15, 5, filling='*')"
   ]
  },
  {
   "cell_type": "code",
   "execution_count": null,
   "metadata": {},
   "outputs": [
    {
     "name": "stdout",
     "output_type": "stream",
     "text": [
      "***************\n",
      "*             *\n",
      "*             *\n",
      "*             *\n",
      "*             *\n",
      "***************\n"
     ]
    }
   ],
   "source": [
    "def draw_empty_rectangle(w, h, fill='*'):\n",
    "    print(fill * w)\n",
    "    for i in range(h-2):\n",
    "        print(fill + ' ' * (w-2) + fill)\n",
    "    print(fill * w)\n",
    "draw_empty_rectangle(15, 6, filling='*')"
   ]
  },
  {
   "cell_type": "code",
   "execution_count": null,
   "metadata": {},
   "outputs": [
    {
     "name": "stdout",
     "output_type": "stream",
     "text": [
      "    *\n",
      "   **\n",
      "  ***\n",
      " ****\n",
      "*****\n"
     ]
    }
   ],
   "source": [
    "def draw_down_right_triangle(h, fill='*'):\n",
    "    for i in range(1, h + 1):\n",
    "        spaces = ' ' * (h - i)\n",
    "        print(spaces + fill * i)\n",
    "draw_down_right_triangle(5, filling='*')"
   ]
  },
  {
   "cell_type": "code",
   "execution_count": null,
   "metadata": {},
   "outputs": [
    {
     "name": "stdout",
     "output_type": "stream",
     "text": [
      "*    \n",
      "**   \n",
      "***  \n",
      "**** \n",
      "*****\n"
     ]
    }
   ],
   "source": [
    "def draw_down_left_triangle(h, fill='*'):\n",
    "    for i in range(1, h + 1):\n",
    "        spaces = ' ' * (h - i)\n",
    "        print(fill * i + spaces)\n",
    "draw_down_left_triangle(5, filling='*')"
   ]
  },
  {
   "cell_type": "code",
   "execution_count": null,
   "metadata": {},
   "outputs": [
    {
     "name": "stdout",
     "output_type": "stream",
     "text": [
      "*******\n",
      "****** \n",
      "*****  \n",
      "****   \n",
      "***    \n",
      "**     \n",
      "*      \n",
      "       \n"
     ]
    }
   ],
   "source": [
    "def draw_up_left_triangle(h, fill='*'):\n",
    "    for i in range(0, h + 1):\n",
    "        spaces = ' ' * (i)\n",
    "        print(fill * (h - i) + spaces)\n",
    "draw_up_left_triangle(7, filling='*')"
   ]
  },
  {
   "cell_type": "code",
   "execution_count": null,
   "metadata": {},
   "outputs": [
    {
     "name": "stdout",
     "output_type": "stream",
     "text": [
      "*****\n",
      " ****\n",
      "  ***\n",
      "   **\n",
      "    *\n",
      "     \n"
     ]
    }
   ],
   "source": [
    "def draw_up_right_triangle(h, fill='*'):\n",
    "    for i in range(0, h + 1):\n",
    "        spaces = ' ' * (i)\n",
    "        print(spaces + fill * (h - i))\n",
    "draw_up_right_triangle(5, filling='*')"
   ]
  },
  {
   "cell_type": "code",
   "execution_count": null,
   "metadata": {},
   "outputs": [
    {
     "name": "stdout",
     "output_type": "stream",
     "text": [
      "     *\n",
      "    ***\n",
      "   *****\n",
      "  *******\n",
      " *********\n",
      "***********\n",
      " *********\n",
      "  *******\n",
      "   *****\n",
      "    ***\n",
      "     *\n"
     ]
    }
   ],
   "source": [
    "def draw_diamond(size, fill='*'):\n",
    "    for i in range(1, size + 1):\n",
    "        spaces = ' ' * (size - i)\n",
    "        print(spaces + fill * (2 * i - 1))\n",
    "    for i in range(size - 1, 0, -1):\n",
    "        spaces = ' ' * (size - i)\n",
    "        print(spaces + fill * (2 * i - 1))\n",
    "draw_diamond(6, filling='*')"
   ]
  },
  {
   "cell_type": "code",
   "execution_count": null,
   "metadata": {},
   "outputs": [
    {
     "name": "stdout",
     "output_type": "stream",
     "text": [
      "***************\n",
      "***************\n",
      "******* *******\n",
      "******   ******\n",
      "*****     *****\n",
      "****       ****\n",
      "***         ***\n",
      "**           **\n",
      "***         ***\n",
      "****       ****\n",
      "*****     *****\n",
      "******   ******\n",
      "******* *******\n",
      "***************\n",
      "***************\n"
     ]
    }
   ],
   "source": [
    "def draw_diamond_empty(size, fill='*'):\n",
    "    print((2*size+3)*fill)\n",
    "    print((2*size+3)*fill)\n",
    "    for i in range(1, size):\n",
    "        stars = fill * (size-i)\n",
    "        spaces = ' ' * (2*i-1)\n",
    "        print(2*fill+ stars + spaces + stars +fill*2)\n",
    "    print(2*fill+' '*(size*2-1)+fill*2)\n",
    "    for i in range(size-1, 0, -1):\n",
    "        stars = fill * (size-i)\n",
    "        spaces = ' ' * (2*i-1)\n",
    "        print(2*fill + stars + spaces + stars + fill*2)\n",
    "    print((2*size+3)*fill)\n",
    "    print((2*size+3)*fill)\n",
    "draw_diamond_empty(6, filling='*')"
   ]
  },
  {
   "cell_type": "code",
   "execution_count": null,
   "metadata": {},
   "outputs": [
    {
     "name": "stdout",
     "output_type": "stream",
     "text": [
      "***********\n",
      " *********\n",
      "  *******\n",
      "   *****\n",
      "    ***\n",
      "     *\n",
      "     *\n",
      "    ***\n",
      "   *****\n",
      "  *******\n",
      " *********\n",
      "***********\n"
     ]
    }
   ],
   "source": [
    "def draw_watches(size, fill='*'):\n",
    "    for i in range(size, 0, -1):\n",
    "        spaces = ' ' * (size - i)\n",
    "        print(spaces + fill * (2 * i - 1))\n",
    "    for i in range(1, size + 1):\n",
    "        spaces = ' ' * (size - i)\n",
    "        print(spaces + fill * (2 * i - 1))\n",
    "draw_watches(height_of_one_part=6, filling='*')"
   ]
  },
  {
   "cell_type": "code",
   "execution_count": null,
   "metadata": {},
   "outputs": [
    {
     "name": "stdout",
     "output_type": "stream",
     "text": [
      "\\                 /\n",
      " \\               /\n",
      "  \\             /\n",
      "   \\           /\n",
      "    \\         /\n",
      "     \\       /\n",
      "      \\     /\n",
      "       \\   /\n",
      "        \\ /\n",
      "        / \\\n",
      "       /   \\\n",
      "      /     \\\n",
      "     /       \\\n",
      "    /         \\\n",
      "   /           \\\n",
      "  /             \\\n",
      " /               \\\n",
      "/                 \\\n"
     ]
    }
   ],
   "source": [
    "def draw_watches_slash(size, fill='*'):\n",
    "    for i in range(size, 1, -1):\n",
    "        k = (2*i)-3\n",
    "        spaces = ' ' * (size - i)\n",
    "        if i>1:\n",
    "            print(spaces + '\\\\' + ' '*k+fill)\n",
    "        else:\n",
    "            print(spaces + '\\\\' * (2 * i - 1))\n",
    "    for i in range(2, size + 1):\n",
    "        k = (2*i)-3\n",
    "        spaces = ' ' * (size - i)\n",
    "        if i>1:\n",
    "            print(spaces + fill + ' '*k+'\\\\')\n",
    "        else:\n",
    "            print(spaces + fill * (2 * i - 1))\n",
    "draw_watches_slash(height_of_one_part=10, filling='/')"
   ]
  },
  {
   "cell_type": "code",
   "execution_count": null,
   "metadata": {},
   "outputs": [
    {
     "name": "stdout",
     "output_type": "stream",
     "text": [
      "888888888888888\n",
      "              8\n",
      "888888888888888\n",
      "8              \n",
      "888888888888888\n",
      "              8\n",
      "888888888888888\n",
      "8              \n",
      "888888888888888\n",
      "              8\n",
      "888888888888888\n",
      "8              \n",
      "888888888888888\n"
     ]
    }
   ],
   "source": [
    "def draw_snake_clockwise(l, h, fill='*'):\n",
    "    m = int(h/2)\n",
    "    n = h%2\n",
    "    for i in range(m):\n",
    "            print(fill * l)\n",
    "            print(' ' * (l-1) + fill)\n",
    "            print(fill * l)\n",
    "            print(fill + ' ' * (l-1))\n",
    "    if n==0:\n",
    "        print(fill * l)\n",
    "    else:\n",
    "        print(fill * l)\n",
    "        print(' ' * (l-1) + fill)\n",
    "        print(fill * l)\n",
    "draw_snake_clockwise(15, 6, '8')"
   ]
  },
  {
   "cell_type": "code",
   "execution_count": null,
   "metadata": {},
   "outputs": [
    {
     "name": "stdout",
     "output_type": "stream",
     "text": [
      "###############\n",
      "#              \n",
      "###############\n",
      "              #\n",
      "###############\n",
      "#              \n",
      "###############\n",
      "              #\n",
      "###############\n",
      "#              \n",
      "###############\n"
     ]
    }
   ],
   "source": [
    "def draw_snake_counterclockwise(l, h, fill='*'):\n",
    "    m = int(h/2)\n",
    "    n = h%2\n",
    "    for i in range(m):\n",
    "            print(fill * l)\n",
    "            print(fill + ' ' * (l-1))\n",
    "            print(fill * l)\n",
    "            print(' ' * (l-1) + fill)\n",
    "    if n==0:\n",
    "        print(fill * l)\n",
    "    else:\n",
    "        print(fill * l)\n",
    "        print(fill + ' ' * (l-1))\n",
    "        print(fill * l)\n",
    "draw_snake_counterclockwise(15, 5, '#')"
   ]
  },
  {
   "cell_type": "code",
   "execution_count": null,
   "metadata": {},
   "outputs": [
    {
     "name": "stdout",
     "output_type": "stream",
     "text": [
      "| ||| ||| ||| |||\n",
      "| | | | | | | | |\n",
      "| | | | | | | | |\n",
      "| | | | | | | | |\n",
      "| | | | | | | | |\n",
      "| | | | | | | | |\n",
      "| | | | | | | | |\n",
      "||| ||| ||| ||| ||\n"
     ]
    }
   ],
   "source": [
    "def draw_horizontal_snake_counterclockwise(l, h, fill='*'):\n",
    "    m = int(h/2)\n",
    "    n = h%2\n",
    "    if n!=0:\n",
    "        print((m+1)*(fill + ' ' + fill*2))\n",
    "        for i in range(l-2):\n",
    "            print((m+1)*(fill + ' ' + fill + ' '))\n",
    "        print((m+1)*(fill*3 + ' '))\n",
    "    else:\n",
    "        print((m)*(fill + ' ' + fill*2)+fill)\n",
    "        for i in range(l-2):\n",
    "            print((m)*(fill + ' ' + fill + ' ')+fill)\n",
    "        print((m)*(fill*3 + ' ')+2*fill)\n",
    "draw_horizontal_snake_counterclockwise(8, 8, '|')"
   ]
  },
  {
   "cell_type": "code",
   "execution_count": null,
   "metadata": {},
   "outputs": [
    {
     "name": "stdout",
     "output_type": "stream",
     "text": [
      "||| ||| ||| ||| ||| ||\n",
      "| | | | | | | | | | |\n",
      "| | | | | | | | | | |\n",
      "| | | | | | | | | | |\n",
      "| | | | | | | | | | |\n",
      "| | | | | | | | | | |\n",
      "| | | | | | | | | | |\n",
      "| ||| ||| ||| ||| |||\n"
     ]
    }
   ],
   "source": [
    "def draw_horizontal_snake_clockwise(l, h, fill='*'):\n",
    "    m = int(h/2)\n",
    "    n = h%2\n",
    "    if n!=0:\n",
    "        print((m+1)*(fill*3 + ' '))\n",
    "        for i in range(l-2):\n",
    "            print((m+1)*(fill + ' ' + fill + ' '))\n",
    "        print((m+1)*(fill + ' ' + fill*2))\n",
    "    else:\n",
    "        print((m)*(fill*3 + ' ')+2*fill)\n",
    "        for i in range(l-2):\n",
    "            print((m)*(fill + ' ' + fill + ' ')+fill)\n",
    "        print((m)*(fill + ' ' + fill*2)+fill)\n",
    "draw_horizontal_snake_clockwise(8, 10, '|')"
   ]
  },
  {
   "cell_type": "code",
   "execution_count": 7,
   "metadata": {},
   "outputs": [
    {
     "name": "stdout",
     "output_type": "stream",
     "text": [
      "Вложенные прямоугольники\n",
      "**********\n",
      "*  *  *  *  *  *  *  *  **\n",
      "*  *                    **\n",
      "*  *                    **\n",
      "*  *                    **\n",
      "*  *                    **\n",
      "*  *                    **\n",
      "*  *                    **\n",
      "*  *  *  *  *  *  *  *  **\n",
      "**********\n"
     ]
    }
   ],
   "source": [
    "def nested_rectangles():\n",
    "    print(\"Вложенные прямоугольники\")\n",
    "    w, h = map(int, input(\"Введите ширину и высоту внешнего прямоугольника: \").split())\n",
    "    n = int(input(\"Введите количество вложенных прямоугольников: \"))\n",
    "    fill = input(\"Введите символ заполнения: \")\n",
    "\n",
    "    def draw_rectangles(w, h, n):\n",
    "        print(fill * w)\n",
    "        for i in range(h - 2):\n",
    "            line = fill\n",
    "            for j in range(w - 2):\n",
    "                line += ' '\n",
    "                for k in range(n):\n",
    "                    if i >= k and i < h - 2 - k and j >= k and j < w - 2 - k:\n",
    "                        line += ' '\n",
    "                    else:\n",
    "                        line += fill\n",
    "            line += fill\n",
    "            print(line)\n",
    "        print(fill * w)\n",
    "\n",
    "    draw_rectangles(w, h, n)\n",
    "nested_rectangles()"
   ]
  },
  {
   "cell_type": "code",
   "execution_count": 1,
   "metadata": {},
   "outputs": [
    {
     "name": "stdout",
     "output_type": "stream",
     "text": [
      "████████████████████████████████████████████████████████████\n",
      "                                                           █\n",
      "██████████████████████████████████████████████████████████ █\n",
      "█                                                        █ █\n",
      "█ ██████████████████████████████████████████████████████ █ █\n",
      "█ █                                                    █ █ █\n",
      "█ █ ██████████████████████████████████████████████████ █ █ █\n",
      "█ █ █                                                █ █ █ █\n",
      "█ █ █ ██████████████████████████████████████████████ █ █ █ █\n",
      "█ █ █ █                                            █ █ █ █ █\n",
      "█ █ █ █ ██████████████████████████████████████████ █ █ █ █ █\n",
      "█ █ █ █ █                                        █ █ █ █ █ █\n",
      "█ █ █ █ █ ██████████████████████████████████████ █ █ █ █ █ █\n",
      "█ █ █ █ █ █                                    █ █ █ █ █ █ █\n",
      "█ █ █ █ █ █ ██████████████████████████████████ █ █ █ █ █ █ █\n",
      "█ █ █ █ █ █ █                                  █ █ █ █ █ █ █\n",
      "█ █ █ █ █ █ █                                  █ █ █ █ █ █ █\n",
      "█ █ █ █ █ █ ████████████████████████████████████ █ █ █ █ █ █\n",
      "█ █ █ █ █ █                                      █ █ █ █ █ █\n",
      "█ █ █ █ █ ████████████████████████████████████████ █ █ █ █ █\n",
      "█ █ █ █ █                                          █ █ █ █ █\n",
      "█ █ █ █ ████████████████████████████████████████████ █ █ █ █\n",
      "█ █ █ █                                              █ █ █ █\n",
      "█ █ █ ████████████████████████████████████████████████ █ █ █\n",
      "█ █ █                                                  █ █ █\n",
      "█ █ ████████████████████████████████████████████████████ █ █\n",
      "█ █                                                      █ █\n",
      "█ ████████████████████████████████████████████████████████ █\n",
      "█                                                          █\n",
      "████████████████████████████████████████████████████████████\n"
     ]
    }
   ],
   "source": [
    "r = int(input())\n",
    "rr = r*2\n",
    "\n",
    "\n",
    "tab=[]\n",
    "\n",
    "for y in range(r):\n",
    "    tab.append([])\n",
    "    for x in range(rr):\n",
    "        tab[y].append(\" \")\n",
    "\n",
    "xp = yp = 0\n",
    "\n",
    "for i in range(r):\n",
    "    if i % 4 == 0:\n",
    "        for j in range(xp, rr - i//4*2 - 1):\n",
    "            tab[yp][xp] = \"█\"\n",
    "            xp+=1\n",
    "    elif i % 4 == 1:\n",
    "        for j in range(yp, r - i//4 * 2 - 1):\n",
    "            tab[yp][xp] = \"█\"\n",
    "            yp+=1\n",
    "    elif i % 4 == 2:\n",
    "        for j in range(xp, i//4 * 2, -1):\n",
    "            tab[yp][xp] = \"█\"\n",
    "            xp-=1\n",
    "    else:\n",
    "        for j in range(yp, i//4*2 + 2, -1):\n",
    "            tab[yp][xp] = \"█\"\n",
    "            yp-=1\n",
    "\n",
    "for y in range(r):\n",
    "    print(''.join(tab[y]))"
   ]
  },
  {
   "cell_type": "code",
   "execution_count": null,
   "metadata": {},
   "outputs": [
    {
     "name": "stdout",
     "output_type": "stream",
     "text": [
      "           *\n",
      "          ***\n",
      "         *****\n",
      "           *\n",
      "          ***\n",
      "         *****\n",
      "           *\n",
      "          ***\n",
      "         *****\n",
      "13\n"
     ]
    }
   ],
   "source": [
    "def draw_christmas_tree(n, fill='*'):\n",
    "    a = 1\n",
    "    m = 4\n",
    "    b = a+m+2*(n-1)\n",
    "    c = b+m\n",
    "    \n",
    "    for k in range(n):\n",
    "        for i in range(1, 4):\n",
    "            spaces = ' ' * (n*m - i)\n",
    "            print(spaces + fill * (2 * i - 1))\n",
    "    print(c)\n",
    "            \n",
    "        \n",
    "draw_christmas_tree(3, '*')"
   ]
  },
  {
   "cell_type": "code",
   "execution_count": null,
   "metadata": {},
   "outputs": [],
   "source": []
  }
 ],
 "metadata": {
  "kernelspec": {
   "display_name": "Python 3",
   "language": "python",
   "name": "python3"
  },
  "language_info": {
   "codemirror_mode": {
    "name": "ipython",
    "version": 3
   },
   "file_extension": ".py",
   "mimetype": "text/x-python",
   "name": "python",
   "nbconvert_exporter": "python",
   "pygments_lexer": "ipython3",
   "version": "3.11.9"
  }
 },
 "nbformat": 4,
 "nbformat_minor": 2
}
