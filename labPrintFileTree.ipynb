{
 "cells": [
  {
   "cell_type": "markdown",
   "metadata": {},
   "source": [
    "# “labPrintFileTree.ipynb” - Распечатать дерево каталогов и файлов в цвете\n",
    "\n",
    "Создать функцию, которая распечатает в консоль дерево каталогов и файлов в цвете.\n",
    "- Входящие параметры:\n",
    "  - путь к каталогу\n",
    "  - маска файлов (по умолчанию, *.*)\n",
    "  - тип дерева (только каталоги, каталоги и файлы)\n",
    "  - цвет каталога (по умолчанию, какой-то цвет)\n",
    "  - цвет файла (по умолчанию, какой-то цвет)\n",
    "  - придумать еще параметры самостоятельно\n",
    "- Помним:\n",
    "  - что необходимо правильно оформлять функции, название, аннотацию типов, описание, название параметров и т.п.\n",
    "  - проверка входящих параметров\n",
    "  - подумать, какие параметры должны быть обязательные, а какие нет и какие значения по умолчанию\n",
    "- Проверка:\n",
    "  - показать использование этой функции на различных примерах с различными параметрами"
   ]
  },
  {
   "cell_type": "code",
   "execution_count": 5,
   "metadata": {},
   "outputs": [],
   "source": [
    "import os\n",
    "from colorama import Fore, Style\n",
    "directory = \"C:/Users/артем/Downloads/\"\n",
    "\n",
    "def print_colored_file_tree(directory, file_mask=\"*.*\", tree_type=\"both\", dir_color=Fore.BLUE, file_color=Fore.GREEN, indent=4):\n",
    "    \"\"\"\n",
    "    Печатает дерево каталогов и файлов в цвете.\n",
    "\n",
    "    Args:\n",
    "        directory (str): Путь к каталогу.\n",
    "        file_mask (str): Маска файлов. По умолчанию \"*.*\".\n",
    "        tree_type (str): Тип дерева: \"directories\" только каталоги, \"both\" каталоги и файлы. По умолчанию \"both\".\n",
    "        dir_color (str): Цвет каталогов. По умолчанию Fore.BLUE.\n",
    "        file_color (str): Цвет файлов. По умолчанию Fore.GREEN.\n",
    "        indent (int): Отступ для отображения уровней вложенности. По умолчанию 4.\n",
    "    \"\"\"\n",
    "    # Проверка существования каталога\n",
    "    if not os.path.exists(directory):\n",
    "        print(\"Directory not found.\")\n",
    "        return\n",
    "\n",
    "    # Функция для печати дерева рекурсивно\n",
    "    def print_tree(path, indent_level=0):\n",
    "        for item in os.listdir(path):\n",
    "            full_path = os.path.join(path, item)\n",
    "            # Если это каталог\n",
    "            if os.path.isdir(full_path):\n",
    "                print(f\"{dir_color}{Style.BRIGHT}{' ' * indent_level}{item}{Style.RESET_ALL}\")\n",
    "                # Рекурсивный вызов для каталога\n",
    "                print_tree(full_path, indent_level + indent)\n",
    "            # Если это файл и тип дерева \"both\"\n",
    "            elif os.path.isfile(full_path) and tree_type == \"both\":\n",
    "                print(f\"{file_color}{' ' * indent_level}{item}{Style.RESET_ALL}\")\n",
    "\n",
    "    # Начало печати дерева\n",
    "    print_tree(directory)\n",
    "    print_colored_file_tree(\"C:/Users/артем/Downloads/Telegram Desktop\", file_mask=\"*.txt\", tree_type=\"both\", dir_color=Fore.CYAN, file_color=Fore.YELLOW)"
   ]
  }
 ],
 "metadata": {
  "kernelspec": {
   "display_name": "Python 3",
   "language": "python",
   "name": "python3"
  },
  "language_info": {
   "codemirror_mode": {
    "name": "ipython",
    "version": 3
   },
   "file_extension": ".py",
   "mimetype": "text/x-python",
   "name": "python",
   "nbconvert_exporter": "python",
   "pygments_lexer": "ipython3",
   "version": "3.11.8"
  }
 },
 "nbformat": 4,
 "nbformat_minor": 2
}
