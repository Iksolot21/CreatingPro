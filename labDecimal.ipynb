{
 "cells": [
  {
   "cell_type": "markdown",
   "metadata": {},
   "source": [
    "# тип Decimal"
   ]
  },
  {
   "cell_type": "code",
   "execution_count": 1,
   "metadata": {},
   "outputs": [
    {
     "data": {
      "text/plain": [
       "0.30000000000000004"
      ]
     },
     "execution_count": 1,
     "metadata": {},
     "output_type": "execute_result"
    }
   ],
   "source": [
    "0.1 + 0.2"
   ]
  },
  {
   "cell_type": "code",
   "execution_count": 4,
   "metadata": {},
   "outputs": [
    {
     "data": {
      "text/plain": [
       "False"
      ]
     },
     "execution_count": 4,
     "metadata": {},
     "output_type": "execute_result"
    }
   ],
   "source": [
    "0.1+ 0.2 ==0.30"
   ]
  },
  {
   "cell_type": "code",
   "execution_count": 6,
   "metadata": {},
   "outputs": [
    {
     "data": {
      "text/plain": [
       "float"
      ]
     },
     "execution_count": 6,
     "metadata": {},
     "output_type": "execute_result"
    }
   ],
   "source": [
    "type(0.1 + 0.2)"
   ]
  },
  {
   "cell_type": "code",
   "execution_count": 7,
   "metadata": {},
   "outputs": [],
   "source": [
    "from decimal import *"
   ]
  },
  {
   "cell_type": "code",
   "execution_count": 8,
   "metadata": {},
   "outputs": [
    {
     "data": {
      "text/plain": [
       "Context(prec=28, rounding=ROUND_HALF_EVEN, Emin=-999999, Emax=999999, capitals=1, clamp=0, flags=[], traps=[InvalidOperation, DivisionByZero, Overflow])"
      ]
     },
     "execution_count": 8,
     "metadata": {},
     "output_type": "execute_result"
    }
   ],
   "source": [
    "getcontext()"
   ]
  },
  {
   "cell_type": "code",
   "execution_count": 9,
   "metadata": {},
   "outputs": [
    {
     "name": "stdout",
     "output_type": "stream",
     "text": [
      "0.1000000000000000055511151231257827021181583404541015625\n",
      "0.1\n",
      "0.1\n"
     ]
    }
   ],
   "source": [
    "print(Decimal(0.1))\n",
    "print(Decimal(str(0.1)))\n",
    "print(Decimal('0.1'))"
   ]
  },
  {
   "cell_type": "code",
   "execution_count": 10,
   "metadata": {},
   "outputs": [
    {
     "data": {
      "text/plain": [
       "True"
      ]
     },
     "execution_count": 10,
     "metadata": {},
     "output_type": "execute_result"
    }
   ],
   "source": [
    "Decimal('0.1') + Decimal('0.2') == Decimal('0.3')"
   ]
  },
  {
   "cell_type": "code",
   "execution_count": 11,
   "metadata": {},
   "outputs": [
    {
     "data": {
      "text/plain": [
       "Decimal('0.3')"
      ]
     },
     "execution_count": 11,
     "metadata": {},
     "output_type": "execute_result"
    }
   ],
   "source": [
    "Decimal('0.1') + Decimal('0.2')"
   ]
  },
  {
   "cell_type": "code",
   "execution_count": 12,
   "metadata": {},
   "outputs": [
    {
     "name": "stdout",
     "output_type": "stream",
     "text": [
      "Infinity\n",
      "-Infinity\n",
      "NaN\n",
      "0\n",
      "-0\n"
     ]
    }
   ],
   "source": [
    "# бесконечность\n",
    "print(Decimal('Inf'))\n",
    "print(Decimal('-Inf'))\n",
    "\n",
    "# не число\n",
    "print(Decimal('Nan'))\n",
    "print(Decimal('+0'))\n",
    "#\n",
    "print(Decimal('-0'))"
   ]
  },
  {
   "cell_type": "markdown",
   "metadata": {},
   "source": [
    "Выбор между float и Decimal\n",
    "\n",
    "||float|Decimal|\n",
    "|-|-|-|\n",
    "|Реализация|`аппаратная` |`программная`|\n",
    "|Скорость|`Да`|-|\n",
    "|Настраеваемость|-|Да|\n",
    "|Для симуляции, игр|Да|-|\n",
    "|Для финансов|-|Да|"
   ]
  },
  {
   "cell_type": "code",
   "execution_count": 18,
   "metadata": {},
   "outputs": [
    {
     "name": "stdout",
     "output_type": "stream",
     "text": [
      "[0.20159373818477588, 0.9454763741868581, 0.9092324793799074, 0.16895212855724284, 0.5916373120987898]\n",
      "[Decimal('0.20159373818477588'), Decimal('0.9454763741868581'), Decimal('0.9092324793799074'), Decimal('0.16895212855724284'), Decimal('0.5916373120987898')]\n",
      "255 ns ± 11.2 ns per loop (mean ± std. dev. of 7 runs, 1,000,000 loops each)\n",
      "926 ns ± 38.5 ns per loop (mean ± std. dev. of 7 runs, 1,000,000 loops each)\n"
     ]
    }
   ],
   "source": [
    "# Q: сравнить производительность float и Decimal\n",
    "\n",
    "import random\n",
    "num1 = [random.random() for _ in range(5)]\n",
    "num2 = list(map(Decimal, map(str,num1)))\n",
    "print(num1)\n",
    "print(num2)\n",
    "\n",
    "def test(numbers):\n",
    "    return sum(numbers)/ len(numbers)\n",
    "\n",
    "%timeit test(num1)\n",
    "%timeit test(num2)\n",
    "\n",
    "# (us) Микросекунды | 1 s = 1_000_000\n",
    "# (ns) Наносекунды | 1 s = 1_000_000_000"
   ]
  },
  {
   "cell_type": "code",
   "execution_count": 19,
   "metadata": {},
   "outputs": [
    {
     "data": {
      "text/plain": [
       "3.4699853587115665"
      ]
     },
     "execution_count": 19,
     "metadata": {},
     "output_type": "execute_result"
    }
   ],
   "source": [
    "2370/683"
   ]
  }
 ],
 "metadata": {
  "kernelspec": {
   "display_name": "Python 3",
   "language": "python",
   "name": "python3"
  },
  "language_info": {
   "codemirror_mode": {
    "name": "ipython",
    "version": 3
   },
   "file_extension": ".py",
   "mimetype": "text/x-python",
   "name": "python",
   "nbconvert_exporter": "python",
   "pygments_lexer": "ipython3",
   "version": "3.11.9"
  }
 },
 "nbformat": 4,
 "nbformat_minor": 2
}
